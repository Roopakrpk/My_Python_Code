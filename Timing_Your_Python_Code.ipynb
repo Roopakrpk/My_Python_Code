{
  "nbformat": 4,
  "nbformat_minor": 0,
  "metadata": {
    "colab": {
      "provenance": [],
      "authorship_tag": "ABX9TyMxGrVbnZlUAFyMfNtTuk2h",
      "include_colab_link": true
    },
    "kernelspec": {
      "name": "python3",
      "display_name": "Python 3"
    },
    "language_info": {
      "name": "python"
    }
  },
  "cells": [
    {
      "cell_type": "markdown",
      "metadata": {
        "id": "view-in-github",
        "colab_type": "text"
      },
      "source": [
        "<a href=\"https://colab.research.google.com/github/Roopakrpk/My_Python_Code/blob/main/Timing_Your_Python_Code.ipynb\" target=\"_parent\"><img src=\"https://colab.research.google.com/assets/colab-badge.svg\" alt=\"Open In Colab\"/></a>"
      ]
    },
    {
      "cell_type": "code",
      "execution_count": 5,
      "metadata": {
        "id": "S5UbpoKR7b68"
      },
      "outputs": [],
      "source": [
        "def func_one(n):\n",
        "  return [str(num) for num in range(n)]"
      ]
    },
    {
      "cell_type": "code",
      "source": [
        "func_one(10)"
      ],
      "metadata": {
        "colab": {
          "base_uri": "https://localhost:8080/"
        },
        "id": "2-nvd6nKqPaa",
        "outputId": "b1ae2dec-5a34-4554-9ce2-bdc580b34921"
      },
      "execution_count": 6,
      "outputs": [
        {
          "output_type": "execute_result",
          "data": {
            "text/plain": [
              "['0', '1', '2', '3', '4', '5', '6', '7', '8', '9']"
            ]
          },
          "metadata": {},
          "execution_count": 6
        }
      ]
    },
    {
      "cell_type": "code",
      "source": [
        "def func_two(n):\n",
        "  return list(map(str,range(n)))"
      ],
      "metadata": {
        "id": "gB4_X6UcqRLl"
      },
      "execution_count": 7,
      "outputs": []
    },
    {
      "cell_type": "code",
      "source": [
        "func_two(10)"
      ],
      "metadata": {
        "colab": {
          "base_uri": "https://localhost:8080/"
        },
        "id": "gJfAFaTlqf2y",
        "outputId": "33da8dd3-8f6c-4e04-9322-457911a49d8c"
      },
      "execution_count": 8,
      "outputs": [
        {
          "output_type": "execute_result",
          "data": {
            "text/plain": [
              "['0', '1', '2', '3', '4', '5', '6', '7', '8', '9']"
            ]
          },
          "metadata": {},
          "execution_count": 8
        }
      ]
    },
    {
      "cell_type": "code",
      "source": [
        "import time"
      ],
      "metadata": {
        "id": "O3Qyo5FfqhkA"
      },
      "execution_count": 9,
      "outputs": []
    },
    {
      "cell_type": "code",
      "source": [
        "# CURRENT TIME BEFORE\n",
        "start_time = time.time()\n",
        "\n",
        "# RUN CODE\n",
        "result = func_one(100000)\n",
        "\n",
        "# CURRENT TIME AFTER RUNNING CODE\n",
        "end_time = time.time()\n",
        "\n",
        "# ELAPSED TIME\n",
        "elapsed_time = end_time - start_time\n",
        "\n",
        "print(elapsed_time)"
      ],
      "metadata": {
        "colab": {
          "base_uri": "https://localhost:8080/"
        },
        "id": "riMOw70DqjUQ",
        "outputId": "538fe54b-ec08-4938-aa13-76eed7b3192a"
      },
      "execution_count": 16,
      "outputs": [
        {
          "output_type": "stream",
          "name": "stdout",
          "text": [
            "0.021329879760742188\n"
          ]
        }
      ]
    },
    {
      "cell_type": "code",
      "source": [
        "# CURRENT TIME BEFORE\n",
        "start_time = time.time()\n",
        "\n",
        "# RUN CODE\n",
        "result = func_two(100000)\n",
        "\n",
        "# CURRENT TIME AFTER RUNNING CODE\n",
        "end_time = time.time()\n",
        "\n",
        "# ELAPSED TIME\n",
        "elapsed_time = end_time - start_time\n",
        "\n",
        "print(elapsed_time)"
      ],
      "metadata": {
        "colab": {
          "base_uri": "https://localhost:8080/"
        },
        "id": "GdBaaO9grDHy",
        "outputId": "43961d7a-f3eb-44ba-8898-32ec8ad44a59"
      },
      "execution_count": 17,
      "outputs": [
        {
          "output_type": "stream",
          "name": "stdout",
          "text": [
            "0.016170263290405273\n"
          ]
        }
      ]
    },
    {
      "cell_type": "code",
      "source": [
        "import timeit"
      ],
      "metadata": {
        "id": "t0_8bHQrrNGS"
      },
      "execution_count": 18,
      "outputs": []
    },
    {
      "cell_type": "code",
      "source": [
        "stmt = '''\n",
        "func_one(100)\n",
        "'''"
      ],
      "metadata": {
        "id": "wUWidrXFrdJu"
      },
      "execution_count": 19,
      "outputs": []
    },
    {
      "cell_type": "code",
      "source": [
        "setup = '''\n",
        "def func_one(n):\n",
        "  return [str(num) for num in range(n)]\n",
        "'''"
      ],
      "metadata": {
        "id": "0n9p63wOrlog"
      },
      "execution_count": 20,
      "outputs": []
    },
    {
      "cell_type": "code",
      "source": [
        "timeit.timeit(stmt,setup,number=1000000)"
      ],
      "metadata": {
        "colab": {
          "base_uri": "https://localhost:8080/"
        },
        "id": "Ur9KVoQMrrWo",
        "outputId": "1bda9df7-c15e-4f45-a655-0605b292365d"
      },
      "execution_count": 29,
      "outputs": [
        {
          "output_type": "execute_result",
          "data": {
            "text/plain": [
              "15.94602638799995"
            ]
          },
          "metadata": {},
          "execution_count": 29
        }
      ]
    },
    {
      "cell_type": "code",
      "source": [
        "stmt2 = '''\n",
        "func_two(100)\n",
        "'''"
      ],
      "metadata": {
        "id": "iN4_NUNSrxA0"
      },
      "execution_count": 25,
      "outputs": []
    },
    {
      "cell_type": "code",
      "source": [
        "setup2 = '''\n",
        "def func_two(n):\n",
        "  return list(map(str,range(n)))\n",
        "'''"
      ],
      "metadata": {
        "id": "YJSyyFGXr1GP"
      },
      "execution_count": 26,
      "outputs": []
    },
    {
      "cell_type": "code",
      "source": [
        "timeit.timeit(stmt2,setup2,number=1000000)"
      ],
      "metadata": {
        "colab": {
          "base_uri": "https://localhost:8080/"
        },
        "id": "bfA5KK0Kr9Xz",
        "outputId": "01bc8959-7228-4361-fa89-82873ef4936c"
      },
      "execution_count": 30,
      "outputs": [
        {
          "output_type": "execute_result",
          "data": {
            "text/plain": [
              "12.924017913000057"
            ]
          },
          "metadata": {},
          "execution_count": 30
        }
      ]
    },
    {
      "cell_type": "code",
      "source": [
        "%%timeit\n",
        "func_one(100)"
      ],
      "metadata": {
        "colab": {
          "base_uri": "https://localhost:8080/"
        },
        "id": "Cw4quXBrsBLS",
        "outputId": "e0a11904-c3d1-402a-82c9-bf3f39b6996a"
      },
      "execution_count": 31,
      "outputs": [
        {
          "output_type": "stream",
          "name": "stdout",
          "text": [
            "16.8 µs ± 3.58 µs per loop (mean ± std. dev. of 7 runs, 100000 loops each)\n"
          ]
        }
      ]
    },
    {
      "cell_type": "code",
      "source": [
        "%%timeit\n",
        "func_two(100)"
      ],
      "metadata": {
        "colab": {
          "base_uri": "https://localhost:8080/"
        },
        "id": "cUGLsaEXsVPB",
        "outputId": "f5f0a2f6-f0e8-4908-8bf7-8fa3ab69e108"
      },
      "execution_count": 32,
      "outputs": [
        {
          "output_type": "stream",
          "name": "stdout",
          "text": [
            "13.3 µs ± 3.36 µs per loop (mean ± std. dev. of 7 runs, 100000 loops each)\n"
          ]
        }
      ]
    }
  ]
}