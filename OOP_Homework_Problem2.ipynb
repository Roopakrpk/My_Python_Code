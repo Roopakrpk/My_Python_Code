{
  "nbformat": 4,
  "nbformat_minor": 0,
  "metadata": {
    "colab": {
      "provenance": [],
      "authorship_tag": "ABX9TyMgCZ23BFdWaDxkUFxWyhnI",
      "include_colab_link": true
    },
    "kernelspec": {
      "name": "python3",
      "display_name": "Python 3"
    },
    "language_info": {
      "name": "python"
    }
  },
  "cells": [
    {
      "cell_type": "markdown",
      "metadata": {
        "id": "view-in-github",
        "colab_type": "text"
      },
      "source": [
        "<a href=\"https://colab.research.google.com/github/Roopakrpk/My_Python_Code/blob/main/OOP_Homework_Problem2.ipynb\" target=\"_parent\"><img src=\"https://colab.research.google.com/assets/colab-badge.svg\" alt=\"Open In Colab\"/></a>"
      ]
    },
    {
      "cell_type": "code",
      "execution_count": 78,
      "metadata": {
        "id": "gdC_7F4_0jhk"
      },
      "outputs": [],
      "source": [
        "class Account():\n",
        "\n",
        "  def __init__(self,owner,balance=0):\n",
        "    self.owner = owner\n",
        "    self.balance = balance\n",
        "\n",
        "  def deposit(self,amount):\n",
        "    self.balance = self.balance+amount\n",
        "    print(f'Deposit added {amount} to the balance')\n",
        "\n",
        "  def withdraw(self,amount):\n",
        "    if self.balance >= amount:\n",
        "      self.balance = self.balance-amount\n",
        "      print('Withdrawal Accepted')\n",
        "    else:\n",
        "      print('Funds Unavailable!')\n",
        "\n",
        "  def __str__(self):\n",
        "    return f'Account owner: {self.owner}\\nAccount balance: {self.balance}'\n",
        ""
      ]
    },
    {
      "cell_type": "code",
      "source": [
        "acct = Account('Myself',200)"
      ],
      "metadata": {
        "id": "hNH1wWgq1I8b"
      },
      "execution_count": 79,
      "outputs": []
    },
    {
      "cell_type": "code",
      "source": [
        "print(acct)"
      ],
      "metadata": {
        "colab": {
          "base_uri": "https://localhost:8080/"
        },
        "id": "jCnFMdRIZwXi",
        "outputId": "0224a8a5-b6da-4ad7-fc94-c9dfe20b18f1"
      },
      "execution_count": 80,
      "outputs": [
        {
          "output_type": "stream",
          "name": "stdout",
          "text": [
            "Account owner: Myself\n",
            "Account balance: 200\n"
          ]
        }
      ]
    },
    {
      "cell_type": "code",
      "source": [
        "acct.owner"
      ],
      "metadata": {
        "colab": {
          "base_uri": "https://localhost:8080/",
          "height": 35
        },
        "id": "Te5oKRNdZ04i",
        "outputId": "10826363-e7d8-4a36-f8f7-0ba32d0ba75d"
      },
      "execution_count": 81,
      "outputs": [
        {
          "output_type": "execute_result",
          "data": {
            "text/plain": [
              "'Myself'"
            ],
            "application/vnd.google.colaboratory.intrinsic+json": {
              "type": "string"
            }
          },
          "metadata": {},
          "execution_count": 81
        }
      ]
    },
    {
      "cell_type": "code",
      "source": [
        "acct.balance"
      ],
      "metadata": {
        "colab": {
          "base_uri": "https://localhost:8080/"
        },
        "id": "r02fy9oaZ5ms",
        "outputId": "1a30f23c-6910-4ea6-ac43-e61a9a50851d"
      },
      "execution_count": 82,
      "outputs": [
        {
          "output_type": "execute_result",
          "data": {
            "text/plain": [
              "200"
            ]
          },
          "metadata": {},
          "execution_count": 82
        }
      ]
    },
    {
      "cell_type": "code",
      "source": [
        "acct.deposit(500)"
      ],
      "metadata": {
        "colab": {
          "base_uri": "https://localhost:8080/"
        },
        "id": "aD4q10n0Z7cD",
        "outputId": "fb4ff613-926e-457d-8b5d-4304ca720e4f"
      },
      "execution_count": 83,
      "outputs": [
        {
          "output_type": "stream",
          "name": "stdout",
          "text": [
            "Deposit added 500 to the balance\n"
          ]
        }
      ]
    },
    {
      "cell_type": "code",
      "source": [
        "print(acct)"
      ],
      "metadata": {
        "colab": {
          "base_uri": "https://localhost:8080/"
        },
        "id": "2h9SZ27SiVOr",
        "outputId": "652dea82-7345-4771-a64f-47a6e9995991"
      },
      "execution_count": 84,
      "outputs": [
        {
          "output_type": "stream",
          "name": "stdout",
          "text": [
            "Account owner: Myself\n",
            "Account balance: 700\n"
          ]
        }
      ]
    },
    {
      "cell_type": "code",
      "source": [
        "acct.withdraw(700)"
      ],
      "metadata": {
        "colab": {
          "base_uri": "https://localhost:8080/"
        },
        "id": "gVnFs7t0bR10",
        "outputId": "c9ab46e3-eb6d-41ab-c28d-d610c72d9dbc"
      },
      "execution_count": 85,
      "outputs": [
        {
          "output_type": "stream",
          "name": "stdout",
          "text": [
            "Withdrawal Accepted\n"
          ]
        }
      ]
    },
    {
      "cell_type": "code",
      "source": [
        "print(acct)"
      ],
      "metadata": {
        "colab": {
          "base_uri": "https://localhost:8080/"
        },
        "id": "fpfyvlUucv2h",
        "outputId": "d2da0f17-1e6e-493c-cb88-4b79c5914ea0"
      },
      "execution_count": 87,
      "outputs": [
        {
          "output_type": "stream",
          "name": "stdout",
          "text": [
            "Account owner: Myself\n",
            "Account balance: 0\n"
          ]
        }
      ]
    },
    {
      "cell_type": "code",
      "source": [
        "acct.withdraw(500)"
      ],
      "metadata": {
        "colab": {
          "base_uri": "https://localhost:8080/"
        },
        "id": "7CB6Ra-9c4u0",
        "outputId": "9ebe4495-fb35-42ee-d5a1-3c5216791466"
      },
      "execution_count": 73,
      "outputs": [
        {
          "output_type": "stream",
          "name": "stdout",
          "text": [
            "Withdrawal Accepted\n"
          ]
        }
      ]
    },
    {
      "cell_type": "code",
      "source": [
        "acct.withdraw(1)"
      ],
      "metadata": {
        "colab": {
          "base_uri": "https://localhost:8080/"
        },
        "id": "Gw4QNvjSc-SG",
        "outputId": "2ae44172-de42-49a5-bcbb-cab2606864d3"
      },
      "execution_count": 88,
      "outputs": [
        {
          "output_type": "stream",
          "name": "stdout",
          "text": [
            "Funds Unavailable!\n"
          ]
        }
      ]
    },
    {
      "cell_type": "code",
      "source": [
        "print(acct)"
      ],
      "metadata": {
        "colab": {
          "base_uri": "https://localhost:8080/"
        },
        "id": "N6wgZVQYeQl5",
        "outputId": "20165cf9-8a80-45a9-8edd-68e490bd27af"
      },
      "execution_count": 89,
      "outputs": [
        {
          "output_type": "stream",
          "name": "stdout",
          "text": [
            "Account owner: Myself\n",
            "Account balance: 0\n"
          ]
        }
      ]
    }
  ]
}