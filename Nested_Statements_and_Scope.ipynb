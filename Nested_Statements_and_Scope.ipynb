{
  "nbformat": 4,
  "nbformat_minor": 0,
  "metadata": {
    "colab": {
      "provenance": [],
      "authorship_tag": "ABX9TyOX7aKh4fW8b3wv1lbyzovm",
      "include_colab_link": true
    },
    "kernelspec": {
      "name": "python3",
      "display_name": "Python 3"
    },
    "language_info": {
      "name": "python"
    }
  },
  "cells": [
    {
      "cell_type": "markdown",
      "metadata": {
        "id": "view-in-github",
        "colab_type": "text"
      },
      "source": [
        "<a href=\"https://colab.research.google.com/github/Roopakrpk/My_Python_Code/blob/main/Nested_Statements_and_Scope.ipynb\" target=\"_parent\"><img src=\"https://colab.research.google.com/assets/colab-badge.svg\" alt=\"Open In Colab\"/></a>"
      ]
    },
    {
      "cell_type": "code",
      "execution_count": null,
      "metadata": {
        "id": "FEmkIXyBGtd7"
      },
      "outputs": [],
      "source": [
        "x = 25\n",
        "\n",
        "def printer():\n",
        "  x = 50\n",
        "  return x"
      ]
    },
    {
      "cell_type": "code",
      "source": [
        "print(x)"
      ],
      "metadata": {
        "colab": {
          "base_uri": "https://localhost:8080/"
        },
        "id": "NxaSlC0vKdXB",
        "outputId": "3b24e51e-6531-4ac1-ea9f-ab19017f2686"
      },
      "execution_count": null,
      "outputs": [
        {
          "output_type": "stream",
          "name": "stdout",
          "text": [
            "25\n"
          ]
        }
      ]
    },
    {
      "cell_type": "code",
      "source": [
        "print(printer())"
      ],
      "metadata": {
        "colab": {
          "base_uri": "https://localhost:8080/"
        },
        "id": "qvt1kLhbKeWu",
        "outputId": "db8d3ebf-6e07-4c38-ec61-c69cda8dff4c"
      },
      "execution_count": null,
      "outputs": [
        {
          "output_type": "stream",
          "name": "stdout",
          "text": [
            "50\n"
          ]
        }
      ]
    },
    {
      "cell_type": "code",
      "source": [
        "# GLOBAL\n",
        "name = 'This is a global string'\n",
        "\n",
        "def greet():\n",
        "\n",
        "  #ENCLOSING\n",
        "  #name = 'Sammy'\n",
        "\n",
        "  def hello():\n",
        "    # LOCAL\n",
        "    #name = 'IM A LOCAL'\n",
        "    print('Hello '+name)\n",
        "\n",
        "  hello()"
      ],
      "metadata": {
        "id": "cUVk7_qjKgta"
      },
      "execution_count": null,
      "outputs": []
    },
    {
      "cell_type": "code",
      "source": [
        "greet()"
      ],
      "metadata": {
        "colab": {
          "base_uri": "https://localhost:8080/"
        },
        "id": "TcPMAvxF2zSb",
        "outputId": "cdaef3a3-3021-441c-8e98-9041714108cf"
      },
      "execution_count": null,
      "outputs": [
        {
          "output_type": "stream",
          "name": "stdout",
          "text": [
            "Hello This is a global string\n"
          ]
        }
      ]
    },
    {
      "cell_type": "code",
      "source": [
        "x = 50\n",
        "\n",
        "def func(x):\n",
        "  print(f'X is {x}')\n",
        "\n",
        "  #LOCAL REASSIGNMENT!\n",
        "  x = 200\n",
        "  print(f'I JUST LOCALLY CHANGED X TO {x} ')"
      ],
      "metadata": {
        "id": "Leg_Brtf0u6l"
      },
      "execution_count": 2,
      "outputs": []
    },
    {
      "cell_type": "code",
      "source": [
        "func(x)"
      ],
      "metadata": {
        "colab": {
          "base_uri": "https://localhost:8080/"
        },
        "id": "lV8MdQMl04fr",
        "outputId": "168404b6-b9a1-445d-ec5a-1f582451a9c1"
      },
      "execution_count": 3,
      "outputs": [
        {
          "output_type": "stream",
          "name": "stdout",
          "text": [
            "X is 50\n",
            "I JUST LOCALLY CHANGED X TO 200 \n"
          ]
        }
      ]
    },
    {
      "cell_type": "code",
      "source": [
        "print(x)"
      ],
      "metadata": {
        "colab": {
          "base_uri": "https://localhost:8080/"
        },
        "id": "MRu47QhK1DuC",
        "outputId": "63841b00-f10a-458c-a527-f00c7d4415ef"
      },
      "execution_count": 4,
      "outputs": [
        {
          "output_type": "stream",
          "name": "stdout",
          "text": [
            "50\n"
          ]
        }
      ]
    },
    {
      "cell_type": "code",
      "source": [
        "y = 50\n",
        "\n",
        "def func():\n",
        "  global y\n",
        "  print(f'Y is {y}')\n",
        "\n",
        "  #LOCAL REASSIGNMENT ON A GLOBAL VARIABLE!\n",
        "  y = 'NEW VALUE'\n",
        "  print(f'I JUST LOCALLY CHANGED GLOBAL Y TO {y} ')"
      ],
      "metadata": {
        "id": "8NleX4j71Fe_"
      },
      "execution_count": 5,
      "outputs": []
    },
    {
      "cell_type": "code",
      "source": [
        "print(y)"
      ],
      "metadata": {
        "colab": {
          "base_uri": "https://localhost:8080/"
        },
        "id": "IErduazP2DSP",
        "outputId": "e0474ad2-9465-4aa7-d2f8-a9038eb5236e"
      },
      "execution_count": 6,
      "outputs": [
        {
          "output_type": "stream",
          "name": "stdout",
          "text": [
            "50\n"
          ]
        }
      ]
    },
    {
      "cell_type": "code",
      "source": [
        "func()"
      ],
      "metadata": {
        "colab": {
          "base_uri": "https://localhost:8080/"
        },
        "id": "DcJs8F7Y2GIe",
        "outputId": "57c72790-63ec-4932-d2c2-d0408380705c"
      },
      "execution_count": 7,
      "outputs": [
        {
          "output_type": "stream",
          "name": "stdout",
          "text": [
            "Y is 50\n",
            "I JUST LOCALLY CHANGED GLOBAL Y TO NEW VALUE \n"
          ]
        }
      ]
    },
    {
      "cell_type": "code",
      "source": [
        "print(y)"
      ],
      "metadata": {
        "colab": {
          "base_uri": "https://localhost:8080/"
        },
        "id": "7_Ck_4FZ2He4",
        "outputId": "17accaff-c1c1-4705-e07c-73ca5a8aeb24"
      },
      "execution_count": 8,
      "outputs": [
        {
          "output_type": "stream",
          "name": "stdout",
          "text": [
            "NEW VALUE\n"
          ]
        }
      ]
    },
    {
      "cell_type": "code",
      "source": [
        "z = 25\n",
        "\n",
        "def func(z):\n",
        "\n",
        "  print(f'Z is {z}')\n",
        "\n",
        "  #LOCAL REASSIGNMENT ON A GLOBAL VARIABLE!\n",
        "  z = 100\n",
        "  print(f'I JUST LOCALLY CHANGED Z TO {z} ')\n",
        "  return z"
      ],
      "metadata": {
        "id": "IqGuUiJM2JT_"
      },
      "execution_count": 9,
      "outputs": []
    },
    {
      "cell_type": "code",
      "source": [
        "print(z)"
      ],
      "metadata": {
        "colab": {
          "base_uri": "https://localhost:8080/"
        },
        "id": "LdbwQf1z2h4u",
        "outputId": "da37c385-7e36-49a6-da6e-00b7a0900c43"
      },
      "execution_count": 10,
      "outputs": [
        {
          "output_type": "stream",
          "name": "stdout",
          "text": [
            "25\n"
          ]
        }
      ]
    },
    {
      "cell_type": "code",
      "source": [
        "z = func(z)"
      ],
      "metadata": {
        "colab": {
          "base_uri": "https://localhost:8080/"
        },
        "id": "tG-N12xE2jDS",
        "outputId": "5384e94c-ace9-4e42-9b4a-836f33a03468"
      },
      "execution_count": 12,
      "outputs": [
        {
          "output_type": "stream",
          "name": "stdout",
          "text": [
            "Z is 25\n",
            "I JUST LOCALLY CHANGED Z TO 100 \n"
          ]
        }
      ]
    },
    {
      "cell_type": "code",
      "source": [
        "z"
      ],
      "metadata": {
        "colab": {
          "base_uri": "https://localhost:8080/"
        },
        "id": "JKxu0k8J2lKS",
        "outputId": "e14728b2-b691-4a81-dc2f-044e33eb8024"
      },
      "execution_count": 13,
      "outputs": [
        {
          "output_type": "execute_result",
          "data": {
            "text/plain": [
              "100"
            ]
          },
          "metadata": {},
          "execution_count": 13
        }
      ]
    }
  ]
}