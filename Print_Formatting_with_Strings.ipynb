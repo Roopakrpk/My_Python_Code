{
  "nbformat": 4,
  "nbformat_minor": 0,
  "metadata": {
    "colab": {
      "provenance": [],
      "authorship_tag": "ABX9TyNGJzJkNZVLIPXSsBt7L/3J",
      "include_colab_link": true
    },
    "kernelspec": {
      "name": "python3",
      "display_name": "Python 3"
    },
    "language_info": {
      "name": "python"
    }
  },
  "cells": [
    {
      "cell_type": "markdown",
      "metadata": {
        "id": "view-in-github",
        "colab_type": "text"
      },
      "source": [
        "<a href=\"https://colab.research.google.com/github/Roopakrpk/My_Python_Code/blob/main/Print_Formatting_with_Strings.ipynb\" target=\"_parent\"><img src=\"https://colab.research.google.com/assets/colab-badge.svg\" alt=\"Open In Colab\"/></a>"
      ]
    },
    {
      "cell_type": "markdown",
      "source": [
        "Formatting with .format() method\n",
        "\n",
        "A good way to format objects into your strings for print statements is with the string.format() method. The syntax is defined in the code cell."
      ],
      "metadata": {
        "id": "QUxWjFRnE6ZB"
      }
    },
    {
      "cell_type": "code",
      "source": [
        "print('This is a String {}'.format('INSERTED'))"
      ],
      "metadata": {
        "colab": {
          "base_uri": "https://localhost:8080/"
        },
        "id": "E1E3BGmOFQZM",
        "outputId": "e2971924-a171-4122-dcb5-7eb89387f53e"
      },
      "execution_count": 1,
      "outputs": [
        {
          "output_type": "stream",
          "name": "stdout",
          "text": [
            "This is a String INSERTED\n"
          ]
        }
      ]
    },
    {
      "cell_type": "code",
      "source": [
        "print('The {} {} {}'.format('fox','brown','quick'))"
      ],
      "metadata": {
        "colab": {
          "base_uri": "https://localhost:8080/"
        },
        "id": "gVmrRWI6FjM5",
        "outputId": "4978fee0-f87f-4098-9667-4a9529a3f352"
      },
      "execution_count": 2,
      "outputs": [
        {
          "output_type": "stream",
          "name": "stdout",
          "text": [
            "The fox brown quick\n"
          ]
        }
      ]
    },
    {
      "cell_type": "code",
      "source": [
        "print('The {2} {1} {0}'.format('fox','brown','quick'))"
      ],
      "metadata": {
        "colab": {
          "base_uri": "https://localhost:8080/"
        },
        "id": "6R5hGTBFGOBj",
        "outputId": "cec6e525-0b88-4060-bde5-94eb3a4ed026"
      },
      "execution_count": 4,
      "outputs": [
        {
          "output_type": "stream",
          "name": "stdout",
          "text": [
            "The quick brown fox\n"
          ]
        }
      ]
    },
    {
      "cell_type": "code",
      "source": [
        "print('The {q} {b} {e}'.format(e='elephant',b='brown',q='quick'))"
      ],
      "metadata": {
        "colab": {
          "base_uri": "https://localhost:8080/"
        },
        "id": "yqwez0tUGTCv",
        "outputId": "7ec67036-3a3a-43c2-c58b-58a8220c97f8"
      },
      "execution_count": 5,
      "outputs": [
        {
          "output_type": "stream",
          "name": "stdout",
          "text": [
            "The quick brown elephant\n"
          ]
        }
      ]
    },
    {
      "cell_type": "code",
      "source": [
        "print('The {e} {e} {e}'.format(e='elephant',b='brown',q='quick'))"
      ],
      "metadata": {
        "colab": {
          "base_uri": "https://localhost:8080/"
        },
        "id": "96ULXiWMHDVw",
        "outputId": "4a5965f1-c325-4ba2-86c7-d72cdd62eee6"
      },
      "execution_count": 6,
      "outputs": [
        {
          "output_type": "stream",
          "name": "stdout",
          "text": [
            "The elephant elephant elephant\n"
          ]
        }
      ]
    },
    {
      "cell_type": "code",
      "source": [
        "# Float formatting follows \"{value:width.precision f}\"\n",
        "result = 100/777"
      ],
      "metadata": {
        "id": "5L194VAuHhp8"
      },
      "execution_count": 7,
      "outputs": []
    },
    {
      "cell_type": "code",
      "source": [
        "result"
      ],
      "metadata": {
        "colab": {
          "base_uri": "https://localhost:8080/"
        },
        "id": "o5G_DuV9H0GC",
        "outputId": "4e362083-aeea-4c01-8c66-276051bb273f"
      },
      "execution_count": 8,
      "outputs": [
        {
          "output_type": "execute_result",
          "data": {
            "text/plain": [
              "0.1287001287001287"
            ]
          },
          "metadata": {},
          "execution_count": 8
        }
      ]
    },
    {
      "cell_type": "code",
      "source": [
        "print(\"The result was {r}\".format(r=result))"
      ],
      "metadata": {
        "colab": {
          "base_uri": "https://localhost:8080/"
        },
        "id": "z2-qBA9WH1Tj",
        "outputId": "b60781e8-a50b-4708-c74f-58978bffc5bc"
      },
      "execution_count": 14,
      "outputs": [
        {
          "output_type": "stream",
          "name": "stdout",
          "text": [
            "The result was 0.1287001287001287\n"
          ]
        }
      ]
    },
    {
      "cell_type": "code",
      "source": [
        "print(\"The rsult was {r:1.3f}\".format(r=result))"
      ],
      "metadata": {
        "colab": {
          "base_uri": "https://localhost:8080/"
        },
        "id": "mvylMaVCH9ji",
        "outputId": "a7f69479-5b0b-4fcb-f885-36a6cc14963d"
      },
      "execution_count": 11,
      "outputs": [
        {
          "output_type": "stream",
          "name": "stdout",
          "text": [
            "The rsult was 0.129\n"
          ]
        }
      ]
    },
    {
      "cell_type": "code",
      "source": [],
      "metadata": {
        "id": "YKpTXVvxIwvH"
      },
      "execution_count": 11,
      "outputs": []
    },
    {
      "cell_type": "code",
      "source": [],
      "metadata": {
        "id": "Lt3mXvOYPY3W"
      },
      "execution_count": null,
      "outputs": []
    },
    {
      "cell_type": "code",
      "source": [
        "name = 'Jose'"
      ],
      "metadata": {
        "id": "5L5GHaaPPZRo"
      },
      "execution_count": 12,
      "outputs": []
    },
    {
      "cell_type": "code",
      "source": [
        "print(f'Hello, his name is {name}')"
      ],
      "metadata": {
        "colab": {
          "base_uri": "https://localhost:8080/"
        },
        "id": "snuCsq08PeZg",
        "outputId": "7a8b7a12-08c5-4466-849e-f3e269988edd"
      },
      "execution_count": 13,
      "outputs": [
        {
          "output_type": "stream",
          "name": "stdout",
          "text": [
            "Hello, his name is Jose\n"
          ]
        }
      ]
    },
    {
      "cell_type": "code",
      "source": [
        "name = 'Sam'"
      ],
      "metadata": {
        "id": "FZ3Ldlj3Plys"
      },
      "execution_count": 15,
      "outputs": []
    },
    {
      "cell_type": "code",
      "source": [
        "age = 3"
      ],
      "metadata": {
        "id": "_IVZFlOxPsC9"
      },
      "execution_count": 16,
      "outputs": []
    },
    {
      "cell_type": "code",
      "source": [
        "# f string literals can also be used here\n",
        "print(f'{name} is {age} years old.')"
      ],
      "metadata": {
        "colab": {
          "base_uri": "https://localhost:8080/"
        },
        "id": "uXAe6uFWPtKp",
        "outputId": "a565ce8a-39bf-40d7-885a-155280eba3e5"
      },
      "execution_count": 17,
      "outputs": [
        {
          "output_type": "stream",
          "name": "stdout",
          "text": [
            "Sam is 3 years old.\n"
          ]
        }
      ]
    }
  ]
}