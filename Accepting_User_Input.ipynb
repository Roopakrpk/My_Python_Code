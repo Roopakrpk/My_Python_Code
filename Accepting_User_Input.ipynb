{
  "nbformat": 4,
  "nbformat_minor": 0,
  "metadata": {
    "colab": {
      "provenance": [],
      "authorship_tag": "ABX9TyP5y3X2ad+z2IuwJOZdM3Fc",
      "include_colab_link": true
    },
    "kernelspec": {
      "name": "python3",
      "display_name": "Python 3"
    },
    "language_info": {
      "name": "python"
    }
  },
  "cells": [
    {
      "cell_type": "markdown",
      "metadata": {
        "id": "view-in-github",
        "colab_type": "text"
      },
      "source": [
        "<a href=\"https://colab.research.google.com/github/Roopakrpk/My_Python_Code/blob/main/Accepting_User_Input.ipynb\" target=\"_parent\"><img src=\"https://colab.research.google.com/assets/colab-badge.svg\" alt=\"Open In Colab\"/></a>"
      ]
    },
    {
      "cell_type": "code",
      "execution_count": null,
      "metadata": {
        "id": "7Rzv65n_pK9r",
        "colab": {
          "base_uri": "https://localhost:8080/"
        },
        "outputId": "3a7d419c-4a87-4362-93e8-51aee80d6975"
      },
      "outputs": [
        {
          "name": "stdout",
          "output_type": "stream",
          "text": [
            "Please enter a value: 2\n"
          ]
        }
      ],
      "source": [
        "#Input function is always going to return a string\n",
        "result = input(\"Please enter a value: \")"
      ]
    },
    {
      "cell_type": "code",
      "source": [
        "result"
      ],
      "metadata": {
        "colab": {
          "base_uri": "https://localhost:8080/",
          "height": 35
        },
        "id": "MpbipQY2A_DQ",
        "outputId": "8da59606-0c4f-4f8a-941a-d0913609b61f"
      },
      "execution_count": null,
      "outputs": [
        {
          "output_type": "execute_result",
          "data": {
            "text/plain": [
              "'2'"
            ],
            "application/vnd.google.colaboratory.intrinsic+json": {
              "type": "string"
            }
          },
          "metadata": {},
          "execution_count": 2
        }
      ]
    },
    {
      "cell_type": "code",
      "source": [
        "type(result)"
      ],
      "metadata": {
        "colab": {
          "base_uri": "https://localhost:8080/"
        },
        "id": "GV30JYmvBCDu",
        "outputId": "4603692e-b93c-48da-9a91-52620a37e710"
      },
      "execution_count": null,
      "outputs": [
        {
          "output_type": "execute_result",
          "data": {
            "text/plain": [
              "str"
            ]
          },
          "metadata": {},
          "execution_count": 3
        }
      ]
    },
    {
      "cell_type": "code",
      "source": [
        "result_int = int(result)"
      ],
      "metadata": {
        "id": "LeLuXJM6BDjc"
      },
      "execution_count": null,
      "outputs": []
    },
    {
      "cell_type": "code",
      "source": [
        "type(result_int)"
      ],
      "metadata": {
        "colab": {
          "base_uri": "https://localhost:8080/"
        },
        "id": "W1aPOj_GBILi",
        "outputId": "472fba12-fe6a-4fd9-c1e1-18751c9f20bf"
      },
      "execution_count": null,
      "outputs": [
        {
          "output_type": "execute_result",
          "data": {
            "text/plain": [
              "int"
            ]
          },
          "metadata": {},
          "execution_count": 5
        }
      ]
    },
    {
      "cell_type": "code",
      "source": [
        "result_int"
      ],
      "metadata": {
        "colab": {
          "base_uri": "https://localhost:8080/"
        },
        "id": "9wDf8_5jBLFI",
        "outputId": "234014b1-8f5f-47ee-cc22-15341f0ab768"
      },
      "execution_count": null,
      "outputs": [
        {
          "output_type": "execute_result",
          "data": {
            "text/plain": [
              "2"
            ]
          },
          "metadata": {},
          "execution_count": 6
        }
      ]
    },
    {
      "cell_type": "code",
      "source": [
        "float('3.14')"
      ],
      "metadata": {
        "colab": {
          "base_uri": "https://localhost:8080/"
        },
        "id": "VgwQaFLlBMIV",
        "outputId": "9c74298a-74ec-475c-f3a8-716e436c463c"
      },
      "execution_count": null,
      "outputs": [
        {
          "output_type": "execute_result",
          "data": {
            "text/plain": [
              "3.14"
            ]
          },
          "metadata": {},
          "execution_count": 7
        }
      ]
    },
    {
      "cell_type": "code",
      "source": [
        "row1 = ([1,2,3])\n",
        "row2 = ([' ', ' ', ' '])"
      ],
      "metadata": {
        "id": "O5TFR7LXBZX9"
      },
      "execution_count": null,
      "outputs": []
    },
    {
      "cell_type": "code",
      "source": [
        "position_index = int(input(\"Choose an index position: \"))"
      ],
      "metadata": {
        "colab": {
          "base_uri": "https://localhost:8080/"
        },
        "id": "uzhAp_zJCXMZ",
        "outputId": "3ceba1a7-d98a-4852-d7b6-a5e253e5ecf8"
      },
      "execution_count": null,
      "outputs": [
        {
          "name": "stdout",
          "output_type": "stream",
          "text": [
            "Choose an index position: 1\n"
          ]
        }
      ]
    },
    {
      "cell_type": "code",
      "source": [
        "row2[position_index] = 'X'"
      ],
      "metadata": {
        "id": "RNYKdo54Ccof"
      },
      "execution_count": null,
      "outputs": []
    },
    {
      "cell_type": "code",
      "source": [
        "row2"
      ],
      "metadata": {
        "colab": {
          "base_uri": "https://localhost:8080/"
        },
        "id": "ug5KXjbHCnwr",
        "outputId": "0445907c-5858-4cb9-a826-36ee30ffea00"
      },
      "execution_count": null,
      "outputs": [
        {
          "output_type": "execute_result",
          "data": {
            "text/plain": [
              "[' ', 'X', ' ']"
            ]
          },
          "metadata": {},
          "execution_count": 14
        }
      ]
    },
    {
      "cell_type": "code",
      "source": [
        "x = input(\"Enter a number: \")"
      ],
      "metadata": {
        "colab": {
          "base_uri": "https://localhost:8080/"
        },
        "id": "5uPCmF_bCr0_",
        "outputId": "f039701a-40d4-454e-e519-0452da6104dd"
      },
      "execution_count": null,
      "outputs": [
        {
          "name": "stdout",
          "output_type": "stream",
          "text": [
            "Enter a number: 2\n"
          ]
        }
      ]
    },
    {
      "cell_type": "code",
      "source": [
        "2+2"
      ],
      "metadata": {
        "colab": {
          "base_uri": "https://localhost:8080/"
        },
        "id": "Pu_xoej_FFLJ",
        "outputId": "67bd051a-a0e1-4b3e-b34b-eab8d03b441c"
      },
      "execution_count": null,
      "outputs": [
        {
          "output_type": "execute_result",
          "data": {
            "text/plain": [
              "4"
            ]
          },
          "metadata": {},
          "execution_count": 16
        }
      ]
    },
    {
      "cell_type": "code",
      "source": [
        "def user_choice():\n",
        "  choice = input(\"Please enter a number in the range of 0 to 10: \")\n",
        "  return int(choice)"
      ],
      "metadata": {
        "id": "jQqa9QbVG4CJ"
      },
      "execution_count": null,
      "outputs": []
    },
    {
      "cell_type": "code",
      "source": [
        "user_choice()"
      ],
      "metadata": {
        "colab": {
          "base_uri": "https://localhost:8080/"
        },
        "id": "Jr_3n9CxHh3g",
        "outputId": "96fb9afb-f0ac-4001-c06f-ef2e697a7a72"
      },
      "execution_count": null,
      "outputs": [
        {
          "name": "stdout",
          "output_type": "stream",
          "text": [
            "Please enter a number in the range of 0 to 10: 9\n"
          ]
        },
        {
          "output_type": "execute_result",
          "data": {
            "text/plain": [
              "9"
            ]
          },
          "metadata": {},
          "execution_count": 2
        }
      ]
    },
    {
      "cell_type": "code",
      "source": [
        "some_value = '10'"
      ],
      "metadata": {
        "id": "ulkfhl9MKYOD"
      },
      "execution_count": null,
      "outputs": []
    },
    {
      "cell_type": "code",
      "source": [
        "some_value.isdigit()"
      ],
      "metadata": {
        "colab": {
          "base_uri": "https://localhost:8080/"
        },
        "id": "rBcMcBhGJ7AU",
        "outputId": "446ac449-3059-43e3-dd04-1903bd9033da"
      },
      "execution_count": null,
      "outputs": [
        {
          "output_type": "execute_result",
          "data": {
            "text/plain": [
              "True"
            ]
          },
          "metadata": {},
          "execution_count": 11
        }
      ]
    },
    {
      "cell_type": "code",
      "source": [
        "int(some_value)"
      ],
      "metadata": {
        "colab": {
          "base_uri": "https://localhost:8080/"
        },
        "id": "c5crpXDNKMb1",
        "outputId": "49c98009-2a8b-4cf5-9477-1f9d25602c65"
      },
      "execution_count": null,
      "outputs": [
        {
          "output_type": "execute_result",
          "data": {
            "text/plain": [
              "10"
            ]
          },
          "metadata": {},
          "execution_count": 12
        }
      ]
    },
    {
      "cell_type": "code",
      "source": [
        "def user_choice():\n",
        "  choice = 'Wrong'\n",
        "\n",
        "  while choice.isdigit() == False:\n",
        "    choice = input(\"Please enter a number in the range of 0 to 10: \")\n",
        "\n",
        "    if choice.isdigit() == False:\n",
        "      print(\"Sorry that is not a digit\")\n",
        "  return int(choice)"
      ],
      "metadata": {
        "id": "ZFfjpdlDKkGE"
      },
      "execution_count": 1,
      "outputs": []
    },
    {
      "cell_type": "code",
      "source": [
        "user_choice()"
      ],
      "metadata": {
        "colab": {
          "base_uri": "https://localhost:8080/"
        },
        "id": "khf48a7_Ldea",
        "outputId": "080af212-21fa-401f-cf90-2024f75571aa"
      },
      "execution_count": 2,
      "outputs": [
        {
          "name": "stdout",
          "output_type": "stream",
          "text": [
            "Please enter a number in the range of 0 to 10: one\n",
            "Sorry that is not a digit\n",
            "Please enter a number in the range of 0 to 10: 2\n"
          ]
        },
        {
          "output_type": "execute_result",
          "data": {
            "text/plain": [
              "2"
            ]
          },
          "metadata": {},
          "execution_count": 2
        }
      ]
    },
    {
      "cell_type": "code",
      "source": [
        "#To check if its a correct datatype and to check if something is an acceptable value.\n",
        "def user_option():\n",
        "\n",
        "  option = 'Wrong'\n",
        "  acceptable_range = range(0,10)\n",
        "  within_range = False\n",
        "\n",
        "  while option.isdigit() == False or within_range==False:\n",
        "    #Option Check\n",
        "    option = input(\"Please enter a number in the range of 0 to 10: \")\n",
        "\n",
        "    #Digit Check\n",
        "    if option.isdigit() == False:\n",
        "      print(\"Sorry that is not a digit!\")\n",
        "\n",
        "     #Range Check\n",
        "    if option.isdigit()==True:\n",
        "      if int(option) in acceptable_range:\n",
        "        within_range = True\n",
        "      else:\n",
        "        print(\"Sorry, you are out of acceptable range (0-10)\")\n",
        "        pass\n",
        "\n",
        "  return int(option)"
      ],
      "metadata": {
        "id": "ASxB4JyYRZiH"
      },
      "execution_count": 16,
      "outputs": []
    },
    {
      "cell_type": "code",
      "source": [
        "user_option()"
      ],
      "metadata": {
        "colab": {
          "base_uri": "https://localhost:8080/"
        },
        "id": "UnDYczAnYIOQ",
        "outputId": "d077cdff-fe56-4c76-8d0e-3eeaa66a7ce1"
      },
      "execution_count": 17,
      "outputs": [
        {
          "name": "stdout",
          "output_type": "stream",
          "text": [
            "Please enter a number in the range of 0 to 10: two\n",
            "Sorry that is not a digit!\n",
            "Please enter a number in the range of 0 to 10: 100\n",
            "Sorry, you are out of acceptable range (0-10)\n",
            "Please enter a number in the range of 0 to 10: 2\n"
          ]
        },
        {
          "output_type": "execute_result",
          "data": {
            "text/plain": [
              "2"
            ]
          },
          "metadata": {},
          "execution_count": 17
        }
      ]
    }
  ]
}