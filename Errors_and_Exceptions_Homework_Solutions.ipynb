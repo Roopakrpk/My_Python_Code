{
  "nbformat": 4,
  "nbformat_minor": 0,
  "metadata": {
    "colab": {
      "provenance": [],
      "authorship_tag": "ABX9TyOxHh5QgQMLpmXLo1i2rZxq",
      "include_colab_link": true
    },
    "kernelspec": {
      "name": "python3",
      "display_name": "Python 3"
    },
    "language_info": {
      "name": "python"
    }
  },
  "cells": [
    {
      "cell_type": "markdown",
      "metadata": {
        "id": "view-in-github",
        "colab_type": "text"
      },
      "source": [
        "<a href=\"https://colab.research.google.com/github/Roopakrpk/My_Python_Code/blob/main/Errors_and_Exceptions_Homework_Solutions.ipynb\" target=\"_parent\"><img src=\"https://colab.research.google.com/assets/colab-badge.svg\" alt=\"Open In Colab\"/></a>"
      ]
    },
    {
      "cell_type": "code",
      "source": [
        "try:\n",
        "  for i in ['a','b','c']:\n",
        "    print(i**2)\n",
        "except TypeError:\n",
        "  print(\"Type error, Watch out!\")"
      ],
      "metadata": {
        "colab": {
          "base_uri": "https://localhost:8080/"
        },
        "id": "RqFlBGNuGqbb",
        "outputId": "b4ae45e3-3d18-499f-ca96-eb7c876d8226"
      },
      "execution_count": 13,
      "outputs": [
        {
          "output_type": "stream",
          "name": "stdout",
          "text": [
            "Type error, Watch out!\n"
          ]
        }
      ]
    },
    {
      "cell_type": "code",
      "source": [
        "try:\n",
        "  x=5\n",
        "  y=0\n",
        "  z=x/y\n",
        "except:\n",
        "  print(\"Error Occured, Invalid operation!\")\n",
        "finally:\n",
        "  print(\"All done\")"
      ],
      "metadata": {
        "colab": {
          "base_uri": "https://localhost:8080/"
        },
        "id": "8oJ6Ix4UHRPu",
        "outputId": "beb74152-4f32-44d3-e10d-ec207003f1f9"
      },
      "execution_count": 15,
      "outputs": [
        {
          "output_type": "stream",
          "name": "stdout",
          "text": [
            "Error Occured, Invalid operation!\n",
            "All done\n"
          ]
        }
      ]
    },
    {
      "cell_type": "code",
      "source": [
        "def ask():\n",
        "\n",
        "  # Waiting for correct response\n",
        "  waiting = True\n",
        "  while waiting:\n",
        "    try:\n",
        "      result = int(input(\"Input an integer: \"))\n",
        "    except:\n",
        "      print(\"An error occured! Please try again! \\n\")\n",
        "      continue\n",
        "    else:\n",
        "      print(f'Thank you, your number squared is:  {result**2}')\n",
        "      waiting = False"
      ],
      "metadata": {
        "id": "_oI58SqzIl0u"
      },
      "execution_count": 19,
      "outputs": []
    },
    {
      "cell_type": "code",
      "source": [
        "ask()"
      ],
      "metadata": {
        "colab": {
          "base_uri": "https://localhost:8080/"
        },
        "id": "Bo4F7VmiJ9CF",
        "outputId": "1674635c-ee8a-4f21-c3f0-7f5a8cef3bf6"
      },
      "execution_count": 20,
      "outputs": [
        {
          "output_type": "stream",
          "name": "stdout",
          "text": [
            "Input an integer: word\n",
            "An error occured! Please try again! \n",
            "\n",
            "Input an integer: 2\n",
            "Thank you, your number squared is:  4\n"
          ]
        }
      ]
    }
  ]
}