{
  "nbformat": 4,
  "nbformat_minor": 0,
  "metadata": {
    "colab": {
      "provenance": [],
      "authorship_tag": "ABX9TyMtw+sriOlo0cTg6jZorT9B",
      "include_colab_link": true
    },
    "kernelspec": {
      "name": "python3",
      "display_name": "Python 3"
    },
    "language_info": {
      "name": "python"
    }
  },
  "cells": [
    {
      "cell_type": "markdown",
      "metadata": {
        "id": "view-in-github",
        "colab_type": "text"
      },
      "source": [
        "<a href=\"https://colab.research.google.com/github/Roopakrpk/My_Python_Code/blob/main/Methods_and_Functions_Solutions.ipynb\" target=\"_parent\"><img src=\"https://colab.research.google.com/assets/colab-badge.svg\" alt=\"Open In Colab\"/></a>"
      ]
    },
    {
      "cell_type": "code",
      "source": [
        "# Print the count of lowercase and uppercase letters\n",
        "\n",
        "def up_low(s):\n",
        "  lowercase = 0\n",
        "  uppercase = 0\n",
        "  for char in s:\n",
        "    if char.islower():\n",
        "      lowercase += 1\n",
        "    elif char.isupper():\n",
        "      uppercase += 1\n",
        "    else:\n",
        "      pass\n",
        "  print(f'No. of lowercase characters: {lowercase}')\n",
        "  print(f'No. of uppercase characters: {uppercase}')"
      ],
      "metadata": {
        "id": "1bb_D5VMFokw"
      },
      "execution_count": 1,
      "outputs": []
    },
    {
      "cell_type": "code",
      "source": [
        "s = 'Hello Mr. Rogers, how are you this fine Tuesday?'\n",
        "up_low(s)"
      ],
      "metadata": {
        "colab": {
          "base_uri": "https://localhost:8080/"
        },
        "id": "v_PQTpKIGkYm",
        "outputId": "36073343-b17f-4612-8d87-e9643b3b153d"
      },
      "execution_count": 3,
      "outputs": [
        {
          "output_type": "stream",
          "name": "stdout",
          "text": [
            "No. of lowercase characters: 33\n",
            "No. of uppercase characters: 4\n"
          ]
        }
      ]
    },
    {
      "cell_type": "code",
      "source": [
        "# Another way of doing the above with dictionary.\n",
        "\n",
        "def up_low(s):\n",
        "  d = {'upper':0,'lower':0}\n",
        "\n",
        "  for char in s:\n",
        "    if char.islower():\n",
        "      d['lower'] += 1\n",
        "    elif char.isupper():\n",
        "      d['upper'] += 1\n",
        "    else:\n",
        "      pass\n",
        "  print(f'No. of lowercase characters: {d[\"lower\"]}')\n",
        "  print(f'No. of uppercase characters: {d[\"upper\"]}')"
      ],
      "metadata": {
        "id": "N1-euTODGtwb"
      },
      "execution_count": 7,
      "outputs": []
    },
    {
      "cell_type": "code",
      "source": [
        "s = 'Hello Mr. Rogers, how are you this fine Tuesday?'\n",
        "up_low(s)"
      ],
      "metadata": {
        "colab": {
          "base_uri": "https://localhost:8080/"
        },
        "id": "FtwD1EjDHZ4S",
        "outputId": "da1dd0d9-c13b-479e-8343-3c21fa858244"
      },
      "execution_count": 8,
      "outputs": [
        {
          "output_type": "stream",
          "name": "stdout",
          "text": [
            "No. of lowercase characters: 33\n",
            "No. of uppercase characters: 4\n"
          ]
        }
      ]
    },
    {
      "cell_type": "code",
      "source": [
        "# Write a Python function that takes a list and returns a new list with unique elements of the first list\n",
        "\n",
        "def unique(lists):\n",
        "  x = []\n",
        "  for number in lists:\n",
        "    if number not in x:\n",
        "      x.append(number)\n",
        "  return x"
      ],
      "metadata": {
        "id": "0HGVlRS5IL9i"
      },
      "execution_count": 14,
      "outputs": []
    },
    {
      "cell_type": "code",
      "source": [
        "unique([1,1,1,2,2,3,4,5,4,3,2,4,5])"
      ],
      "metadata": {
        "colab": {
          "base_uri": "https://localhost:8080/"
        },
        "id": "Vtqti7ElJO12",
        "outputId": "de815ed0-8de0-425c-c539-beb40816600a"
      },
      "execution_count": 15,
      "outputs": [
        {
          "output_type": "execute_result",
          "data": {
            "text/plain": [
              "[1, 2, 3, 4, 5]"
            ]
          },
          "metadata": {},
          "execution_count": 15
        }
      ]
    },
    {
      "cell_type": "code",
      "source": [
        "# Another way of doing the above with simple way.\n",
        "\n",
        "def unique_list(lst):\n",
        "  return list(set(lst))"
      ],
      "metadata": {
        "id": "rDFZhI9BIdcQ"
      },
      "execution_count": 16,
      "outputs": []
    },
    {
      "cell_type": "code",
      "source": [
        "unique_list([1,1,1,2,2,3,4,5,4,3,2,4,5])"
      ],
      "metadata": {
        "colab": {
          "base_uri": "https://localhost:8080/"
        },
        "id": "WaL3duZVIhJf",
        "outputId": "863dbee5-6b4b-421c-c1e9-6fef1981eca2"
      },
      "execution_count": 12,
      "outputs": [
        {
          "output_type": "execute_result",
          "data": {
            "text/plain": [
              "[1, 2, 3, 4, 5]"
            ]
          },
          "metadata": {},
          "execution_count": 12
        }
      ]
    },
    {
      "cell_type": "code",
      "source": [
        "# Write a Python function to multiply all the number in a list.\n",
        "def multiply(numbers):\n",
        "  total = 1\n",
        "  for num in numbers:\n",
        "    total = total * num\n",
        "  return total"
      ],
      "metadata": {
        "id": "s-AI0ibWInKI"
      },
      "execution_count": 17,
      "outputs": []
    },
    {
      "cell_type": "code",
      "source": [
        "multiply([1,5,3,-4])"
      ],
      "metadata": {
        "colab": {
          "base_uri": "https://localhost:8080/"
        },
        "id": "lAefSbvRKj7D",
        "outputId": "bc6e6dc8-3d6d-45f0-ec43-2f04e9f836ea"
      },
      "execution_count": 20,
      "outputs": [
        {
          "output_type": "execute_result",
          "data": {
            "text/plain": [
              "-60"
            ]
          },
          "metadata": {},
          "execution_count": 20
        }
      ]
    },
    {
      "cell_type": "code",
      "source": [
        "# Write a Python function that checks whether a word or phrase is palindrome or not.\n",
        "def palindrome(s):\n",
        "  # Remove Spaces from the String\n",
        "  s = s.replace(' ','')\n",
        "  # Check is string is == reversed version of the string\n",
        "  return s == s[::-1]"
      ],
      "metadata": {
        "id": "T4iHWnKVKmZu"
      },
      "execution_count": 23,
      "outputs": []
    },
    {
      "cell_type": "code",
      "source": [
        "palindrome('nurses run')"
      ],
      "metadata": {
        "colab": {
          "base_uri": "https://localhost:8080/"
        },
        "id": "AzZVUW8lNwms",
        "outputId": "fa3f370f-8014-4d9a-b621-40bb4d55201d"
      },
      "execution_count": 24,
      "outputs": [
        {
          "output_type": "execute_result",
          "data": {
            "text/plain": [
              "True"
            ]
          },
          "metadata": {},
          "execution_count": 24
        }
      ]
    },
    {
      "cell_type": "code",
      "source": [
        "# Write a Python function to check whether a string is pangram or not.\n",
        "#Note: Pangrams are words or sentences that conatins every letter of alphabet at least once\n",
        "\n",
        "import string\n",
        "\n",
        "def ispangram(str1, alphabet=string.ascii_lowercase):\n",
        "  # Create a set of the alphabet\n",
        "  alphaset = set(alphabet)\n",
        "  print(alphaset)\n",
        "  # Remove any spaces from the input string\n",
        "  str1 = str1.replace(' ','')\n",
        "  # Convert into all lowercase\n",
        "  str1 = str1.lower()\n",
        "  print(str1)\n",
        "  # Grab all unique letters from the string\n",
        "  str1 = set(str1)\n",
        "  # Alphabet set == string set input\n",
        "  return str1 == alphaset"
      ],
      "metadata": {
        "id": "D4Pd1AuON0mS"
      },
      "execution_count": 6,
      "outputs": []
    },
    {
      "cell_type": "code",
      "source": [
        "ispangram(\n",
        "    \"The quick brown fox jumps over the lazy dog\"\n",
        ")"
      ],
      "metadata": {
        "colab": {
          "base_uri": "https://localhost:8080/"
        },
        "id": "IUFg3HFge43T",
        "outputId": "12a339ee-c762-4d90-e09b-8f1b4db83196"
      },
      "execution_count": 7,
      "outputs": [
        {
          "output_type": "stream",
          "name": "stdout",
          "text": [
            "{'d', 'k', 's', 'r', 'f', 'l', 'p', 'c', 't', 'q', 'a', 'i', 'g', 'x', 'm', 'e', 'o', 'y', 'v', 'z', 'w', 'b', 'n', 'h', 'j', 'u'}\n",
            "thequickbrownfoxjumpsoverthelazydog\n"
          ]
        },
        {
          "output_type": "execute_result",
          "data": {
            "text/plain": [
              "True"
            ]
          },
          "metadata": {},
          "execution_count": 7
        }
      ]
    },
    {
      "cell_type": "code",
      "source": [
        "ispangram(\n",
        "    \"The quick black fox jumps over the lazy dog\"\n",
        ")"
      ],
      "metadata": {
        "colab": {
          "base_uri": "https://localhost:8080/"
        },
        "id": "ut60FZPUgst-",
        "outputId": "2ada2f6c-a3db-40be-ad90-8cf5fca16e1b"
      },
      "execution_count": 8,
      "outputs": [
        {
          "output_type": "stream",
          "name": "stdout",
          "text": [
            "{'d', 'k', 's', 'r', 'f', 'l', 'p', 'c', 't', 'q', 'a', 'i', 'g', 'x', 'm', 'e', 'o', 'y', 'v', 'z', 'w', 'b', 'n', 'h', 'j', 'u'}\n",
            "thequickblackfoxjumpsoverthelazydog\n"
          ]
        },
        {
          "output_type": "execute_result",
          "data": {
            "text/plain": [
              "False"
            ]
          },
          "metadata": {},
          "execution_count": 8
        }
      ]
    },
    {
      "cell_type": "code",
      "source": [
        "# Write a function that computes the volume of a sphere given its radius\n",
        "\n",
        "def vol(rad):\n",
        "  return (4/3)*(3.14)*(rad**3)"
      ],
      "metadata": {
        "id": "IXtyst2dhAhW"
      },
      "execution_count": 11,
      "outputs": []
    },
    {
      "cell_type": "code",
      "source": [
        "vol(2)"
      ],
      "metadata": {
        "colab": {
          "base_uri": "https://localhost:8080/"
        },
        "id": "BX7r_D86hYSj",
        "outputId": "de379ad5-7495-4836-9ba4-7b6ec73fd621"
      },
      "execution_count": 12,
      "outputs": [
        {
          "output_type": "execute_result",
          "data": {
            "text/plain": [
              "33.49333333333333"
            ]
          },
          "metadata": {},
          "execution_count": 12
        }
      ]
    },
    {
      "cell_type": "code",
      "source": [
        "# Write a function that checks whether a number is in a given range (inclusive of high and low)\n",
        "\n",
        "def ran_check(num,low,high):\n",
        "  if num in range(low,high+1):\n",
        "    print(f'{num} is in the range of {low} and {high}')\n",
        "  else:\n",
        "    print('Not in range!')"
      ],
      "metadata": {
        "id": "zKpGciOGhaS4"
      },
      "execution_count": 17,
      "outputs": []
    },
    {
      "cell_type": "code",
      "source": [
        "ran_check(5,2,5)"
      ],
      "metadata": {
        "colab": {
          "base_uri": "https://localhost:8080/"
        },
        "id": "eP1Qjb68i3oR",
        "outputId": "5c86a879-cfa6-4666-d696-9dc0458ac48d"
      },
      "execution_count": 18,
      "outputs": [
        {
          "output_type": "stream",
          "name": "stdout",
          "text": [
            "5 is in the range of 2 and 5\n"
          ]
        }
      ]
    },
    {
      "cell_type": "code",
      "source": [
        "ran_check(5,2,3)"
      ],
      "metadata": {
        "colab": {
          "base_uri": "https://localhost:8080/"
        },
        "id": "Tfwuk81ci8AU",
        "outputId": "416c021e-c7ef-4711-e46b-dd3e772a0523"
      },
      "execution_count": 19,
      "outputs": [
        {
          "output_type": "stream",
          "name": "stdout",
          "text": [
            "Not in range!\n"
          ]
        }
      ]
    }
  ]
}