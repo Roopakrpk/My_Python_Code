{
  "nbformat": 4,
  "nbformat_minor": 0,
  "metadata": {
    "colab": {
      "provenance": [],
      "authorship_tag": "ABX9TyPDzPBkMNg9/9elV+ONab7u",
      "include_colab_link": true
    },
    "kernelspec": {
      "name": "python3",
      "display_name": "Python 3"
    },
    "language_info": {
      "name": "python"
    }
  },
  "cells": [
    {
      "cell_type": "markdown",
      "metadata": {
        "id": "view-in-github",
        "colab_type": "text"
      },
      "source": [
        "<a href=\"https://colab.research.google.com/github/Roopakrpk/My_Python_Code/blob/main/Errors_and_Exception_Handling.ipynb\" target=\"_parent\"><img src=\"https://colab.research.google.com/assets/colab-badge.svg\" alt=\"Open In Colab\"/></a>"
      ]
    },
    {
      "cell_type": "code",
      "source": [
        "try:\n",
        "  f = open('testfile','r')\n",
        "  f.write(\"Write a test line\")\n",
        "except:\n",
        "  print('All other exceptions!')\n",
        "finally:\n",
        "  print('I always run')"
      ],
      "metadata": {
        "colab": {
          "base_uri": "https://localhost:8080/"
        },
        "id": "fqY4m3reDGR_",
        "outputId": "b51c255a-dee1-4a20-efb9-53d19adc948b"
      },
      "execution_count": 2,
      "outputs": [
        {
          "output_type": "stream",
          "name": "stdout",
          "text": [
            "All other exceptions!\n",
            "I always run\n"
          ]
        }
      ]
    },
    {
      "cell_type": "code",
      "source": [
        "def ask_for_int():\n",
        "\n",
        "  while True:\n",
        "    try:\n",
        "      result = int(input(\"Please provide a number: \"))\n",
        "    except:\n",
        "      print(\"Whoops! That is not a number\")\n",
        "      continue\n",
        "    else:\n",
        "      print(\"Yes thank you\")\n",
        "      break\n",
        "    finally:\n",
        "      print(\"I always run at the end\")"
      ],
      "metadata": {
        "id": "bvPXgNoCDUrS"
      },
      "execution_count": 2,
      "outputs": []
    },
    {
      "cell_type": "code",
      "source": [
        "ask_for_int()"
      ],
      "metadata": {
        "colab": {
          "base_uri": "https://localhost:8080/"
        },
        "id": "KERLRS7sFIFa",
        "outputId": "811561e7-2ba5-4443-8f87-064600b12250"
      },
      "execution_count": 3,
      "outputs": [
        {
          "output_type": "stream",
          "name": "stdout",
          "text": [
            "Please provide a number: a\n",
            "Whoops! That is not a number\n",
            "I always run at the end\n",
            "Please provide a number: 2\n",
            "Yes thank you\n",
            "I always run at the end\n"
          ]
        }
      ]
    },
    {
      "cell_type": "code",
      "source": [
        "ask_for_int()"
      ],
      "metadata": {
        "colab": {
          "base_uri": "https://localhost:8080/"
        },
        "id": "iHiteyfkFMs6",
        "outputId": "3ee38369-efc0-44b2-84f0-834624d61cd7"
      },
      "execution_count": 4,
      "outputs": [
        {
          "output_type": "stream",
          "name": "stdout",
          "text": [
            "Please provide a number: a\n",
            "Whoops! That is not a number\n",
            "I always run at the end\n",
            "Please provide a number: b\n",
            "Whoops! That is not a number\n",
            "I always run at the end\n",
            "Please provide a number: 3\n",
            "Yes thank you\n",
            "I always run at the end\n"
          ]
        }
      ]
    }
  ]
}