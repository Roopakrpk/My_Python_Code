{
  "nbformat": 4,
  "nbformat_minor": 0,
  "metadata": {
    "colab": {
      "provenance": [],
      "authorship_tag": "ABX9TyO1hOx8Iei6quViIXeayXkk",
      "include_colab_link": true
    },
    "kernelspec": {
      "name": "python3",
      "display_name": "Python 3"
    },
    "language_info": {
      "name": "python"
    }
  },
  "cells": [
    {
      "cell_type": "markdown",
      "metadata": {
        "id": "view-in-github",
        "colab_type": "text"
      },
      "source": [
        "<a href=\"https://colab.research.google.com/github/Roopakrpk/My_Python_Code/blob/main/While_Loops_in_Python.ipynb\" target=\"_parent\"><img src=\"https://colab.research.google.com/assets/colab-badge.svg\" alt=\"Open In Colab\"/></a>"
      ]
    },
    {
      "cell_type": "code",
      "execution_count": 1,
      "metadata": {
        "colab": {
          "base_uri": "https://localhost:8080/"
        },
        "id": "e1st58AUiF8Q",
        "outputId": "4b903728-98e9-40a3-a501-14b92aa824ab"
      },
      "outputs": [
        {
          "output_type": "stream",
          "name": "stdout",
          "text": [
            "The current value of x is 0\n",
            "The current value of x is 1\n",
            "The current value of x is 2\n",
            "The current value of x is 3\n",
            "The current value of x is 4\n"
          ]
        }
      ],
      "source": [
        "x = 0\n",
        "\n",
        "while x < 5:\n",
        "  print(f'The current value of x is {x}')\n",
        "  x = x + 1\n",
        "#  x += 1 (The above line can also be written like this)"
      ]
    },
    {
      "cell_type": "code",
      "source": [
        "y = 0\n",
        "\n",
        "while y < 5:\n",
        "  print(f'The current value of y is {y}')\n",
        "  y = y + 1\n",
        "else:\n",
        "  print(\"y is not less than 5\")"
      ],
      "metadata": {
        "colab": {
          "base_uri": "https://localhost:8080/"
        },
        "id": "TVCwC6spntXR",
        "outputId": "8824dead-6cfe-49b9-8d8d-7115d829a229"
      },
      "execution_count": 5,
      "outputs": [
        {
          "output_type": "stream",
          "name": "stdout",
          "text": [
            "The current value of y is 0\n",
            "The current value of y is 1\n",
            "The current value of y is 2\n",
            "The current value of y is 3\n",
            "The current value of y is 4\n",
            "y is not less than 5\n"
          ]
        }
      ]
    },
    {
      "cell_type": "code",
      "source": [
        "i = [1,2,3]\n",
        "\n",
        "for item in i:\n",
        "  # pass does nothing at all, used as a placeholder without getting syntax error.\n",
        "  pass\n",
        "print(\"end of my script\")"
      ],
      "metadata": {
        "colab": {
          "base_uri": "https://localhost:8080/"
        },
        "id": "ApoceF3loM9Q",
        "outputId": "c3ad0d11-8fa3-4576-8344-9d8d06c1f6d0"
      },
      "execution_count": 7,
      "outputs": [
        {
          "output_type": "stream",
          "name": "stdout",
          "text": [
            "end of my script\n"
          ]
        }
      ]
    },
    {
      "cell_type": "code",
      "source": [
        "# continue: Goes to the top of the closest enclosing loop.\n",
        "mystring = 'Sammy'\n",
        "\n",
        "for name in mystring:\n",
        "  if name == 'a':\n",
        "    continue\n",
        "  print(name)"
      ],
      "metadata": {
        "colab": {
          "base_uri": "https://localhost:8080/"
        },
        "id": "VHAUl2aZpTuo",
        "outputId": "63a3123c-daa6-4501-b926-d88321047cfc"
      },
      "execution_count": 10,
      "outputs": [
        {
          "output_type": "stream",
          "name": "stdout",
          "text": [
            "S\n",
            "m\n",
            "m\n",
            "y\n"
          ]
        }
      ]
    },
    {
      "cell_type": "code",
      "source": [
        "# break: Breaks out of the current closest enclosing loop.\n",
        "\n",
        "myname = 'Sam'\n",
        "for letter in myname:\n",
        "  if letter == 'a':\n",
        "    break\n",
        "  print(letter)"
      ],
      "metadata": {
        "colab": {
          "base_uri": "https://localhost:8080/"
        },
        "id": "n56US4_ZqH0f",
        "outputId": "f9243e99-a03e-4443-ed20-8354f6ed786a"
      },
      "execution_count": 12,
      "outputs": [
        {
          "output_type": "stream",
          "name": "stdout",
          "text": [
            "S\n"
          ]
        }
      ]
    },
    {
      "cell_type": "code",
      "source": [
        "k = 0\n",
        "while k < 5:\n",
        "  if k == 2:\n",
        "    break\n",
        "  print(k)\n",
        "  k += 1"
      ],
      "metadata": {
        "colab": {
          "base_uri": "https://localhost:8080/"
        },
        "id": "R4eXVFWhrDKb",
        "outputId": "904786ab-a9ad-42ea-bf15-72cddca07e7a"
      },
      "execution_count": 15,
      "outputs": [
        {
          "output_type": "stream",
          "name": "stdout",
          "text": [
            "0\n",
            "1\n"
          ]
        }
      ]
    }
  ]
}