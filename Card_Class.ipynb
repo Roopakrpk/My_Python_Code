{
  "nbformat": 4,
  "nbformat_minor": 0,
  "metadata": {
    "colab": {
      "provenance": [],
      "authorship_tag": "ABX9TyMf27GTFg+ka4f48qWgzq/U",
      "include_colab_link": true
    },
    "kernelspec": {
      "name": "python3",
      "display_name": "Python 3"
    },
    "language_info": {
      "name": "python"
    }
  },
  "cells": [
    {
      "cell_type": "markdown",
      "metadata": {
        "id": "view-in-github",
        "colab_type": "text"
      },
      "source": [
        "<a href=\"https://colab.research.google.com/github/Roopakrpk/My_Python_Code/blob/main/Card_Class.ipynb\" target=\"_parent\"><img src=\"https://colab.research.google.com/assets/colab-badge.svg\" alt=\"Open In Colab\"/></a>"
      ]
    },
    {
      "cell_type": "code",
      "execution_count": 3,
      "metadata": {
        "id": "BizbVZdeb4xa"
      },
      "outputs": [],
      "source": [
        "# CARD\n",
        "# SUIT, RANK, VALUE\n",
        "import random\n",
        "suits = ('Hearts', 'Diamonds', 'Spades', 'Clubs')\n",
        "ranks = ('Two', 'Three', 'Four', 'Five', 'Six', 'Seven', 'Eight', 'Nine', 'Ten', 'Jack', 'Queen', 'King', 'Ace')\n",
        "values = {'Two':2, 'Three':3, 'Four':4, 'Five':5, 'Six':6, 'Seven':7, 'Eight':8, 'Nine':9, 'Ten':10, 'Jack':10,\n",
        "         'Queen':10, 'King':10, 'Ace':11}"
      ]
    },
    {
      "cell_type": "code",
      "source": [
        "class Card:\n",
        "\n",
        "  def __init__(self,suit,rank):\n",
        "    self.suit = suit\n",
        "    self.rank = rank\n",
        "    self.value = values[rank]\n",
        "\n",
        "  def __str__(self):\n",
        "    return self.rank + \" of \" + self.suit"
      ],
      "metadata": {
        "id": "Fsn2xHxsedRQ"
      },
      "execution_count": 4,
      "outputs": []
    },
    {
      "cell_type": "code",
      "source": [
        "three_of_clubs = Card(\"Clubs\",\"Three\")"
      ],
      "metadata": {
        "id": "qjO7CCg0fVlx"
      },
      "execution_count": null,
      "outputs": []
    },
    {
      "cell_type": "code",
      "source": [
        "three_of_clubs.rank"
      ],
      "metadata": {
        "colab": {
          "base_uri": "https://localhost:8080/",
          "height": 35
        },
        "id": "CjTiziulfc_z",
        "outputId": "c846fb5c-dca1-44f8-b2b9-aef465e368a7"
      },
      "execution_count": null,
      "outputs": [
        {
          "output_type": "execute_result",
          "data": {
            "text/plain": [
              "'Three'"
            ],
            "application/vnd.google.colaboratory.intrinsic+json": {
              "type": "string"
            }
          },
          "metadata": {},
          "execution_count": 5
        }
      ]
    },
    {
      "cell_type": "code",
      "source": [
        "three_of_clubs.suit"
      ],
      "metadata": {
        "colab": {
          "base_uri": "https://localhost:8080/",
          "height": 35
        },
        "id": "X4YtjRmmfiZi",
        "outputId": "6501e8b1-8bc3-4809-e93e-196ec1d9de6f"
      },
      "execution_count": null,
      "outputs": [
        {
          "output_type": "execute_result",
          "data": {
            "text/plain": [
              "'Clubs'"
            ],
            "application/vnd.google.colaboratory.intrinsic+json": {
              "type": "string"
            }
          },
          "metadata": {},
          "execution_count": 6
        }
      ]
    },
    {
      "cell_type": "code",
      "source": [
        "three_of_clubs.value"
      ],
      "metadata": {
        "colab": {
          "base_uri": "https://localhost:8080/"
        },
        "id": "Jv354sp0fkcf",
        "outputId": "466e3fef-8fe6-4a10-d69b-9bc9859e09d5"
      },
      "execution_count": null,
      "outputs": [
        {
          "output_type": "execute_result",
          "data": {
            "text/plain": [
              "3"
            ]
          },
          "metadata": {},
          "execution_count": 7
        }
      ]
    },
    {
      "cell_type": "code",
      "source": [
        "two_of_hearts = Card(\"Hearts\",\"Two\")"
      ],
      "metadata": {
        "id": "mHJskGz7fltx"
      },
      "execution_count": null,
      "outputs": []
    },
    {
      "cell_type": "code",
      "source": [
        "two_of_hearts.rank"
      ],
      "metadata": {
        "colab": {
          "base_uri": "https://localhost:8080/",
          "height": 35
        },
        "id": "OrT-orKSfqvq",
        "outputId": "178290c2-c887-408c-ca32-97a59ee2d691"
      },
      "execution_count": null,
      "outputs": [
        {
          "output_type": "execute_result",
          "data": {
            "text/plain": [
              "'Two'"
            ],
            "application/vnd.google.colaboratory.intrinsic+json": {
              "type": "string"
            }
          },
          "metadata": {},
          "execution_count": 9
        }
      ]
    },
    {
      "cell_type": "code",
      "source": [
        "two_of_hearts.suit"
      ],
      "metadata": {
        "colab": {
          "base_uri": "https://localhost:8080/",
          "height": 35
        },
        "id": "vix29n9LfshR",
        "outputId": "600f4a3b-a668-4cbe-cdb6-06c04113b2c3"
      },
      "execution_count": null,
      "outputs": [
        {
          "output_type": "execute_result",
          "data": {
            "text/plain": [
              "'Hearts'"
            ],
            "application/vnd.google.colaboratory.intrinsic+json": {
              "type": "string"
            }
          },
          "metadata": {},
          "execution_count": 10
        }
      ]
    },
    {
      "cell_type": "code",
      "source": [
        "two_of_hearts.value"
      ],
      "metadata": {
        "colab": {
          "base_uri": "https://localhost:8080/"
        },
        "id": "WFNo0eo6fuD3",
        "outputId": "c66e9acc-8292-4fc4-a605-7a5c1fbf5949"
      },
      "execution_count": null,
      "outputs": [
        {
          "output_type": "execute_result",
          "data": {
            "text/plain": [
              "2"
            ]
          },
          "metadata": {},
          "execution_count": 11
        }
      ]
    },
    {
      "cell_type": "code",
      "source": [
        "two_of_hearts.value < three_of_clubs.value"
      ],
      "metadata": {
        "colab": {
          "base_uri": "https://localhost:8080/"
        },
        "id": "NLS_r4V6fu_u",
        "outputId": "616f7430-7367-48f5-b6a7-74e76bc8b067"
      },
      "execution_count": null,
      "outputs": [
        {
          "output_type": "execute_result",
          "data": {
            "text/plain": [
              "True"
            ]
          },
          "metadata": {},
          "execution_count": 12
        }
      ]
    },
    {
      "cell_type": "code",
      "source": [
        "two_of_hearts.value == three_of_clubs.value"
      ],
      "metadata": {
        "colab": {
          "base_uri": "https://localhost:8080/"
        },
        "id": "061dykiKf2_N",
        "outputId": "62bd8c55-c63e-4cbe-8607-ef6fdb73677a"
      },
      "execution_count": null,
      "outputs": [
        {
          "output_type": "execute_result",
          "data": {
            "text/plain": [
              "False"
            ]
          },
          "metadata": {},
          "execution_count": 13
        }
      ]
    },
    {
      "cell_type": "code",
      "source": [],
      "metadata": {
        "id": "tfFsCXJoQmxu"
      },
      "execution_count": null,
      "outputs": []
    },
    {
      "cell_type": "code",
      "source": [
        "from random import shuffle\n",
        "class Deck:\n",
        "\n",
        "  def __init__(self):\n",
        "    self.all_cards = []\n",
        "\n",
        "    for suit in suits:\n",
        "      for rank in ranks:\n",
        "        created_card = Card(suit,rank)\n",
        "        self.all_cards.append(created_card)\n",
        "\n",
        "  def shuffle(self):\n",
        "    shuffle(self.all_cards)\n",
        "\n",
        "  def deal_one(self):\n",
        "    return self.all_cards.pop()"
      ],
      "metadata": {
        "id": "TBGT5uUWQnI0"
      },
      "execution_count": 5,
      "outputs": []
    },
    {
      "cell_type": "code",
      "source": [
        "new_deck = Deck()"
      ],
      "metadata": {
        "id": "H1wv2mt0uydK"
      },
      "execution_count": null,
      "outputs": []
    },
    {
      "cell_type": "code",
      "source": [
        "new_deck.shuffle()"
      ],
      "metadata": {
        "id": "YcN0enTRu2uZ"
      },
      "execution_count": null,
      "outputs": []
    },
    {
      "cell_type": "code",
      "source": [
        "my_card = new_deck.deal_one()"
      ],
      "metadata": {
        "id": "ZP8HOH5vu5rI"
      },
      "execution_count": null,
      "outputs": []
    },
    {
      "cell_type": "code",
      "source": [
        "print(my_card)"
      ],
      "metadata": {
        "colab": {
          "base_uri": "https://localhost:8080/"
        },
        "id": "JvlGWzWhxn4-",
        "outputId": "6d5d6d86-65be-437d-adf9-aab9ba6ba826"
      },
      "execution_count": null,
      "outputs": [
        {
          "output_type": "stream",
          "name": "stdout",
          "text": [
            "Queen of Hearts\n"
          ]
        }
      ]
    },
    {
      "cell_type": "code",
      "source": [
        "len(new_deck.all_cards)"
      ],
      "metadata": {
        "colab": {
          "base_uri": "https://localhost:8080/"
        },
        "id": "cWMFeXMvxuJC",
        "outputId": "7c261406-ad96-48bf-c793-e17a148368cf"
      },
      "execution_count": null,
      "outputs": [
        {
          "output_type": "execute_result",
          "data": {
            "text/plain": [
              "51"
            ]
          },
          "metadata": {},
          "execution_count": 62
        }
      ]
    },
    {
      "cell_type": "code",
      "source": [
        "bottom_card = new_deck.all_cards[-1]"
      ],
      "metadata": {
        "id": "N56enivAxxGc"
      },
      "execution_count": null,
      "outputs": []
    },
    {
      "cell_type": "code",
      "source": [
        "print(bottom_card)"
      ],
      "metadata": {
        "colab": {
          "base_uri": "https://localhost:8080/"
        },
        "id": "E2evxYQSx4ZG",
        "outputId": "4917df1b-fa8e-4392-b1c5-065974abcf11"
      },
      "execution_count": null,
      "outputs": [
        {
          "output_type": "stream",
          "name": "stdout",
          "text": [
            "Four of Diamonds\n"
          ]
        }
      ]
    },
    {
      "cell_type": "code",
      "source": [
        "class Player():\n",
        "\n",
        "  def __init__(self,name):\n",
        "    self.name = name\n",
        "    self.all_cards = []\n",
        "\n",
        "  def remove_one(self):\n",
        "    return self.all_cards.pop(0)\n",
        "\n",
        "  def add_cards(self,new_cards):\n",
        "    if type(new_cards) == type([]):\n",
        "      # List of multiple card objects\n",
        "      self.all_cards.extend(new_cards)\n",
        "    else:\n",
        "      # For a single card object\n",
        "      self.all_cards.append(new_cards)\n",
        "\n",
        "  def __str__(self):\n",
        "    return f'Player {self.name} has {len(self.all_cards)} cards'"
      ],
      "metadata": {
        "id": "-l21SDPkx6HM"
      },
      "execution_count": 6,
      "outputs": []
    },
    {
      "cell_type": "code",
      "source": [
        "new_player = Player('John')"
      ],
      "metadata": {
        "id": "oPyU0P4G1tzV"
      },
      "execution_count": null,
      "outputs": []
    },
    {
      "cell_type": "code",
      "source": [
        "print(new_player)"
      ],
      "metadata": {
        "colab": {
          "base_uri": "https://localhost:8080/"
        },
        "id": "OSqb98WL1_w7",
        "outputId": "62ae962f-37f6-4ce0-da05-5a54486ab40e"
      },
      "execution_count": null,
      "outputs": [
        {
          "output_type": "stream",
          "name": "stdout",
          "text": [
            "Player John has 0 cards\n"
          ]
        }
      ]
    },
    {
      "cell_type": "code",
      "source": [
        "new_player.add_cards(my_card)"
      ],
      "metadata": {
        "id": "s2rkt9rN2Utl"
      },
      "execution_count": null,
      "outputs": []
    },
    {
      "cell_type": "code",
      "source": [
        "print(new_player)"
      ],
      "metadata": {
        "colab": {
          "base_uri": "https://localhost:8080/"
        },
        "id": "qjf7JDXo3gq9",
        "outputId": "c72ca218-6175-4369-c21b-06876b58955b"
      },
      "execution_count": null,
      "outputs": [
        {
          "output_type": "stream",
          "name": "stdout",
          "text": [
            "Player John has 1 cards\n"
          ]
        }
      ]
    },
    {
      "cell_type": "code",
      "source": [
        "print(new_player.all_cards[0])"
      ],
      "metadata": {
        "colab": {
          "base_uri": "https://localhost:8080/"
        },
        "id": "qnuavCaJ3kVg",
        "outputId": "5c9ea012-488f-4ddf-8bda-82c8acf6f930"
      },
      "execution_count": null,
      "outputs": [
        {
          "output_type": "stream",
          "name": "stdout",
          "text": [
            "Queen of Hearts\n"
          ]
        }
      ]
    },
    {
      "cell_type": "code",
      "source": [
        "new_player.add_cards([my_card,my_card,my_card])"
      ],
      "metadata": {
        "id": "-V-uYduh3thZ"
      },
      "execution_count": null,
      "outputs": []
    },
    {
      "cell_type": "code",
      "source": [
        "print(new_player)"
      ],
      "metadata": {
        "colab": {
          "base_uri": "https://localhost:8080/"
        },
        "id": "Gp9dL_8N4LWa",
        "outputId": "04dd3cab-ac83-4834-bd9d-c812b383a802"
      },
      "execution_count": null,
      "outputs": [
        {
          "output_type": "stream",
          "name": "stdout",
          "text": [
            "Player John has 4 cards\n"
          ]
        }
      ]
    },
    {
      "cell_type": "code",
      "source": [
        "new_player.remove_one()"
      ],
      "metadata": {
        "colab": {
          "base_uri": "https://localhost:8080/"
        },
        "id": "fSJqDN-I4NHD",
        "outputId": "64e48c87-e8db-43f4-ee55-29978a0eae7a"
      },
      "execution_count": null,
      "outputs": [
        {
          "output_type": "execute_result",
          "data": {
            "text/plain": [
              "<__main__.Card at 0x7ac7663a0b50>"
            ]
          },
          "metadata": {},
          "execution_count": 80
        }
      ]
    },
    {
      "cell_type": "code",
      "source": [
        "print(new_player)"
      ],
      "metadata": {
        "colab": {
          "base_uri": "https://localhost:8080/"
        },
        "id": "PKQn-XSq4Qbx",
        "outputId": "8e01c270-d3bf-44fe-8ebe-8f9ac4aaf06c"
      },
      "execution_count": null,
      "outputs": [
        {
          "output_type": "stream",
          "name": "stdout",
          "text": [
            "Player John has 3 cards\n"
          ]
        }
      ]
    },
    {
      "cell_type": "code",
      "source": [
        "# GAME SETUP\n",
        "player_one = Player(\"One\")\n",
        "player_two = Player(\"Two\")\n",
        "\n",
        "new_deck = Deck()\n",
        "new_deck.shuffle()\n",
        "\n",
        "for x in range(26):\n",
        "  player_one.add_cards(new_deck.deal_one())\n",
        "  player_two.add_cards(new_deck.deal_one())"
      ],
      "metadata": {
        "id": "lgWjW2pFSYQd"
      },
      "execution_count": 23,
      "outputs": []
    },
    {
      "cell_type": "code",
      "source": [
        "game_on = True"
      ],
      "metadata": {
        "id": "_RqEJdzTSYrV"
      },
      "execution_count": 24,
      "outputs": []
    },
    {
      "cell_type": "code",
      "source": [
        "from keyword import issoftkeyword\n",
        "round_num = 0\n",
        "\n",
        "while game_on:\n",
        "  round_num += 1\n",
        "\n",
        "  print(f\"Round {round_num}\")\n",
        "\n",
        "  if len(player_one.all_cards) == 0:\n",
        "    print(\"Player One, out of cards! Player Two Wins!\")\n",
        "    game_on = False\n",
        "    break\n",
        "\n",
        "  if len(player_two.all_cards) == 0:\n",
        "    print(\"Player Two, out of cards! Player One Wins!\")\n",
        "    game_on = False\n",
        "    break\n",
        "\n",
        "  # START A NEW ROUND\n",
        "  player_one_cards = []\n",
        "  player_one_cards.append(player_one.remove_one())\n",
        "\n",
        "  player_two_cards = []\n",
        "  player_two_cards.append(player_two.remove_one())\n",
        "\n",
        "  at_war = True\n",
        "\n",
        "  while at_war:\n",
        "\n",
        "    if player_one_cards[-1].value > player_two_cards[-1].value:\n",
        "\n",
        "      player_one.add_cards(player_one_cards)\n",
        "      player_one.add_cards(player_two_cards)\n",
        "\n",
        "      at_war = False\n",
        "\n",
        "    elif player_one_cards[-1].value < player_two_cards[-1].value:\n",
        "\n",
        "      player_two.add_cards(player_one_cards)\n",
        "      player_two.add_cards(player_two_cards)\n",
        "\n",
        "      at_war = False\n",
        "\n",
        "    else:\n",
        "      print(\"WAR!\")\n",
        "\n",
        "      if len(player_one.all_cards) < 5:\n",
        "        print(\"Player One unable to delcare War!\")\n",
        "        print(\"Player Two Wins!\")\n",
        "        game_on = False\n",
        "        break\n",
        "\n",
        "      elif len(player_two.all_cards) < 5:\n",
        "        print(\"Player Two unable to delcare War!\")\n",
        "        print(\"Player One Wins!\")\n",
        "        game_on = False\n",
        "        break\n",
        "\n",
        "      else:\n",
        "        for num in range(5):\n",
        "          player_one_cards.append(player_one.remove_one())\n",
        "          player_two_cards.append(player_two.remove_one())\n"
      ],
      "metadata": {
        "colab": {
          "base_uri": "https://localhost:8080/"
        },
        "id": "7fv1x20OS9Hc",
        "outputId": "de45f08f-07f5-4ccf-a433-96d992f22db5"
      },
      "execution_count": 25,
      "outputs": [
        {
          "output_type": "stream",
          "name": "stdout",
          "text": [
            "Round 1\n",
            "Round 2\n",
            "Round 3\n",
            "Round 4\n",
            "Round 5\n",
            "Round 6\n",
            "Round 7\n",
            "Round 8\n",
            "Round 9\n",
            "Round 10\n",
            "Round 11\n",
            "Round 12\n",
            "Round 13\n",
            "Round 14\n",
            "Round 15\n",
            "Round 16\n",
            "Round 17\n",
            "Round 18\n",
            "Round 19\n",
            "Round 20\n",
            "Round 21\n",
            "Round 22\n",
            "Round 23\n",
            "Round 24\n",
            "Round 25\n",
            "Round 26\n",
            "WAR!\n",
            "Round 27\n",
            "Round 28\n",
            "Round 29\n",
            "Round 30\n",
            "Round 31\n",
            "Round 32\n",
            "WAR!\n",
            "Round 33\n",
            "Round 34\n",
            "Round 35\n",
            "Round 36\n",
            "WAR!\n",
            "Round 37\n",
            "Round 38\n",
            "Round 39\n",
            "Round 40\n",
            "Round 41\n",
            "Round 42\n",
            "Round 43\n",
            "Round 44\n",
            "Round 45\n",
            "Round 46\n",
            "Round 47\n",
            "Round 48\n",
            "Round 49\n",
            "Round 50\n",
            "WAR!\n",
            "Round 51\n",
            "WAR!\n",
            "Round 52\n",
            "Round 53\n",
            "Round 54\n",
            "Round 55\n",
            "Round 56\n",
            "Round 57\n",
            "Round 58\n",
            "Round 59\n",
            "Round 60\n",
            "Round 61\n",
            "Round 62\n",
            "Round 63\n",
            "Round 64\n",
            "Round 65\n",
            "Round 66\n",
            "Round 67\n",
            "Round 68\n",
            "Round 69\n",
            "Round 70\n",
            "Round 71\n",
            "Round 72\n",
            "Round 73\n",
            "Round 74\n",
            "WAR!\n",
            "WAR!\n",
            "Round 75\n",
            "Round 76\n",
            "Round 77\n",
            "Round 78\n",
            "Round 79\n",
            "Round 80\n",
            "Round 81\n",
            "Round 82\n",
            "Round 83\n",
            "Round 84\n",
            "Round 85\n",
            "Round 86\n",
            "Round 87\n",
            "Round 88\n",
            "WAR!\n",
            "WAR!\n",
            "Round 89\n",
            "Round 90\n",
            "Round 91\n",
            "Round 92\n",
            "Round 93\n",
            "Round 94\n",
            "Round 95\n",
            "Round 96\n",
            "Round 97\n",
            "Round 98\n",
            "Round 99\n",
            "Round 100\n",
            "Round 101\n",
            "Round 102\n",
            "Round 103\n",
            "Round 104\n",
            "Round 105\n",
            "Round 106\n",
            "Round 107\n",
            "Round 108\n",
            "Round 109\n",
            "Round 110\n",
            "WAR!\n",
            "Round 111\n",
            "Round 112\n",
            "Round 113\n",
            "Round 114\n",
            "Round 115\n",
            "Round 116\n",
            "Round 117\n",
            "Round 118\n",
            "Round 119\n",
            "Round 120\n",
            "Round 121\n",
            "Round 122\n",
            "Round 123\n",
            "Round 124\n",
            "Round 125\n",
            "Round 126\n",
            "Round 127\n",
            "Round 128\n",
            "Round 129\n",
            "Round 130\n",
            "Round 131\n",
            "Round 132\n",
            "Round 133\n",
            "Round 134\n",
            "Round 135\n",
            "Round 136\n",
            "Round 137\n",
            "Round 138\n",
            "Round 139\n",
            "Round 140\n",
            "Round 141\n",
            "Round 142\n",
            "Round 143\n",
            "Round 144\n",
            "Round 145\n",
            "Round 146\n",
            "Round 147\n",
            "Round 148\n",
            "Round 149\n",
            "Round 150\n",
            "Round 151\n",
            "Round 152\n",
            "Round 153\n",
            "Round 154\n",
            "Round 155\n",
            "Round 156\n",
            "Round 157\n",
            "WAR!\n",
            "Round 158\n",
            "Round 159\n",
            "Round 160\n",
            "Round 161\n",
            "Round 162\n",
            "Round 163\n",
            "Round 164\n",
            "Round 165\n",
            "Round 166\n",
            "Round 167\n",
            "Round 168\n",
            "Round 169\n",
            "Round 170\n",
            "Round 171\n",
            "Round 172\n",
            "Round 173\n",
            "WAR!\n",
            "Round 174\n",
            "Round 175\n",
            "Round 176\n",
            "Round 177\n",
            "Round 178\n",
            "Round 179\n",
            "Round 180\n",
            "Round 181\n",
            "Round 182\n",
            "Round 183\n",
            "Round 184\n",
            "Round 185\n",
            "Round 186\n",
            "Round 187\n",
            "Round 188\n",
            "Round 189\n",
            "Round 190\n",
            "Round 191\n",
            "Round 192\n",
            "Round 193\n",
            "Round 194\n",
            "Round 195\n",
            "Round 196\n",
            "Round 197\n",
            "Round 198\n",
            "Round 199\n",
            "Round 200\n",
            "WAR!\n",
            "Round 201\n",
            "WAR!\n",
            "Round 202\n",
            "Round 203\n",
            "Round 204\n",
            "Round 205\n",
            "Round 206\n",
            "WAR!\n",
            "Player Two unable to delcare War!\n",
            "Player One Wins!\n"
          ]
        }
      ]
    }
  ]
}