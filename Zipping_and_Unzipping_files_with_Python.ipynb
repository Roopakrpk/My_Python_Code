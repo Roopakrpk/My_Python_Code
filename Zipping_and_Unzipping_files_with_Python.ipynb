{
  "nbformat": 4,
  "nbformat_minor": 0,
  "metadata": {
    "colab": {
      "provenance": [],
      "authorship_tag": "ABX9TyO5bwnA4xx6jPwY3M3objb/",
      "include_colab_link": true
    },
    "kernelspec": {
      "name": "python3",
      "display_name": "Python 3"
    },
    "language_info": {
      "name": "python"
    }
  },
  "cells": [
    {
      "cell_type": "markdown",
      "metadata": {
        "id": "view-in-github",
        "colab_type": "text"
      },
      "source": [
        "<a href=\"https://colab.research.google.com/github/Roopakrpk/My_Python_Code/blob/main/Zipping_and_Unzipping_files_with_Python.ipynb\" target=\"_parent\"><img src=\"https://colab.research.google.com/assets/colab-badge.svg\" alt=\"Open In Colab\"/></a>"
      ]
    },
    {
      "cell_type": "code",
      "execution_count": 2,
      "metadata": {
        "id": "Q8lv1Jy6vBI2"
      },
      "outputs": [],
      "source": [
        "f = open('fileone.txt','w+')\n",
        "f.write('ONE FILE')\n",
        "f.close()"
      ]
    },
    {
      "cell_type": "code",
      "source": [
        "f = open('filetwo.txt','w+')\n",
        "f.write('TWO FILE')\n",
        "f.close()"
      ],
      "metadata": {
        "id": "AWMrA5gfvSa_"
      },
      "execution_count": 3,
      "outputs": []
    },
    {
      "cell_type": "code",
      "source": [
        "import zipfile"
      ],
      "metadata": {
        "id": "D5Gdq3QEvfyF"
      },
      "execution_count": 4,
      "outputs": []
    },
    {
      "cell_type": "code",
      "source": [
        "comp_file = zipfile.ZipFile('com_file.zip','w')"
      ],
      "metadata": {
        "id": "PP855uL2vm-Z"
      },
      "execution_count": 5,
      "outputs": []
    },
    {
      "cell_type": "code",
      "source": [
        "comp_file.write('fileone.txt',compress_type=zipfile.ZIP_DEFLATED)"
      ],
      "metadata": {
        "id": "WBLl5UgBvw6l"
      },
      "execution_count": 6,
      "outputs": []
    },
    {
      "cell_type": "code",
      "source": [
        "comp_file.write('filetwo.txt',compress_type=zipfile.ZIP_DEFLATED)"
      ],
      "metadata": {
        "id": "5_kwxInSwU9d"
      },
      "execution_count": 7,
      "outputs": []
    },
    {
      "cell_type": "code",
      "source": [
        "comp_file.close()"
      ],
      "metadata": {
        "id": "8JnupjcUwXaV"
      },
      "execution_count": 8,
      "outputs": []
    },
    {
      "cell_type": "code",
      "source": [
        "zip_obj = zipfile.ZipFile('com_file.zip','r')"
      ],
      "metadata": {
        "id": "bqcj8Jn_wZn5"
      },
      "execution_count": 11,
      "outputs": []
    },
    {
      "cell_type": "code",
      "source": [
        "zip_obj.extractall('extracted_content')"
      ],
      "metadata": {
        "id": "KVLHaxZWw70v"
      },
      "execution_count": 12,
      "outputs": []
    },
    {
      "cell_type": "code",
      "source": [
        "pwd"
      ],
      "metadata": {
        "colab": {
          "base_uri": "https://localhost:8080/",
          "height": 36
        },
        "id": "Yg68XUgexxY7",
        "outputId": "8f0d4e02-a983-484d-ce15-d656cdb39c31"
      },
      "execution_count": 14,
      "outputs": [
        {
          "output_type": "execute_result",
          "data": {
            "text/plain": [
              "'/content'"
            ],
            "application/vnd.google.colaboratory.intrinsic+json": {
              "type": "string"
            }
          },
          "metadata": {},
          "execution_count": 14
        }
      ]
    },
    {
      "cell_type": "code",
      "source": [
        "import shutil"
      ],
      "metadata": {
        "id": "xv5SrILsxVA5"
      },
      "execution_count": 13,
      "outputs": []
    },
    {
      "cell_type": "code",
      "source": [
        "dir_to_zip = '/content/extracted_content'"
      ],
      "metadata": {
        "id": "nYqfvyoaxi6i"
      },
      "execution_count": 15,
      "outputs": []
    },
    {
      "cell_type": "code",
      "source": [
        "output_filename = 'example'"
      ],
      "metadata": {
        "id": "LG8yqrvSx6Fe"
      },
      "execution_count": 16,
      "outputs": []
    },
    {
      "cell_type": "code",
      "source": [
        "shutil.make_archive(output_filename,'zip',dir_to_zip)"
      ],
      "metadata": {
        "colab": {
          "base_uri": "https://localhost:8080/",
          "height": 36
        },
        "id": "sSMTwxlTyDLm",
        "outputId": "0f18bd6b-10bc-4e9d-cd99-f0d75ee34d20"
      },
      "execution_count": 17,
      "outputs": [
        {
          "output_type": "execute_result",
          "data": {
            "text/plain": [
              "'/content/example.zip'"
            ],
            "application/vnd.google.colaboratory.intrinsic+json": {
              "type": "string"
            }
          },
          "metadata": {},
          "execution_count": 17
        }
      ]
    },
    {
      "cell_type": "code",
      "source": [
        "shutil.unpack_archive('example.zip','final_unzip','zip')"
      ],
      "metadata": {
        "id": "Jv2ojcC9yTbV"
      },
      "execution_count": 18,
      "outputs": []
    }
  ]
}