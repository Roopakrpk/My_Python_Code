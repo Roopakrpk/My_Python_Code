{
  "nbformat": 4,
  "nbformat_minor": 0,
  "metadata": {
    "colab": {
      "provenance": [],
      "authorship_tag": "ABX9TyM1xEGvrl+ts1NAmOJCSM8k",
      "include_colab_link": true
    },
    "kernelspec": {
      "name": "python3",
      "display_name": "Python 3"
    },
    "language_info": {
      "name": "python"
    }
  },
  "cells": [
    {
      "cell_type": "markdown",
      "metadata": {
        "id": "view-in-github",
        "colab_type": "text"
      },
      "source": [
        "<a href=\"https://colab.research.google.com/github/Roopakrpk/My_Python_Code/blob/main/Python_Web_Scraping_Book_Examples_.ipynb\" target=\"_parent\"><img src=\"https://colab.research.google.com/assets/colab-badge.svg\" alt=\"Open In Colab\"/></a>"
      ]
    },
    {
      "cell_type": "code",
      "execution_count": null,
      "metadata": {
        "id": "qHSNVaavz_rZ"
      },
      "outputs": [],
      "source": [
        "# GOAL: Get title of every book with a 2 star rating"
      ]
    },
    {
      "cell_type": "code",
      "source": [
        "import requests\n",
        "import bs4"
      ],
      "metadata": {
        "id": "00riguMz0gBO"
      },
      "execution_count": null,
      "outputs": []
    },
    {
      "cell_type": "code",
      "source": [
        "base_url = 'http://books.toscrape.com/catalogue/page-{}.html'"
      ],
      "metadata": {
        "id": "l37MkLPK0j4K"
      },
      "execution_count": null,
      "outputs": []
    },
    {
      "cell_type": "code",
      "source": [
        "res = requests.get(base_url.format(1))"
      ],
      "metadata": {
        "id": "4CSHsBiM1CwG"
      },
      "execution_count": 4,
      "outputs": []
    },
    {
      "cell_type": "code",
      "source": [
        "soup = bs4.BeautifulSoup(res.text,'lxml')"
      ],
      "metadata": {
        "id": "1pSv8R-f3r8m"
      },
      "execution_count": 5,
      "outputs": []
    },
    {
      "cell_type": "code",
      "source": [
        "products = soup.select(\".product_pod\")"
      ],
      "metadata": {
        "id": "iEmFhLEp3zDK"
      },
      "execution_count": 8,
      "outputs": []
    },
    {
      "cell_type": "code",
      "source": [
        "example = products[0]"
      ],
      "metadata": {
        "id": "tkRLRDrI4EcT"
      },
      "execution_count": 9,
      "outputs": []
    },
    {
      "cell_type": "code",
      "source": [
        "example.select(\".star-rating.Three\")"
      ],
      "metadata": {
        "colab": {
          "base_uri": "https://localhost:8080/"
        },
        "id": "WqgLuIyO5fF3",
        "outputId": "5b3e4f3f-dc29-4721-8b9c-3d6b6d5f58e4"
      },
      "execution_count": 10,
      "outputs": [
        {
          "output_type": "execute_result",
          "data": {
            "text/plain": [
              "[<p class=\"star-rating Three\">\n",
              " <i class=\"icon-star\"></i>\n",
              " <i class=\"icon-star\"></i>\n",
              " <i class=\"icon-star\"></i>\n",
              " <i class=\"icon-star\"></i>\n",
              " <i class=\"icon-star\"></i>\n",
              " </p>]"
            ]
          },
          "metadata": {},
          "execution_count": 10
        }
      ]
    },
    {
      "cell_type": "code",
      "source": [
        "example"
      ],
      "metadata": {
        "colab": {
          "base_uri": "https://localhost:8080/"
        },
        "id": "Zfc9Ikjl5jhw",
        "outputId": "ec333fce-2dc8-45e2-99c8-1076cd7a1779"
      },
      "execution_count": 11,
      "outputs": [
        {
          "output_type": "execute_result",
          "data": {
            "text/plain": [
              "<article class=\"product_pod\">\n",
              "<div class=\"image_container\">\n",
              "<a href=\"a-light-in-the-attic_1000/index.html\"><img alt=\"A Light in the Attic\" class=\"thumbnail\" src=\"../media/cache/2c/da/2cdad67c44b002e7ead0cc35693c0e8b.jpg\"/></a>\n",
              "</div>\n",
              "<p class=\"star-rating Three\">\n",
              "<i class=\"icon-star\"></i>\n",
              "<i class=\"icon-star\"></i>\n",
              "<i class=\"icon-star\"></i>\n",
              "<i class=\"icon-star\"></i>\n",
              "<i class=\"icon-star\"></i>\n",
              "</p>\n",
              "<h3><a href=\"a-light-in-the-attic_1000/index.html\" title=\"A Light in the Attic\">A Light in the ...</a></h3>\n",
              "<div class=\"product_price\">\n",
              "<p class=\"price_color\">Â£51.77</p>\n",
              "<p class=\"instock availability\">\n",
              "<i class=\"icon-ok\"></i>\n",
              "    \n",
              "        In stock\n",
              "    \n",
              "</p>\n",
              "<form>\n",
              "<button class=\"btn btn-primary btn-block\" data-loading-text=\"Adding...\" type=\"submit\">Add to basket</button>\n",
              "</form>\n",
              "</div>\n",
              "</article>"
            ]
          },
          "metadata": {},
          "execution_count": 11
        }
      ]
    },
    {
      "cell_type": "code",
      "source": [
        "example.select('a')[1]['title']"
      ],
      "metadata": {
        "colab": {
          "base_uri": "https://localhost:8080/",
          "height": 36
        },
        "id": "DY_V1j7W531t",
        "outputId": "2288b4d3-19a7-48f0-c948-5cce66751b86"
      },
      "execution_count": 12,
      "outputs": [
        {
          "output_type": "execute_result",
          "data": {
            "text/plain": [
              "'A Light in the Attic'"
            ],
            "application/vnd.google.colaboratory.intrinsic+json": {
              "type": "string"
            }
          },
          "metadata": {},
          "execution_count": 12
        }
      ]
    },
    {
      "cell_type": "code",
      "source": [
        "two_star_titles = []\n",
        "\n",
        "for n in range(1,11):\n",
        "  scrape_url = base_url.format(n)\n",
        "  res = requests.get(scrape_url)\n",
        "\n",
        "  soup = bs4.BeautifulSoup(res.text,'lxml')\n",
        "  books = soup.select(\".product_pod\")\n",
        "\n",
        "  for book in books:\n",
        "    if len(book.select('.star-rating.Two')) != 0:\n",
        "      book_title = book.select('a')[1]['title']\n",
        "      two_star_titles.append(book_title)\n"
      ],
      "metadata": {
        "id": "CAnXxJ6P6V0y"
      },
      "execution_count": 13,
      "outputs": []
    },
    {
      "cell_type": "code",
      "source": [
        "two_star_titles"
      ],
      "metadata": {
        "colab": {
          "base_uri": "https://localhost:8080/"
        },
        "id": "RNBKYi6U8zx-",
        "outputId": "8784a57e-f9e3-42a3-b32f-08d777c910b0"
      },
      "execution_count": 14,
      "outputs": [
        {
          "output_type": "execute_result",
          "data": {
            "text/plain": [
              "['Starving Hearts (Triangular Trade Trilogy, #1)',\n",
              " 'Libertarianism for Beginners',\n",
              " \"It's Only the Himalayas\",\n",
              " 'How Music Works',\n",
              " 'Maude (1883-1993):She Grew Up with the country',\n",
              " \"You can't bury them all: Poems\",\n",
              " 'Reasons to Stay Alive',\n",
              " 'Without Borders (Wanderlove #1)',\n",
              " 'Soul Reader',\n",
              " 'Security',\n",
              " 'Saga, Volume 5 (Saga (Collected Editions) #5)',\n",
              " 'Reskilling America: Learning to Labor in the Twenty-First Century',\n",
              " 'Political Suicide: Missteps, Peccadilloes, Bad Calls, Backroom Hijinx, Sordid Pasts, Rotten Breaks, and Just Plain Dumb Mistakes in the Annals of American Politics',\n",
              " 'Obsidian (Lux #1)',\n",
              " 'My Paris Kitchen: Recipes and Stories',\n",
              " 'Masks and Shadows',\n",
              " 'Lumberjanes, Vol. 2: Friendship to the Max (Lumberjanes #5-8)',\n",
              " 'Lumberjanes Vol. 3: A Terrible Plan (Lumberjanes #9-12)',\n",
              " 'Judo: Seven Steps to Black Belt (an Introductory Guide for Beginners)',\n",
              " 'I Hate Fairyland, Vol. 1: Madly Ever After (I Hate Fairyland (Compilations) #1-5)',\n",
              " 'Giant Days, Vol. 2 (Giant Days #5-8)',\n",
              " 'Everydata: The Misinformation Hidden in the Little Data You Consume Every Day',\n",
              " \"Don't Be a Jerk: And Other Practical Advice from Dogen, Japan's Greatest Zen Master\",\n",
              " 'Bossypants',\n",
              " 'Bitch Planet, Vol. 1: Extraordinary Machine (Bitch Planet (Collected Editions))',\n",
              " 'Avatar: The Last Airbender: Smoke and Shadow, Part 3 (Smoke and Shadow #3)',\n",
              " 'Tuesday Nights in 1980',\n",
              " 'The Psychopath Test: A Journey Through the Madness Industry',\n",
              " 'The Power of Now: A Guide to Spiritual Enlightenment',\n",
              " \"The Omnivore's Dilemma: A Natural History of Four Meals\",\n",
              " 'The Love and Lemons Cookbook: An Apple-to-Zucchini Celebration of Impromptu Cooking',\n",
              " 'The Girl on the Train',\n",
              " 'The Emerald Mystery',\n",
              " 'The Argonauts',\n",
              " 'Suddenly in Love (Lake Haven #1)',\n",
              " 'Soft Apocalypse',\n",
              " \"So You've Been Publicly Shamed\",\n",
              " 'Shoe Dog: A Memoir by the Creator of NIKE',\n",
              " 'Louisa: The Extraordinary Life of Mrs. Adams',\n",
              " 'Large Print Heart of the Pride',\n",
              " 'Grumbles']"
            ]
          },
          "metadata": {},
          "execution_count": 14
        }
      ]
    }
  ]
}