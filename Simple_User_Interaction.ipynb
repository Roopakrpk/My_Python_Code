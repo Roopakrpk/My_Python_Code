{
  "nbformat": 4,
  "nbformat_minor": 0,
  "metadata": {
    "colab": {
      "provenance": [],
      "authorship_tag": "ABX9TyORjXmN4Ols80g2G3AZWoNB",
      "include_colab_link": true
    },
    "kernelspec": {
      "name": "python3",
      "display_name": "Python 3"
    },
    "language_info": {
      "name": "python"
    }
  },
  "cells": [
    {
      "cell_type": "markdown",
      "metadata": {
        "id": "view-in-github",
        "colab_type": "text"
      },
      "source": [
        "<a href=\"https://colab.research.google.com/github/Roopakrpk/My_Python_Code/blob/main/Simple_User_Interaction.ipynb\" target=\"_parent\"><img src=\"https://colab.research.google.com/assets/colab-badge.svg\" alt=\"Open In Colab\"/></a>"
      ]
    },
    {
      "cell_type": "markdown",
      "source": [
        "This simple interactive program involves the abilitiy to display information to the user, accept,and validate information from the use, and update based on user inputs"
      ],
      "metadata": {
        "id": "Gq2mqEfiOadV"
      }
    },
    {
      "cell_type": "code",
      "execution_count": 14,
      "metadata": {
        "id": "sY-yFLLJbpJ6"
      },
      "outputs": [],
      "source": [
        "game_list = [0,1,2]"
      ]
    },
    {
      "cell_type": "code",
      "source": [
        "def display_game(game_list):\n",
        "    print(\"Here is the current list: \")\n",
        "    print(game_list)"
      ],
      "metadata": {
        "id": "RbEnwPvxI8nu"
      },
      "execution_count": 15,
      "outputs": []
    },
    {
      "cell_type": "code",
      "source": [
        "display_game(game_list)"
      ],
      "metadata": {
        "colab": {
          "base_uri": "https://localhost:8080/"
        },
        "id": "ZqkeleZrJJC8",
        "outputId": "848fe036-504b-4085-8a8f-833758146cf8"
      },
      "execution_count": 3,
      "outputs": [
        {
          "output_type": "stream",
          "name": "stdout",
          "text": [
            "Here is the current list: \n",
            "[0, 1, 2]\n"
          ]
        }
      ]
    },
    {
      "cell_type": "code",
      "source": [
        "def position_choice():\n",
        "\n",
        "  choice = 'wrong'\n",
        "\n",
        "  while choice not in ['0','1','2']:\n",
        "    choice = input('Pick a position (0,1,2): ')\n",
        "    if choice not in ['0','1','2']:\n",
        "      print('Sorry, invalid choice! ')\n",
        "\n",
        "  return int(choice)"
      ],
      "metadata": {
        "id": "BFmtpEXmJMmf"
      },
      "execution_count": 4,
      "outputs": []
    },
    {
      "cell_type": "code",
      "source": [
        "position_choice()"
      ],
      "metadata": {
        "colab": {
          "base_uri": "https://localhost:8080/"
        },
        "id": "Cayo6kxTLBdn",
        "outputId": "ad779955-6289-40c0-96a8-954e89035561"
      },
      "execution_count": 6,
      "outputs": [
        {
          "name": "stdout",
          "output_type": "stream",
          "text": [
            "Pick a position (0,1,2): two\n",
            "Sorry, invalid choice! \n",
            "Pick a position (0,1,2): 20\n",
            "Sorry, invalid choice! \n",
            "Pick a position (0,1,2): 1\n"
          ]
        },
        {
          "output_type": "execute_result",
          "data": {
            "text/plain": [
              "1"
            ]
          },
          "metadata": {},
          "execution_count": 6
        }
      ]
    },
    {
      "cell_type": "code",
      "source": [
        "def replacement_choice(game_list, position):\n",
        "\n",
        "  user_placement = input(\"Type as string to place at position:\")\n",
        "  game_list[position] = user_placement\n",
        "  return game_list"
      ],
      "metadata": {
        "id": "PbrkXwnYLD6T"
      },
      "execution_count": 7,
      "outputs": []
    },
    {
      "cell_type": "code",
      "source": [
        "replacement_choice(game_list,2)"
      ],
      "metadata": {
        "colab": {
          "base_uri": "https://localhost:8080/"
        },
        "id": "nCFDYeSeL1AV",
        "outputId": "7623cda2-6967-4fc7-d2f6-5a8600bc6f3a"
      },
      "execution_count": 9,
      "outputs": [
        {
          "name": "stdout",
          "output_type": "stream",
          "text": [
            "Type as string to place at position:new test\n"
          ]
        },
        {
          "output_type": "execute_result",
          "data": {
            "text/plain": [
              "[0, 'test', 'new test']"
            ]
          },
          "metadata": {},
          "execution_count": 9
        }
      ]
    },
    {
      "cell_type": "code",
      "source": [
        "def gameon_choice():\n",
        "\n",
        "  choice = 'wrong'\n",
        "\n",
        "  while choice not in ['Y','N']:\n",
        "    choice = input('Keep playing? (Y or N) ')\n",
        "    if choice not in ['Y','N']:\n",
        "      print('Sorry, I dont understand, please choose Y or N ')\n",
        "\n",
        "  if choice == 'Y':\n",
        "    return True\n",
        "  else:\n",
        "    return False"
      ],
      "metadata": {
        "id": "c_DtlJ-_L5FU"
      },
      "execution_count": 10,
      "outputs": []
    },
    {
      "cell_type": "code",
      "source": [
        "gameon_choice()"
      ],
      "metadata": {
        "colab": {
          "base_uri": "https://localhost:8080/"
        },
        "id": "KQgnuyuvMMA8",
        "outputId": "48f8191e-f698-4a27-8fe4-99cfec1e6145"
      },
      "execution_count": 11,
      "outputs": [
        {
          "name": "stdout",
          "output_type": "stream",
          "text": [
            "Keep playing? (Y or N) wrong\n",
            "Sorry, I dont understand, please choose Y or N \n",
            "Keep playing? (Y or N) Y\n"
          ]
        },
        {
          "output_type": "execute_result",
          "data": {
            "text/plain": [
              "True"
            ]
          },
          "metadata": {},
          "execution_count": 11
        }
      ]
    },
    {
      "cell_type": "code",
      "source": [
        "gameon_choice()"
      ],
      "metadata": {
        "colab": {
          "base_uri": "https://localhost:8080/"
        },
        "id": "w4EarnwWM2Sy",
        "outputId": "659520b5-43b4-411b-862e-2e1b3d301777"
      },
      "execution_count": 12,
      "outputs": [
        {
          "name": "stdout",
          "output_type": "stream",
          "text": [
            "Keep playing? (Y or N) N\n"
          ]
        },
        {
          "output_type": "execute_result",
          "data": {
            "text/plain": [
              "False"
            ]
          },
          "metadata": {},
          "execution_count": 12
        }
      ]
    },
    {
      "cell_type": "code",
      "source": [
        "game_on = True\n",
        "game_list = [0,1,2]\n",
        "\n",
        "while game_on:\n",
        "  display_game(game_list)\n",
        "  position = position_choice()\n",
        "  game_list = replacement_choice(game_list,position)\n",
        "  display_game(game_list)\n",
        "  game_on = gameon_choice()"
      ],
      "metadata": {
        "colab": {
          "base_uri": "https://localhost:8080/"
        },
        "id": "qwq8WE2JM9SL",
        "outputId": "221923b5-1de0-4203-e3af-bc69e82d36b9"
      },
      "execution_count": 13,
      "outputs": [
        {
          "name": "stdout",
          "output_type": "stream",
          "text": [
            "Here is the current list: \n",
            "[0, 1, 2]\n",
            "Pick a position (0,1,2): one\n",
            "Sorry, invalid choice! \n",
            "Pick a position (0,1,2): 1\n",
            "Type as string to place at position:my choice\n",
            "Here is the current list: \n",
            "[0, 'my choice', 2]\n",
            "Keep playing? (Y or N) Y\n",
            "Here is the current list: \n",
            "[0, 'my choice', 2]\n",
            "Pick a position (0,1,2): 0\n",
            "Type as string to place at position:test\n",
            "Here is the current list: \n",
            "['test', 'my choice', 2]\n",
            "Keep playing? (Y or N) as\n",
            "Sorry, I dont understand, please choose Y or N \n",
            "Keep playing? (Y or N) N\n"
          ]
        }
      ]
    }
  ]
}