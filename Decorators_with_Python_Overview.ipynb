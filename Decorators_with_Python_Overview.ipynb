{
  "nbformat": 4,
  "nbformat_minor": 0,
  "metadata": {
    "colab": {
      "provenance": [],
      "authorship_tag": "ABX9TyNVPgA/O4dIyzRfzW8bqiVW",
      "include_colab_link": true
    },
    "kernelspec": {
      "name": "python3",
      "display_name": "Python 3"
    },
    "language_info": {
      "name": "python"
    }
  },
  "cells": [
    {
      "cell_type": "markdown",
      "metadata": {
        "id": "view-in-github",
        "colab_type": "text"
      },
      "source": [
        "<a href=\"https://colab.research.google.com/github/Roopakrpk/My_Python_Code/blob/main/Decorators_with_Python_Overview.ipynb\" target=\"_parent\"><img src=\"https://colab.research.google.com/assets/colab-badge.svg\" alt=\"Open In Colab\"/></a>"
      ]
    },
    {
      "cell_type": "code",
      "source": [
        "def func():\n",
        "  return 1"
      ],
      "metadata": {
        "id": "0PC6Gy5VdlYk"
      },
      "execution_count": 1,
      "outputs": []
    },
    {
      "cell_type": "code",
      "source": [
        "func()"
      ],
      "metadata": {
        "colab": {
          "base_uri": "https://localhost:8080/"
        },
        "id": "l2DzgAXUdnw_",
        "outputId": "8581ab5a-b287-4da1-aedc-2397a0b45fb2"
      },
      "execution_count": 2,
      "outputs": [
        {
          "output_type": "execute_result",
          "data": {
            "text/plain": [
              "1"
            ]
          },
          "metadata": {},
          "execution_count": 2
        }
      ]
    },
    {
      "cell_type": "code",
      "source": [
        "sample = func"
      ],
      "metadata": {
        "id": "VK0tmdgndpKl"
      },
      "execution_count": 3,
      "outputs": []
    },
    {
      "cell_type": "code",
      "source": [
        "sample()"
      ],
      "metadata": {
        "colab": {
          "base_uri": "https://localhost:8080/"
        },
        "id": "rRTKBazsdrlt",
        "outputId": "d1a85d55-2b79-43d6-8b52-870143bd092f"
      },
      "execution_count": 4,
      "outputs": [
        {
          "output_type": "execute_result",
          "data": {
            "text/plain": [
              "1"
            ]
          },
          "metadata": {},
          "execution_count": 4
        }
      ]
    },
    {
      "cell_type": "code",
      "source": [
        "def hello(name='John'):\n",
        "  print('The hello() function has been executed!')\n",
        "\n",
        "  def greet():\n",
        "    return '\\t This is the greet() func inside hello!'\n",
        "\n",
        "  def welcome():\n",
        "    return '\\t This is welcome() inside hello'\n",
        "\n",
        "  print(greet())\n",
        "  print(welcome())\n",
        "  print('This is the end of hello function!')"
      ],
      "metadata": {
        "id": "EAF_JPrCdswo"
      },
      "execution_count": 5,
      "outputs": []
    },
    {
      "cell_type": "code",
      "source": [
        "hello()"
      ],
      "metadata": {
        "colab": {
          "base_uri": "https://localhost:8080/"
        },
        "id": "myYPq8Z9eu-0",
        "outputId": "e948ed5b-3ad6-4e67-bd5d-7ef56c37bf8f"
      },
      "execution_count": 6,
      "outputs": [
        {
          "output_type": "stream",
          "name": "stdout",
          "text": [
            "The hello() function has been executed!\n",
            "\t This is the greet() func inside hello!\n",
            "\t This is welcome() inside hello\n",
            "This is the end of hello function!\n"
          ]
        }
      ]
    },
    {
      "cell_type": "code",
      "source": [
        "def hello(name='John'):\n",
        "  print('The hello() function has been executed!')\n",
        "\n",
        "  def greet():\n",
        "    return '\\t This is the greet() func inside hello!'\n",
        "\n",
        "  def welcome():\n",
        "    return '\\t This is welcome() inside hello'\n",
        "\n",
        "  print('I am going to retrun a function!')\n",
        "\n",
        "  if name == 'John':\n",
        "    return greet\n",
        "  else:\n",
        "    return welcome"
      ],
      "metadata": {
        "id": "ucIHEMbKexM6"
      },
      "execution_count": 7,
      "outputs": []
    },
    {
      "cell_type": "code",
      "source": [
        "my_new_func = hello('John')"
      ],
      "metadata": {
        "colab": {
          "base_uri": "https://localhost:8080/"
        },
        "id": "T0mA6XIHfUsH",
        "outputId": "f54ddf04-45a0-465f-cde0-4bbeed09188e"
      },
      "execution_count": 8,
      "outputs": [
        {
          "output_type": "stream",
          "name": "stdout",
          "text": [
            "The hello() function has been executed!\n",
            "I am going to retrun a function!\n"
          ]
        }
      ]
    },
    {
      "cell_type": "code",
      "source": [
        "my_new_func"
      ],
      "metadata": {
        "colab": {
          "base_uri": "https://localhost:8080/",
          "height": 104
        },
        "id": "xiv6oh1tfqyc",
        "outputId": "50ae0f5b-d0cb-4338-999e-a3cff7dbcbf3"
      },
      "execution_count": 9,
      "outputs": [
        {
          "output_type": "execute_result",
          "data": {
            "text/plain": [
              "<function __main__.hello.<locals>.greet()>"
            ],
            "text/html": [
              "<div style=\"max-width:800px; border: 1px solid var(--colab-border-color);\"><style>\n",
              "      pre.function-repr-contents {\n",
              "        overflow-x: auto;\n",
              "        padding: 8px 12px;\n",
              "        max-height: 500px;\n",
              "      }\n",
              "\n",
              "      pre.function-repr-contents.function-repr-contents-collapsed {\n",
              "        cursor: pointer;\n",
              "        max-height: 100px;\n",
              "      }\n",
              "    </style>\n",
              "    <pre style=\"white-space: initial; background:\n",
              "         var(--colab-secondary-surface-color); padding: 8px 12px;\n",
              "         border-bottom: 1px solid var(--colab-border-color);\"><b>hello.&lt;locals&gt;.greet</b><br/>def greet()</pre><pre class=\"function-repr-contents function-repr-contents-collapsed\" style=\"\"><a class=\"filepath\" style=\"display:none\" href=\"#\">/content/&lt;ipython-input-7-89eb6372e095&gt;</a>&lt;no docstring&gt;</pre></div>"
            ]
          },
          "metadata": {},
          "execution_count": 9
        }
      ]
    },
    {
      "cell_type": "code",
      "source": [
        "my_new_func()"
      ],
      "metadata": {
        "colab": {
          "base_uri": "https://localhost:8080/",
          "height": 36
        },
        "id": "DS9zFiFdfs3t",
        "outputId": "ac5fae3e-1306-494c-e5cc-62c16bc50d40"
      },
      "execution_count": 10,
      "outputs": [
        {
          "output_type": "execute_result",
          "data": {
            "text/plain": [
              "'\\t This is the greet() func inside hello!'"
            ],
            "application/vnd.google.colaboratory.intrinsic+json": {
              "type": "string"
            }
          },
          "metadata": {},
          "execution_count": 10
        }
      ]
    },
    {
      "cell_type": "code",
      "source": [
        "print(my_new_func())"
      ],
      "metadata": {
        "colab": {
          "base_uri": "https://localhost:8080/"
        },
        "id": "07HLcwMafvuZ",
        "outputId": "4719ef57-21f1-415d-ea4a-065e63807fb4"
      },
      "execution_count": 11,
      "outputs": [
        {
          "output_type": "stream",
          "name": "stdout",
          "text": [
            "\t This is the greet() func inside hello!\n"
          ]
        }
      ]
    },
    {
      "cell_type": "code",
      "source": [
        "def cool():\n",
        "\n",
        "  def super_cool():\n",
        "    return 'I am very cool!'\n",
        "\n",
        "  return super_cool"
      ],
      "metadata": {
        "id": "tieUJyv1f2WO"
      },
      "execution_count": 12,
      "outputs": []
    },
    {
      "cell_type": "code",
      "source": [
        "some_func = cool()"
      ],
      "metadata": {
        "id": "pGi1dFuXgRzT"
      },
      "execution_count": 13,
      "outputs": []
    },
    {
      "cell_type": "code",
      "source": [
        "some_func"
      ],
      "metadata": {
        "colab": {
          "base_uri": "https://localhost:8080/",
          "height": 104
        },
        "id": "8lvTTvCJgUTe",
        "outputId": "69f063a1-a8df-43d3-87f2-7bbee6f464fe"
      },
      "execution_count": 14,
      "outputs": [
        {
          "output_type": "execute_result",
          "data": {
            "text/plain": [
              "<function __main__.cool.<locals>.super_cool()>"
            ],
            "text/html": [
              "<div style=\"max-width:800px; border: 1px solid var(--colab-border-color);\"><style>\n",
              "      pre.function-repr-contents {\n",
              "        overflow-x: auto;\n",
              "        padding: 8px 12px;\n",
              "        max-height: 500px;\n",
              "      }\n",
              "\n",
              "      pre.function-repr-contents.function-repr-contents-collapsed {\n",
              "        cursor: pointer;\n",
              "        max-height: 100px;\n",
              "      }\n",
              "    </style>\n",
              "    <pre style=\"white-space: initial; background:\n",
              "         var(--colab-secondary-surface-color); padding: 8px 12px;\n",
              "         border-bottom: 1px solid var(--colab-border-color);\"><b>cool.&lt;locals&gt;.super_cool</b><br/>def super_cool()</pre><pre class=\"function-repr-contents function-repr-contents-collapsed\" style=\"\"><a class=\"filepath\" style=\"display:none\" href=\"#\">/content/&lt;ipython-input-12-7eddd66cb051&gt;</a>&lt;no docstring&gt;</pre></div>"
            ]
          },
          "metadata": {},
          "execution_count": 14
        }
      ]
    },
    {
      "cell_type": "code",
      "source": [
        "some_func()"
      ],
      "metadata": {
        "colab": {
          "base_uri": "https://localhost:8080/",
          "height": 36
        },
        "id": "ijuXnJ3-gVTv",
        "outputId": "e449299c-8582-4d59-c76e-147e1ef7d92b"
      },
      "execution_count": 15,
      "outputs": [
        {
          "output_type": "execute_result",
          "data": {
            "text/plain": [
              "'I am very cool!'"
            ],
            "application/vnd.google.colaboratory.intrinsic+json": {
              "type": "string"
            }
          },
          "metadata": {},
          "execution_count": 15
        }
      ]
    },
    {
      "cell_type": "code",
      "source": [
        "print(some_func())"
      ],
      "metadata": {
        "colab": {
          "base_uri": "https://localhost:8080/"
        },
        "id": "h-iQ8f2hgX8w",
        "outputId": "3603c4eb-8097-44e7-9a8e-0cd32dae9aee"
      },
      "execution_count": 16,
      "outputs": [
        {
          "output_type": "stream",
          "name": "stdout",
          "text": [
            "I am very cool!\n"
          ]
        }
      ]
    },
    {
      "cell_type": "code",
      "source": [],
      "metadata": {
        "id": "BEamx7N5gbVM"
      },
      "execution_count": null,
      "outputs": []
    },
    {
      "cell_type": "code",
      "source": [],
      "metadata": {
        "id": "Y72YliZsgk6Z"
      },
      "execution_count": null,
      "outputs": []
    },
    {
      "cell_type": "code",
      "source": [],
      "metadata": {
        "id": "TYsOaEn0gk9L"
      },
      "execution_count": null,
      "outputs": []
    },
    {
      "cell_type": "code",
      "source": [
        "def hello():\n",
        "  return 'Hi Sam'"
      ],
      "metadata": {
        "id": "GMacJEEMgk_T"
      },
      "execution_count": 17,
      "outputs": []
    },
    {
      "cell_type": "code",
      "source": [
        "def other(some_func):\n",
        "  print('Other code runs here')\n",
        "  print(some_func())"
      ],
      "metadata": {
        "id": "-6-k-8HCi0Tx"
      },
      "execution_count": 18,
      "outputs": []
    },
    {
      "cell_type": "code",
      "source": [
        "other(hello)"
      ],
      "metadata": {
        "colab": {
          "base_uri": "https://localhost:8080/"
        },
        "id": "8hcFnxNXi9oN",
        "outputId": "3d07354c-6fe5-43de-a9a9-182a312069b1"
      },
      "execution_count": 19,
      "outputs": [
        {
          "output_type": "stream",
          "name": "stdout",
          "text": [
            "Other code runs here\n",
            "Hi Sam\n"
          ]
        }
      ]
    },
    {
      "cell_type": "code",
      "source": [
        "def new_decorator(original_func):\n",
        "\n",
        "  def wrap_func():\n",
        "    print('Some extra code, before the original fucntion')\n",
        "\n",
        "    original_func()\n",
        "\n",
        "    print('Some extra code, after the original fucntion')\n",
        "\n",
        "  return wrap_func"
      ],
      "metadata": {
        "id": "N051HjgXjAAv"
      },
      "execution_count": 20,
      "outputs": []
    },
    {
      "cell_type": "code",
      "source": [
        "def func_needs_decorator():\n",
        "  print('I want to be decorated!')"
      ],
      "metadata": {
        "id": "Mi6B4NThjSMj"
      },
      "execution_count": 21,
      "outputs": []
    },
    {
      "cell_type": "code",
      "source": [
        "decorated_func = new_decorator(func_needs_decorator)"
      ],
      "metadata": {
        "id": "e5gqGjdbjaO-"
      },
      "execution_count": 22,
      "outputs": []
    },
    {
      "cell_type": "code",
      "source": [
        "decorated_func()"
      ],
      "metadata": {
        "colab": {
          "base_uri": "https://localhost:8080/"
        },
        "id": "6d6IhQl0jfdG",
        "outputId": "bbac6d54-3e46-472d-d2ea-896eb4f615cc"
      },
      "execution_count": 24,
      "outputs": [
        {
          "output_type": "stream",
          "name": "stdout",
          "text": [
            "Some extra code, before the original fucntion\n",
            "I want to be decorated!\n",
            "Some extra code, after the original fucntion\n"
          ]
        }
      ]
    },
    {
      "cell_type": "code",
      "source": [
        "@new_decorator\n",
        "def func_needs_decorator():\n",
        "  print('I want to be decorated!')"
      ],
      "metadata": {
        "id": "-cK_CeRjjgzx"
      },
      "execution_count": 29,
      "outputs": []
    },
    {
      "cell_type": "code",
      "source": [
        "func_needs_decorator()"
      ],
      "metadata": {
        "colab": {
          "base_uri": "https://localhost:8080/"
        },
        "id": "24fOqQeDjnjh",
        "outputId": "873c0f41-30c2-4cc8-ce1c-5cbe657b8e57"
      },
      "execution_count": 30,
      "outputs": [
        {
          "output_type": "stream",
          "name": "stdout",
          "text": [
            "Some extra code, before the original fucntion\n",
            "I want to be decorated!\n",
            "Some extra code, after the original fucntion\n"
          ]
        }
      ]
    }
  ]
}