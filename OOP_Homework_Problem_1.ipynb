{
  "nbformat": 4,
  "nbformat_minor": 0,
  "metadata": {
    "colab": {
      "provenance": [],
      "authorship_tag": "ABX9TyPQ51O9gwtaZMX137eVExIo",
      "include_colab_link": true
    },
    "kernelspec": {
      "name": "python3",
      "display_name": "Python 3"
    },
    "language_info": {
      "name": "python"
    }
  },
  "cells": [
    {
      "cell_type": "markdown",
      "metadata": {
        "id": "view-in-github",
        "colab_type": "text"
      },
      "source": [
        "<a href=\"https://colab.research.google.com/github/Roopakrpk/My_Python_Code/blob/main/OOP_Homework_Problem_1.ipynb\" target=\"_parent\"><img src=\"https://colab.research.google.com/assets/colab-badge.svg\" alt=\"Open In Colab\"/></a>"
      ]
    },
    {
      "cell_type": "code",
      "execution_count": 12,
      "metadata": {
        "id": "nEmUhkfEdwLt"
      },
      "outputs": [],
      "source": [
        "class Line():\n",
        "  def __init__(self,coor1,coor2):\n",
        "    self.coor1 = coor1\n",
        "    self.coor2 = coor2\n",
        "\n",
        "  def distance(self):\n",
        "    return ((self.coor2[0]-self.coor1[0])**2 + (self.coor2[1]-self.coor1[1])**2)**0.5\n",
        "\n",
        "  def slope(self):\n",
        "    return (self.coor2[1]-self.coor1[1])/(self.coor2[0]-self.coor1[0])"
      ]
    },
    {
      "cell_type": "code",
      "source": [
        "coordinate1 = (3,2)\n",
        "coordinate2 = (8,10)\n",
        "\n",
        "li = Line(coordinate1,coordinate2)"
      ],
      "metadata": {
        "id": "5YPBmt5Jgei8"
      },
      "execution_count": 13,
      "outputs": []
    },
    {
      "cell_type": "code",
      "source": [
        "li.distance()"
      ],
      "metadata": {
        "colab": {
          "base_uri": "https://localhost:8080/"
        },
        "id": "QULrVhYXgn5S",
        "outputId": "d656196c-53f8-4f27-fff1-3c82b26151e5"
      },
      "execution_count": 14,
      "outputs": [
        {
          "output_type": "execute_result",
          "data": {
            "text/plain": [
              "9.433981132056603"
            ]
          },
          "metadata": {},
          "execution_count": 14
        }
      ]
    },
    {
      "cell_type": "code",
      "source": [
        "li.slope()"
      ],
      "metadata": {
        "colab": {
          "base_uri": "https://localhost:8080/"
        },
        "id": "cmCt5zHZgpf3",
        "outputId": "64b80004-3a97-4f38-c6d3-b1a685d6681e"
      },
      "execution_count": 15,
      "outputs": [
        {
          "output_type": "execute_result",
          "data": {
            "text/plain": [
              "1.6"
            ]
          },
          "metadata": {},
          "execution_count": 15
        }
      ]
    },
    {
      "cell_type": "code",
      "source": [],
      "metadata": {
        "id": "dN0iaj9ehMpm"
      },
      "execution_count": 15,
      "outputs": []
    },
    {
      "cell_type": "code",
      "source": [],
      "metadata": {
        "id": "_24YxXGHhQC7"
      },
      "execution_count": null,
      "outputs": []
    },
    {
      "cell_type": "code",
      "source": [
        "class Cylinder():\n",
        "  def __init__(self,height=1,radius=1):\n",
        "    self.height = height\n",
        "    self.radius = radius\n",
        "\n",
        "  def volume(self):\n",
        "    return 3.14*(self.radius**2) * self.height\n",
        "\n",
        "  def surface_area(self):\n",
        "    return (2*3.14*self.radius*self.height) + (2*3.14*(self.radius**2))"
      ],
      "metadata": {
        "id": "ds0qIu6uhQMx"
      },
      "execution_count": 19,
      "outputs": []
    },
    {
      "cell_type": "code",
      "source": [
        "c = Cylinder(2,3)"
      ],
      "metadata": {
        "id": "bKJ5PE0Kik4g"
      },
      "execution_count": 20,
      "outputs": []
    },
    {
      "cell_type": "code",
      "source": [
        "c.volume()"
      ],
      "metadata": {
        "colab": {
          "base_uri": "https://localhost:8080/"
        },
        "id": "2IztUizfioRo",
        "outputId": "fa200139-4f7c-41ff-fa0a-af7c8711d423"
      },
      "execution_count": 21,
      "outputs": [
        {
          "output_type": "execute_result",
          "data": {
            "text/plain": [
              "56.52"
            ]
          },
          "metadata": {},
          "execution_count": 21
        }
      ]
    },
    {
      "cell_type": "code",
      "source": [
        "c.surface_area()"
      ],
      "metadata": {
        "colab": {
          "base_uri": "https://localhost:8080/"
        },
        "id": "byUcT_LCiq3f",
        "outputId": "801723dd-5751-4bf8-9780-580b98de66a2"
      },
      "execution_count": 22,
      "outputs": [
        {
          "output_type": "execute_result",
          "data": {
            "text/plain": [
              "94.2"
            ]
          },
          "metadata": {},
          "execution_count": 22
        }
      ]
    }
  ]
}