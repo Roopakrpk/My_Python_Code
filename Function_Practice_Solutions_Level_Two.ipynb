{
  "nbformat": 4,
  "nbformat_minor": 0,
  "metadata": {
    "colab": {
      "provenance": [],
      "authorship_tag": "ABX9TyMPeU7Z2g4l/0zszNGk3JSF",
      "include_colab_link": true
    },
    "kernelspec": {
      "name": "python3",
      "display_name": "Python 3"
    },
    "language_info": {
      "name": "python"
    }
  },
  "cells": [
    {
      "cell_type": "markdown",
      "metadata": {
        "id": "view-in-github",
        "colab_type": "text"
      },
      "source": [
        "<a href=\"https://colab.research.google.com/github/Roopakrpk/My_Python_Code/blob/main/Function_Practice_Solutions_Level_Two.ipynb\" target=\"_parent\"><img src=\"https://colab.research.google.com/assets/colab-badge.svg\" alt=\"Open In Colab\"/></a>"
      ]
    },
    {
      "cell_type": "code",
      "execution_count": null,
      "metadata": {
        "id": "PvHGYAwRc2nl"
      },
      "outputs": [],
      "source": [
        "#Find 33 - Given a list of ints, return True if the array or list contains a 3 next to 3 somewhere."
      ]
    },
    {
      "cell_type": "code",
      "source": [
        "def has_33(nums):\n",
        "  for i in range(0,len(nums)-1):\n",
        "    if nums[i] == 3 and nums[i+1] == 3:\n",
        "      return True\n",
        "\n",
        "  return False"
      ],
      "metadata": {
        "id": "8e1hB-k0c84z"
      },
      "execution_count": 1,
      "outputs": []
    },
    {
      "cell_type": "code",
      "source": [
        "has_33([1,3,3])"
      ],
      "metadata": {
        "colab": {
          "base_uri": "https://localhost:8080/"
        },
        "id": "on2QFJGYc87W",
        "outputId": "9e104ac5-3fb7-4024-df1c-b22b7b502545"
      },
      "execution_count": 2,
      "outputs": [
        {
          "output_type": "execute_result",
          "data": {
            "text/plain": [
              "True"
            ]
          },
          "metadata": {},
          "execution_count": 2
        }
      ]
    },
    {
      "cell_type": "code",
      "source": [
        "has_33([1,3,1,3])"
      ],
      "metadata": {
        "colab": {
          "base_uri": "https://localhost:8080/"
        },
        "id": "1_fNizVTc89c",
        "outputId": "a084b771-29f5-4000-d054-a2e1f936534e"
      },
      "execution_count": 3,
      "outputs": [
        {
          "output_type": "execute_result",
          "data": {
            "text/plain": [
              "False"
            ]
          },
          "metadata": {},
          "execution_count": 3
        }
      ]
    },
    {
      "cell_type": "code",
      "source": [
        "#Given a string, return a string where for every character in the original there are three characters"
      ],
      "metadata": {
        "id": "s-Dnb5ALecJ6"
      },
      "execution_count": null,
      "outputs": []
    },
    {
      "cell_type": "code",
      "source": [],
      "metadata": {
        "id": "ogXofgDKe7Fs"
      },
      "execution_count": null,
      "outputs": []
    },
    {
      "cell_type": "code",
      "source": [
        "def repeat_3(text):\n",
        "  result = ''\n",
        "\n",
        "  for char in text:\n",
        "    result += char*3\n",
        "  return result"
      ],
      "metadata": {
        "id": "volQQVNJe7Nq"
      },
      "execution_count": 5,
      "outputs": []
    },
    {
      "cell_type": "code",
      "source": [
        "repeat_3(\"Hi\")"
      ],
      "metadata": {
        "colab": {
          "base_uri": "https://localhost:8080/",
          "height": 35
        },
        "id": "EMbGZmRgfv_W",
        "outputId": "a4ed8ea5-4347-49d5-dc1c-c8a1e2a879e8"
      },
      "execution_count": 6,
      "outputs": [
        {
          "output_type": "execute_result",
          "data": {
            "text/plain": [
              "'HHHiii'"
            ],
            "application/vnd.google.colaboratory.intrinsic+json": {
              "type": "string"
            }
          },
          "metadata": {},
          "execution_count": 6
        }
      ]
    },
    {
      "cell_type": "code",
      "source": [
        "repeat_3('Good')"
      ],
      "metadata": {
        "colab": {
          "base_uri": "https://localhost:8080/",
          "height": 35
        },
        "id": "VeQsXLOEf4NP",
        "outputId": "95edff18-087e-46f0-978c-efe43208eab4"
      },
      "execution_count": 7,
      "outputs": [
        {
          "output_type": "execute_result",
          "data": {
            "text/plain": [
              "'GGGooooooddd'"
            ],
            "application/vnd.google.colaboratory.intrinsic+json": {
              "type": "string"
            }
          },
          "metadata": {},
          "execution_count": 7
        }
      ]
    },
    {
      "cell_type": "code",
      "source": [
        "#Given three integers between 1 and 11, if their sum <=21 return sum. If their sum > 21 and there's an eleven, reduce the total sum by 10.\n",
        "#Finally, if the sum exceeds 21(even after adjustment), return 'BUST'."
      ],
      "metadata": {
        "id": "QcWIYdL9f7NW"
      },
      "execution_count": 8,
      "outputs": []
    },
    {
      "cell_type": "code",
      "source": [
        "#Summer of 69: Return the sum of the numbers in the array or a list, except ignore sections of numbers starting with a 6 and extending to the next 9 (Every 6 will be followed by atleast one 9).\n",
        "#Return 0 for no numbers."
      ],
      "metadata": {
        "id": "hZiSXYmWg7Kq"
      },
      "execution_count": null,
      "outputs": []
    },
    {
      "cell_type": "code",
      "source": [
        "def summer_69(arr):\n",
        "\n",
        "  total = 0\n",
        "  add = True\n",
        "\n",
        "  for num in arr:\n",
        "    while add:\n",
        "      if num!=6:\n",
        "        total += num\n",
        "        break\n",
        "      else:\n",
        "        add = False\n",
        "    while not add:\n",
        "      if num != 9:\n",
        "        break\n",
        "      else:\n",
        "        add = True\n",
        "        break\n",
        "  return total"
      ],
      "metadata": {
        "id": "mqIUjvpvhADN"
      },
      "execution_count": 9,
      "outputs": []
    },
    {
      "cell_type": "code",
      "source": [],
      "metadata": {
        "id": "XnS1i3d8mBXE"
      },
      "execution_count": null,
      "outputs": []
    },
    {
      "cell_type": "code",
      "source": [],
      "metadata": {
        "id": "LzG9pCZbmCKv"
      },
      "execution_count": null,
      "outputs": []
    },
    {
      "cell_type": "code",
      "source": [
        "summer_69([1,3,5])"
      ],
      "metadata": {
        "colab": {
          "base_uri": "https://localhost:8080/"
        },
        "id": "y0sXsalbmCS3",
        "outputId": "068b0fb0-7a27-4ce4-8b16-f7387a3087f6"
      },
      "execution_count": 10,
      "outputs": [
        {
          "output_type": "execute_result",
          "data": {
            "text/plain": [
              "9"
            ]
          },
          "metadata": {},
          "execution_count": 10
        }
      ]
    },
    {
      "cell_type": "code",
      "source": [
        "summer_69([4,5,6,7,8,9])"
      ],
      "metadata": {
        "colab": {
          "base_uri": "https://localhost:8080/"
        },
        "id": "h56cdnPqmF7m",
        "outputId": "2de7f926-19cc-4cc1-b276-2cc272a1d043"
      },
      "execution_count": 11,
      "outputs": [
        {
          "output_type": "execute_result",
          "data": {
            "text/plain": [
              "9"
            ]
          },
          "metadata": {},
          "execution_count": 11
        }
      ]
    },
    {
      "cell_type": "code",
      "source": [
        "summer_69([2,1,6,9,11])"
      ],
      "metadata": {
        "colab": {
          "base_uri": "https://localhost:8080/"
        },
        "id": "vm6lKB3emKwq",
        "outputId": "c8ce6338-4ce2-49ac-fdd8-7df3b370e274"
      },
      "execution_count": 12,
      "outputs": [
        {
          "output_type": "execute_result",
          "data": {
            "text/plain": [
              "14"
            ]
          },
          "metadata": {},
          "execution_count": 12
        }
      ]
    },
    {
      "cell_type": "code",
      "source": [
        "summer_69([6,7,8,9])"
      ],
      "metadata": {
        "colab": {
          "base_uri": "https://localhost:8080/"
        },
        "id": "sbWBac1pmSRr",
        "outputId": "9d9ff8ca-b801-4344-c533-1dc99ced5df4"
      },
      "execution_count": 13,
      "outputs": [
        {
          "output_type": "execute_result",
          "data": {
            "text/plain": [
              "0"
            ]
          },
          "metadata": {},
          "execution_count": 13
        }
      ]
    }
  ]
}