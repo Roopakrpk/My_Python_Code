{
  "nbformat": 4,
  "nbformat_minor": 0,
  "metadata": {
    "colab": {
      "provenance": [],
      "authorship_tag": "ABX9TyNCK1l1dBlsZJtKtB5xsYeH",
      "include_colab_link": true
    },
    "kernelspec": {
      "name": "python3",
      "display_name": "Python 3"
    },
    "language_info": {
      "name": "python"
    }
  },
  "cells": [
    {
      "cell_type": "markdown",
      "metadata": {
        "id": "view-in-github",
        "colab_type": "text"
      },
      "source": [
        "<a href=\"https://colab.research.google.com/github/Roopakrpk/My_Python_Code/blob/main/Function_Exercise_Solutions_Challenge_Problem.ipynb\" target=\"_parent\"><img src=\"https://colab.research.google.com/assets/colab-badge.svg\" alt=\"Open In Colab\"/></a>"
      ]
    },
    {
      "cell_type": "code",
      "execution_count": null,
      "metadata": {
        "id": "nJ5_SMz9AnpB"
      },
      "outputs": [],
      "source": [
        "#Write a function, that takes in a list of integers and returns True if it contains 007 in order"
      ]
    },
    {
      "cell_type": "code",
      "source": [
        "def spy_game(nums):\n",
        "\n",
        "  code = [0,0,7,'a']\n",
        "  #[0,7,'a']\n",
        "  #[7,'a']\n",
        "  #['a'] lenght=1\n",
        "  for num in nums:\n",
        "    if num == code[0]:\n",
        "      code.pop(0)\n",
        "\n",
        "  return len(code) == 1"
      ],
      "metadata": {
        "id": "hyRwTlgpCK1B"
      },
      "execution_count": null,
      "outputs": []
    },
    {
      "cell_type": "code",
      "source": [
        "spy_game([1,2,4,0,0,7,5])"
      ],
      "metadata": {
        "colab": {
          "base_uri": "https://localhost:8080/"
        },
        "id": "ZuH6lDYVCK3k",
        "outputId": "75fb6a3a-232b-4045-890a-dbcdcc30b18f"
      },
      "execution_count": null,
      "outputs": [
        {
          "output_type": "execute_result",
          "data": {
            "text/plain": [
              "True"
            ]
          },
          "metadata": {},
          "execution_count": 3
        }
      ]
    },
    {
      "cell_type": "code",
      "source": [
        "spy_game([1,0,2,4,0,7,5])"
      ],
      "metadata": {
        "colab": {
          "base_uri": "https://localhost:8080/"
        },
        "id": "Vs_uxY49CxFf",
        "outputId": "12772272-4244-46f8-faf2-90600bb6f7a0"
      },
      "execution_count": null,
      "outputs": [
        {
          "output_type": "execute_result",
          "data": {
            "text/plain": [
              "True"
            ]
          },
          "metadata": {},
          "execution_count": 4
        }
      ]
    },
    {
      "cell_type": "code",
      "source": [
        "spy_game([1,7,4,0,0,2,5])"
      ],
      "metadata": {
        "colab": {
          "base_uri": "https://localhost:8080/"
        },
        "id": "-itJ3UJyC3OK",
        "outputId": "db70b682-c131-4085-836b-352606fac913"
      },
      "execution_count": null,
      "outputs": [
        {
          "output_type": "execute_result",
          "data": {
            "text/plain": [
              "False"
            ]
          },
          "metadata": {},
          "execution_count": 5
        }
      ]
    },
    {
      "cell_type": "code",
      "source": [
        "def count_primes(num):\n",
        "\n",
        "  #check for 0 or 1 input\n",
        "  if num < 2:\n",
        "    return 0\n",
        "\n",
        "  #Store our prime numbers\n",
        "  primes = [2]\n",
        "  #Couter going upto input num\n",
        "  x = 3\n",
        "\n",
        "  # x is going through every number to imput num\n",
        "  while x<= num:\n",
        "    # Check if x is prime\n",
        "    for y in primes:\n",
        "      if x%y == 0:\n",
        "        x += 2\n",
        "        break\n",
        "    else:\n",
        "      primes.append(x)\n",
        "      x += 2\n",
        "  print(primes)\n",
        "  return len(primes)"
      ],
      "metadata": {
        "id": "HsV6152fC6wl"
      },
      "execution_count": 2,
      "outputs": []
    },
    {
      "cell_type": "code",
      "source": [
        "count_primes(50)"
      ],
      "metadata": {
        "colab": {
          "base_uri": "https://localhost:8080/"
        },
        "id": "SRvWq_gnX1NP",
        "outputId": "d94da47b-15bf-4c7a-cb01-0224b0d6f563"
      },
      "execution_count": 4,
      "outputs": [
        {
          "output_type": "stream",
          "name": "stdout",
          "text": [
            "[2, 3, 5, 7, 11, 13, 17, 19, 23, 29, 31, 37, 41, 43, 47]\n"
          ]
        },
        {
          "output_type": "execute_result",
          "data": {
            "text/plain": [
              "15"
            ]
          },
          "metadata": {},
          "execution_count": 4
        }
      ]
    },
    {
      "cell_type": "code",
      "source": [],
      "metadata": {
        "id": "uo8x0E1aYhhj"
      },
      "execution_count": null,
      "outputs": []
    }
  ]
}