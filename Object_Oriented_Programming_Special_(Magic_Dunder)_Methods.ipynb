{
  "nbformat": 4,
  "nbformat_minor": 0,
  "metadata": {
    "colab": {
      "provenance": [],
      "authorship_tag": "ABX9TyPFF0ZR5PIUP/E315dkWYJt",
      "include_colab_link": true
    },
    "kernelspec": {
      "name": "python3",
      "display_name": "Python 3"
    },
    "language_info": {
      "name": "python"
    }
  },
  "cells": [
    {
      "cell_type": "markdown",
      "metadata": {
        "id": "view-in-github",
        "colab_type": "text"
      },
      "source": [
        "<a href=\"https://colab.research.google.com/github/Roopakrpk/My_Python_Code/blob/main/Object_Oriented_Programming_Special_(Magic_Dunder)_Methods.ipynb\" target=\"_parent\"><img src=\"https://colab.research.google.com/assets/colab-badge.svg\" alt=\"Open In Colab\"/></a>"
      ]
    },
    {
      "cell_type": "code",
      "execution_count": 1,
      "metadata": {
        "id": "Jv8HwTtrWm7N"
      },
      "outputs": [],
      "source": [
        "mylist = [1,2,3]"
      ]
    },
    {
      "cell_type": "code",
      "source": [
        "len(mylist)"
      ],
      "metadata": {
        "colab": {
          "base_uri": "https://localhost:8080/"
        },
        "id": "SJ9mxsrpXFHp",
        "outputId": "625b1429-5e9f-4285-9a30-c5ed728dc257"
      },
      "execution_count": 2,
      "outputs": [
        {
          "output_type": "execute_result",
          "data": {
            "text/plain": [
              "3"
            ]
          },
          "metadata": {},
          "execution_count": 2
        }
      ]
    },
    {
      "cell_type": "code",
      "source": [
        "print(mylist)"
      ],
      "metadata": {
        "colab": {
          "base_uri": "https://localhost:8080/"
        },
        "id": "YbKTJJZfXGLS",
        "outputId": "0a36b3c6-5186-47eb-a7e3-dfe3f5b93b4f"
      },
      "execution_count": 3,
      "outputs": [
        {
          "output_type": "stream",
          "name": "stdout",
          "text": [
            "[1, 2, 3]\n"
          ]
        }
      ]
    },
    {
      "cell_type": "code",
      "source": [
        "class Sample():\n",
        "  pass"
      ],
      "metadata": {
        "id": "XXtqlspPXHmO"
      },
      "execution_count": 4,
      "outputs": []
    },
    {
      "cell_type": "code",
      "source": [
        "mysample = Sample()"
      ],
      "metadata": {
        "id": "w3gteM0MXKI2"
      },
      "execution_count": 7,
      "outputs": []
    },
    {
      "cell_type": "code",
      "source": [
        "print(mysample)"
      ],
      "metadata": {
        "colab": {
          "base_uri": "https://localhost:8080/"
        },
        "id": "CoEImzswXPvg",
        "outputId": "b7e102c8-fe54-4796-884c-1d6fbde9de3c"
      },
      "execution_count": 8,
      "outputs": [
        {
          "output_type": "stream",
          "name": "stdout",
          "text": [
            "<__main__.Sample object at 0x7a045b249ae0>\n"
          ]
        }
      ]
    },
    {
      "cell_type": "code",
      "source": [
        "len(mysample)"
      ],
      "metadata": {
        "colab": {
          "base_uri": "https://localhost:8080/",
          "height": 141
        },
        "id": "RreZoyFzXWuc",
        "outputId": "86e482d8-a4e1-490f-b94f-06028b1b23df"
      },
      "execution_count": 9,
      "outputs": [
        {
          "output_type": "error",
          "ename": "TypeError",
          "evalue": "object of type 'Sample' has no len()",
          "traceback": [
            "\u001b[0;31m---------------------------------------------------------------------------\u001b[0m",
            "\u001b[0;31mTypeError\u001b[0m                                 Traceback (most recent call last)",
            "\u001b[0;32m<ipython-input-9-97b353a42cb3>\u001b[0m in \u001b[0;36m<cell line: 1>\u001b[0;34m()\u001b[0m\n\u001b[0;32m----> 1\u001b[0;31m \u001b[0mlen\u001b[0m\u001b[0;34m(\u001b[0m\u001b[0mmysample\u001b[0m\u001b[0;34m)\u001b[0m\u001b[0;34m\u001b[0m\u001b[0;34m\u001b[0m\u001b[0m\n\u001b[0m",
            "\u001b[0;31mTypeError\u001b[0m: object of type 'Sample' has no len()"
          ]
        }
      ]
    },
    {
      "cell_type": "code",
      "source": [
        "class Book():\n",
        "\n",
        "  def __init__(self,title,author,pages):\n",
        "    self.title = title\n",
        "    self.author = author\n",
        "    self.pages = pages\n",
        "\n",
        "  # Special methods\n",
        "  def __str__(self):\n",
        "    return f\"{self.title} by {self.author}\"\n",
        "\n",
        "  def __len__(self):\n",
        "    return self.pages\n",
        "\n",
        "  def __del__(self):\n",
        "    print(\"A book object has been deleted\")"
      ],
      "metadata": {
        "id": "DSCrw21mXX9G"
      },
      "execution_count": 29,
      "outputs": []
    },
    {
      "cell_type": "code",
      "source": [
        "b = Book('Python','Mark',200)"
      ],
      "metadata": {
        "id": "_iAVphX9YWav"
      },
      "execution_count": 30,
      "outputs": []
    },
    {
      "cell_type": "code",
      "source": [
        "print(b)"
      ],
      "metadata": {
        "colab": {
          "base_uri": "https://localhost:8080/"
        },
        "id": "2JpYfEgXYbuy",
        "outputId": "ff79c673-d645-4ffc-eaea-9ca049384a96"
      },
      "execution_count": 31,
      "outputs": [
        {
          "output_type": "stream",
          "name": "stdout",
          "text": [
            "Python by Mark\n"
          ]
        }
      ]
    },
    {
      "cell_type": "code",
      "source": [
        "del b"
      ],
      "metadata": {
        "colab": {
          "base_uri": "https://localhost:8080/"
        },
        "id": "cJUgx6eTZbU3",
        "outputId": "b4a49954-3b68-48f2-9a19-f9087acb9bd7"
      },
      "execution_count": 32,
      "outputs": [
        {
          "output_type": "stream",
          "name": "stdout",
          "text": [
            "A book object has been deleted\n"
          ]
        }
      ]
    },
    {
      "cell_type": "code",
      "source": [
        "len(b)"
      ],
      "metadata": {
        "colab": {
          "base_uri": "https://localhost:8080/"
        },
        "id": "iMSMPzudYccb",
        "outputId": "197da7d7-1972-4225-bbba-93f91e245e8a"
      },
      "execution_count": 26,
      "outputs": [
        {
          "output_type": "execute_result",
          "data": {
            "text/plain": [
              "200"
            ]
          },
          "metadata": {},
          "execution_count": 26
        }
      ]
    },
    {
      "cell_type": "code",
      "source": [
        "b"
      ],
      "metadata": {
        "colab": {
          "base_uri": "https://localhost:8080/",
          "height": 141
        },
        "id": "a4Ffa9vAY_y-",
        "outputId": "7a6662b8-b409-474a-a07b-265750f2d189"
      },
      "execution_count": 33,
      "outputs": [
        {
          "output_type": "error",
          "ename": "NameError",
          "evalue": "name 'b' is not defined",
          "traceback": [
            "\u001b[0;31m---------------------------------------------------------------------------\u001b[0m",
            "\u001b[0;31mNameError\u001b[0m                                 Traceback (most recent call last)",
            "\u001b[0;32m<ipython-input-33-89e6c98d9288>\u001b[0m in \u001b[0;36m<cell line: 1>\u001b[0;34m()\u001b[0m\n\u001b[0;32m----> 1\u001b[0;31m \u001b[0mb\u001b[0m\u001b[0;34m\u001b[0m\u001b[0;34m\u001b[0m\u001b[0m\n\u001b[0m",
            "\u001b[0;31mNameError\u001b[0m: name 'b' is not defined"
          ]
        }
      ]
    }
  ]
}