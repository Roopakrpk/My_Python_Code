{
  "nbformat": 4,
  "nbformat_minor": 0,
  "metadata": {
    "colab": {
      "provenance": [],
      "authorship_tag": "ABX9TyNvqHBxdizaNRKyKlbxV7oz",
      "include_colab_link": true
    },
    "kernelspec": {
      "name": "python3",
      "display_name": "Python 3"
    },
    "language_info": {
      "name": "python"
    }
  },
  "cells": [
    {
      "cell_type": "markdown",
      "metadata": {
        "id": "view-in-github",
        "colab_type": "text"
      },
      "source": [
        "<a href=\"https://colab.research.google.com/github/Roopakrpk/My_Python_Code/blob/main/_args_and_kwargs_in_Python.ipynb\" target=\"_parent\"><img src=\"https://colab.research.google.com/assets/colab-badge.svg\" alt=\"Open In Colab\"/></a>"
      ]
    },
    {
      "cell_type": "code",
      "execution_count": null,
      "metadata": {
        "id": "d9hjmChWdSMT"
      },
      "outputs": [],
      "source": [
        "def myfunc(a,b):\n",
        "  # Returns 5% of the sum of a and b\n",
        "  return(a+b)*0.05\n",
        "  #return sum((a,b))*0.05"
      ]
    },
    {
      "cell_type": "code",
      "source": [
        "myfunc(50,50)"
      ],
      "metadata": {
        "colab": {
          "base_uri": "https://localhost:8080/"
        },
        "id": "-o8TQRimeARP",
        "outputId": "6ec2a6e8-7519-40f8-a455-ecd5a175102c"
      },
      "execution_count": null,
      "outputs": [
        {
          "output_type": "execute_result",
          "data": {
            "text/plain": [
              "5.0"
            ]
          },
          "metadata": {},
          "execution_count": 6
        }
      ]
    },
    {
      "cell_type": "code",
      "source": [
        "# args return a tuple inside a function\n",
        "def myfun(*args):\n",
        "  print(args)"
      ],
      "metadata": {
        "id": "aoK07qmmeC2_"
      },
      "execution_count": null,
      "outputs": []
    },
    {
      "cell_type": "code",
      "source": [
        "myfun(40,60,100)"
      ],
      "metadata": {
        "colab": {
          "base_uri": "https://localhost:8080/"
        },
        "id": "Mz-pim3-leGG",
        "outputId": "353db7fb-b8f4-4b5f-d58b-0bc525ea2082"
      },
      "execution_count": null,
      "outputs": [
        {
          "output_type": "stream",
          "name": "stdout",
          "text": [
            "(40, 60, 100)\n"
          ]
        }
      ]
    },
    {
      "cell_type": "code",
      "source": [
        "def myfunc(*args):\n",
        "  return sum(args) * 0.05"
      ],
      "metadata": {
        "id": "DAVjaL-hlh5Y"
      },
      "execution_count": null,
      "outputs": []
    },
    {
      "cell_type": "code",
      "source": [
        "myfunc(40,10,50,100)"
      ],
      "metadata": {
        "colab": {
          "base_uri": "https://localhost:8080/"
        },
        "id": "9O_Omxb_l0XY",
        "outputId": "fccd6e3e-2329-4ca5-ac2a-6d8c22c158df"
      },
      "execution_count": null,
      "outputs": [
        {
          "output_type": "execute_result",
          "data": {
            "text/plain": [
              "10.0"
            ]
          },
          "metadata": {},
          "execution_count": 11
        }
      ]
    },
    {
      "cell_type": "code",
      "source": [
        "def myfun(*args):\n",
        "  for item in args:\n",
        "    print(item)"
      ],
      "metadata": {
        "id": "BpP6WSbBl2-c"
      },
      "execution_count": null,
      "outputs": []
    },
    {
      "cell_type": "code",
      "source": [
        "myfun(40,1,9,50,100)"
      ],
      "metadata": {
        "colab": {
          "base_uri": "https://localhost:8080/"
        },
        "id": "us4UlWuZmQxQ",
        "outputId": "58beca05-9c0b-46a6-f605-8482625264f1"
      },
      "execution_count": null,
      "outputs": [
        {
          "output_type": "stream",
          "name": "stdout",
          "text": [
            "40\n",
            "1\n",
            "9\n",
            "50\n",
            "100\n"
          ]
        }
      ]
    },
    {
      "cell_type": "code",
      "source": [
        "# kwarg will return back a dictionary\n",
        "def newfunc(**kwargs):\n",
        "  print(kwargs)\n",
        "  if 'fruit' in kwargs:\n",
        "    print('My fruit of choice is {}'.format(kwargs['fruit']))\n",
        "  else:\n",
        "    print('I did not find my fruit of choice')"
      ],
      "metadata": {
        "id": "pdDDgPH8mTaz"
      },
      "execution_count": null,
      "outputs": []
    },
    {
      "cell_type": "code",
      "source": [
        "newfunc(fruit='apple', veggies ='onion')"
      ],
      "metadata": {
        "colab": {
          "base_uri": "https://localhost:8080/"
        },
        "id": "qnv82jRqn6Jl",
        "outputId": "75a82ae9-220c-4793-bb8a-906113ec2255"
      },
      "execution_count": null,
      "outputs": [
        {
          "output_type": "stream",
          "name": "stdout",
          "text": [
            "{'fruit': 'apple', 'veggies': 'onion'}\n",
            "My fruit of choice is apple\n"
          ]
        }
      ]
    },
    {
      "cell_type": "code",
      "source": [
        "def my_function(*args,**kwargs):\n",
        "  print(args)\n",
        "  print(kwargs)\n",
        "  k=0\n",
        "  while(k<3):\n",
        "    print(' I would like to have {} {}'.format(args[k],kwargs['food']))\n",
        "    k=k+1"
      ],
      "metadata": {
        "id": "ujXFnL3koAqo"
      },
      "execution_count": 29,
      "outputs": []
    },
    {
      "cell_type": "code",
      "source": [
        "my_function(10,20,25,fruit='apple',food='eggs',animal='dog')"
      ],
      "metadata": {
        "colab": {
          "base_uri": "https://localhost:8080/"
        },
        "id": "13sV5WoMpo0O",
        "outputId": "eefa37c6-e787-4348-8cd6-bfd0a956e934"
      },
      "execution_count": 30,
      "outputs": [
        {
          "output_type": "stream",
          "name": "stdout",
          "text": [
            "(10, 20, 25)\n",
            "{'fruit': 'apple', 'food': 'eggs', 'animal': 'dog'}\n",
            " I would like to have 10 eggs\n",
            " I would like to have 20 eggs\n",
            " I would like to have 25 eggs\n"
          ]
        }
      ]
    }
  ]
}