{
  "nbformat": 4,
  "nbformat_minor": 0,
  "metadata": {
    "colab": {
      "provenance": [],
      "authorship_tag": "ABX9TyPndohxVJYYWQnrUvnksOJ5",
      "include_colab_link": true
    },
    "kernelspec": {
      "name": "python3",
      "display_name": "Python 3"
    },
    "language_info": {
      "name": "python"
    }
  },
  "cells": [
    {
      "cell_type": "markdown",
      "metadata": {
        "id": "view-in-github",
        "colab_type": "text"
      },
      "source": [
        "<a href=\"https://colab.research.google.com/github/Roopakrpk/My_Python_Code/blob/main/Milestone_Project_Tic_Tac_Toe_Board.ipynb\" target=\"_parent\"><img src=\"https://colab.research.google.com/assets/colab-badge.svg\" alt=\"Open In Colab\"/></a>"
      ]
    },
    {
      "cell_type": "markdown",
      "source": [
        "Step 1: Write a function that can print out a board. Set up your board as a list, where each index 1-9 corresponds with a number on a number pad, so you get a 3 by 3 board representation."
      ],
      "metadata": {
        "id": "UOJTo_bhEcd7"
      }
    },
    {
      "cell_type": "code",
      "source": [
        "from IPython.display import clear_output\n",
        "\n",
        "def display_board(board):\n",
        "    clear_output()\n",
        "\n",
        "    print('   |   |')\n",
        "    print(' ' + board[7] + ' | ' + board[8] + ' | ' + board[9])\n",
        "    print('   |   |')\n",
        "    print('-----------')\n",
        "    print('   |   |')\n",
        "    print(' ' + board[4] + ' | ' + board[5] + ' | ' + board[6])\n",
        "    print('   |   |')\n",
        "    print('-----------')\n",
        "    print('   |   |')\n",
        "    print(' ' + board[1] + ' | ' + board[2] + ' | ' + board[3])\n",
        "    print('   |   |')"
      ],
      "metadata": {
        "id": "gstq4ov7EfCs"
      },
      "execution_count": 1,
      "outputs": []
    },
    {
      "cell_type": "code",
      "source": [
        "test_board = ['#','X','O','X','O','X','O','X','O','X']\n",
        "display_board(test_board)"
      ],
      "metadata": {
        "colab": {
          "base_uri": "https://localhost:8080/"
        },
        "id": "LNmBJnVyEhj-",
        "outputId": "f7ab9baa-5c35-463b-cec8-c60911f01f90"
      },
      "execution_count": 2,
      "outputs": [
        {
          "output_type": "stream",
          "name": "stdout",
          "text": [
            "   |   |\n",
            " X | O | X\n",
            "   |   |\n",
            "-----------\n",
            "   |   |\n",
            " O | X | O\n",
            "   |   |\n",
            "-----------\n",
            "   |   |\n",
            " X | O | X\n",
            "   |   |\n"
          ]
        }
      ]
    },
    {
      "cell_type": "markdown",
      "source": [
        "Step 2: Write a function that can take in a player input and assign their marker as 'X' or 'O'. Think about using while loops to continually ask until you get a correct answer."
      ],
      "metadata": {
        "id": "2_gZWTHIFgmw"
      }
    },
    {
      "cell_type": "code",
      "source": [
        "def player_input():\n",
        "    marker = ''\n",
        "\n",
        "    while not (marker == 'X' or marker == 'O'):\n",
        "        marker = input('Player 1: Do you want to be X or O? ').upper()\n",
        "\n",
        "    if marker == 'X':\n",
        "        return ('X', 'O')\n",
        "    else:\n",
        "        return ('O', 'X')"
      ],
      "metadata": {
        "id": "CrrGW_IsFiGs"
      },
      "execution_count": 3,
      "outputs": []
    },
    {
      "cell_type": "code",
      "source": [
        "player_input()"
      ],
      "metadata": {
        "colab": {
          "base_uri": "https://localhost:8080/"
        },
        "id": "ZcKMfCq8F8yP",
        "outputId": "0439af21-842e-4926-a170-e9ce6edb0c72"
      },
      "execution_count": 4,
      "outputs": [
        {
          "name": "stdout",
          "output_type": "stream",
          "text": [
            "Player 1: Do you want to be X or O? X\n"
          ]
        },
        {
          "output_type": "execute_result",
          "data": {
            "text/plain": [
              "('X', 'O')"
            ]
          },
          "metadata": {},
          "execution_count": 4
        }
      ]
    },
    {
      "cell_type": "markdown",
      "source": [
        "Step 3: Write a function that takes in the board list object, a marker ('X' or 'O'), and a desired position (number 1-9) and assigns it to the board.\n",
        "\n",
        "  "
      ],
      "metadata": {
        "id": "24k0gmrTH_Rr"
      }
    },
    {
      "cell_type": "code",
      "source": [
        "def place_marker(board, marker, position):\n",
        "  board[position] = marker"
      ],
      "metadata": {
        "id": "77XiEoZjIBZQ"
      },
      "execution_count": 5,
      "outputs": []
    },
    {
      "cell_type": "code",
      "source": [
        "place_marker(test_board,'$',8)\n",
        "display_board(test_board)"
      ],
      "metadata": {
        "colab": {
          "base_uri": "https://localhost:8080/"
        },
        "id": "qHI6nybqILPd",
        "outputId": "ec9d07e9-bf3b-4786-861e-4bc968fd0898"
      },
      "execution_count": 6,
      "outputs": [
        {
          "output_type": "stream",
          "name": "stdout",
          "text": [
            "   |   |\n",
            " X | $ | X\n",
            "   |   |\n",
            "-----------\n",
            "   |   |\n",
            " O | X | O\n",
            "   |   |\n",
            "-----------\n",
            "   |   |\n",
            " X | O | X\n",
            "   |   |\n"
          ]
        }
      ]
    },
    {
      "cell_type": "markdown",
      "source": [
        "Step 4: Write a function that takes in a board and checks to see if someone has won."
      ],
      "metadata": {
        "id": "A_EfOnuXIjNZ"
      }
    },
    {
      "cell_type": "code",
      "source": [
        "def win_check(board,mark):\n",
        "  return ((board[7] == mark and board[8] == mark and board[9] == mark) or # across the top\n",
        "  (board[4] == mark and board[5] == mark and board[6] == mark) or # across the middle\n",
        "  (board[1] == mark and board[2] == mark and board[3] == mark) or # across the bottom\n",
        "  (board[7] == mark and board[4] == mark and board[1] == mark) or # down the middle\n",
        "  (board[8] == mark and board[5] == mark and board[2] == mark) or # down the middle\n",
        "  (board[9] == mark and board[6] == mark and board[3] == mark) or # down the right side\n",
        "  (board[7] == mark and board[5] == mark and board[3] == mark) or # diagonal\n",
        "  (board[9] == mark and board[5] == mark and board[1] == mark)) # diagonal"
      ],
      "metadata": {
        "id": "sPr9s0sYIlDk"
      },
      "execution_count": 7,
      "outputs": []
    },
    {
      "cell_type": "code",
      "source": [
        "win_check(test_board,'X')"
      ],
      "metadata": {
        "colab": {
          "base_uri": "https://localhost:8080/"
        },
        "id": "cGCTSgiSI19r",
        "outputId": "61f4ef67-7c67-423f-c6e4-3a4c3f45c2a5"
      },
      "execution_count": 12,
      "outputs": [
        {
          "output_type": "execute_result",
          "data": {
            "text/plain": [
              "True"
            ]
          },
          "metadata": {},
          "execution_count": 12
        }
      ]
    },
    {
      "cell_type": "markdown",
      "source": [
        "Step 5: Write a function that uses the random module to randomly decide which player goes first. You may want to lookup random.randint() Return a string of which player went first.\n",
        "\n"
      ],
      "metadata": {
        "id": "Z0t2Z08OI751"
      }
    },
    {
      "cell_type": "code",
      "source": [
        "import random\n",
        "\n",
        "def choose_first():\n",
        "  if random.randint(0, 1) == 0:\n",
        "    return 'Player 2'\n",
        "  else:\n",
        "    return 'Player 1'"
      ],
      "metadata": {
        "id": "3wrUf5k6JUZR"
      },
      "execution_count": 13,
      "outputs": []
    },
    {
      "cell_type": "markdown",
      "source": [
        "Step 6: Write a function that returns a boolean indicating whether a space on the board is freely available.\n",
        "\n"
      ],
      "metadata": {
        "id": "1g9AfgXYJmSs"
      }
    },
    {
      "cell_type": "code",
      "source": [
        "def space_check(board, position):\n",
        "\n",
        "  return board[position] == ' '"
      ],
      "metadata": {
        "id": "pFSiddIgJnEP"
      },
      "execution_count": 14,
      "outputs": []
    },
    {
      "cell_type": "markdown",
      "source": [
        "Step 7: Write a function that checks if the board is full and returns a boolean value. True if full, False otherwise.\n",
        "\n"
      ],
      "metadata": {
        "id": "79I-e2ZcKtKU"
      }
    },
    {
      "cell_type": "code",
      "source": [
        "def full_board_check(board):\n",
        "  for i in range(1,10):\n",
        "    if space_check(board, i):\n",
        "      return False\n",
        "  return True"
      ],
      "metadata": {
        "id": "yorKB6fFKt8a"
      },
      "execution_count": 15,
      "outputs": []
    },
    {
      "cell_type": "markdown",
      "source": [
        "Step 8: Write a function that asks for a player's next position (as a number 1-9) and then uses the function from step 6 to check if its a free position. If it is, then return the position for later use."
      ],
      "metadata": {
        "id": "JawAGpE6LDyb"
      }
    },
    {
      "cell_type": "code",
      "source": [
        "def player_choice(board):\n",
        "  position = 0\n",
        "\n",
        "  while position not in [1,2,3,4,5,6,7,8,9] or not space_check(board, position):\n",
        "      position = int(input('Choose your next position: (1-9) '))\n",
        "\n",
        "  return position"
      ],
      "metadata": {
        "id": "S05gMDsDK3XF"
      },
      "execution_count": 16,
      "outputs": []
    },
    {
      "cell_type": "markdown",
      "source": [
        "Step 9: Write a function that asks the player if they want to play again and returns a boolean True if they do want to play again.\n",
        "\n"
      ],
      "metadata": {
        "id": "euH79ZrBLdus"
      }
    },
    {
      "cell_type": "code",
      "source": [
        "def replay():\n",
        "\n",
        "  return input('Do you want to play again? Enter Yes or No: ').lower().startswith('y')"
      ],
      "metadata": {
        "id": "bgMI_PwtLcYl"
      },
      "execution_count": 17,
      "outputs": []
    },
    {
      "cell_type": "markdown",
      "source": [
        "Step 10: Here comes the hard part! Use while loops and the functions you've made to run the game!\n",
        "\n"
      ],
      "metadata": {
        "id": "goRVtkFlLt9e"
      }
    },
    {
      "cell_type": "code",
      "source": [
        "print('Welcome to Tic Tac Toe!')\n",
        "\n",
        "while True:\n",
        "  # Reset the board\n",
        "  theBoard = [' '] * 10\n",
        "  player1_marker, player2_marker = player_input()\n",
        "  turn = choose_first()\n",
        "  print(turn + ' will go first.')\n",
        "\n",
        "  play_game = input('Are you ready to play? Enter Yes or No.')\n",
        "\n",
        "  if play_game.lower()[0] == 'y':\n",
        "    game_on = True\n",
        "  else:\n",
        "    game_on = False\n",
        "\n",
        "  while game_on:\n",
        "    if turn == 'Player 1':\n",
        "            # Player1's turn.\n",
        "\n",
        "      display_board(theBoard)\n",
        "      position = player_choice(theBoard)\n",
        "      place_marker(theBoard, player1_marker, position)\n",
        "\n",
        "      if win_check(theBoard, player1_marker):\n",
        "        display_board(theBoard)\n",
        "        print('Congratulations! You have won the game!')\n",
        "        game_on = False\n",
        "      else:\n",
        "        if full_board_check(theBoard):\n",
        "          display_board(theBoard)\n",
        "          print('The game is a draw!')\n",
        "          break\n",
        "        else:\n",
        "          turn = 'Player 2'\n",
        "\n",
        "    else:\n",
        "            # Player2's turn.\n",
        "\n",
        "      display_board(theBoard)\n",
        "      position = player_choice(theBoard)\n",
        "      place_marker(theBoard, player2_marker, position)\n",
        "\n",
        "      if win_check(theBoard, player2_marker):\n",
        "        display_board(theBoard)\n",
        "        print('Player 2 has won!')\n",
        "        game_on = False\n",
        "      else:\n",
        "        if full_board_check(theBoard):\n",
        "          display_board(theBoard)\n",
        "          print('The game is a draw!')\n",
        "          break\n",
        "        else:\n",
        "          turn = 'Player 1'\n",
        "\n",
        "  if not replay():\n",
        "    break"
      ],
      "metadata": {
        "colab": {
          "base_uri": "https://localhost:8080/"
        },
        "id": "q4GhXmyeLsG_",
        "outputId": "69f4d48e-a9b5-4822-f55b-7dc63a3a830d"
      },
      "execution_count": 19,
      "outputs": [
        {
          "name": "stdout",
          "output_type": "stream",
          "text": [
            "   |   |\n",
            "   |   |  \n",
            "   |   |\n",
            "-----------\n",
            "   |   |\n",
            " X | X |  \n",
            "   |   |\n",
            "-----------\n",
            "   |   |\n",
            " O | O | O\n",
            "   |   |\n",
            "Player 2 has won!\n",
            "Do you want to play again? Enter Yes or No: No\n"
          ]
        }
      ]
    }
  ]
}