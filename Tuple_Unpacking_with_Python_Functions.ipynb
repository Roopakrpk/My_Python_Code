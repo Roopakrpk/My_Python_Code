{
  "nbformat": 4,
  "nbformat_minor": 0,
  "metadata": {
    "colab": {
      "provenance": [],
      "authorship_tag": "ABX9TyNc+T88x7DRqrypNatyPWnJ",
      "include_colab_link": true
    },
    "kernelspec": {
      "name": "python3",
      "display_name": "Python 3"
    },
    "language_info": {
      "name": "python"
    }
  },
  "cells": [
    {
      "cell_type": "markdown",
      "metadata": {
        "id": "view-in-github",
        "colab_type": "text"
      },
      "source": [
        "<a href=\"https://colab.research.google.com/github/Roopakrpk/My_Python_Code/blob/main/Tuple_Unpacking_with_Python_Functions.ipynb\" target=\"_parent\"><img src=\"https://colab.research.google.com/assets/colab-badge.svg\" alt=\"Open In Colab\"/></a>"
      ]
    },
    {
      "cell_type": "code",
      "execution_count": 9,
      "metadata": {
        "id": "Ap4Mnm7vChBS"
      },
      "outputs": [],
      "source": [
        "work_hours = [('Aby',1000),('Sam',2000),('Ram', 500)]"
      ]
    },
    {
      "cell_type": "code",
      "source": [
        "def employee_check(work_hours):\n",
        "\n",
        "  current_max = 0\n",
        "  emp_of_month = ''\n",
        "\n",
        "  for employee,hours in work_hours:\n",
        "    if hours>current_max:\n",
        "      current_max = hours\n",
        "      emp_of_month = employee\n",
        "    else:\n",
        "      pass\n",
        "\n",
        "  return(emp_of_month,current_max)"
      ],
      "metadata": {
        "id": "Zum3SZYMEcEM"
      },
      "execution_count": 10,
      "outputs": []
    },
    {
      "cell_type": "code",
      "source": [
        "result = employee_check(work_hours)"
      ],
      "metadata": {
        "id": "pAqbueAQFIcV"
      },
      "execution_count": 11,
      "outputs": []
    },
    {
      "cell_type": "code",
      "source": [
        "result"
      ],
      "metadata": {
        "colab": {
          "base_uri": "https://localhost:8080/"
        },
        "id": "jqaeg_GNFUan",
        "outputId": "98f6cc05-3a98-4f1b-8bc1-87340b203f25"
      },
      "execution_count": 12,
      "outputs": [
        {
          "output_type": "execute_result",
          "data": {
            "text/plain": [
              "('Sam', 2000)"
            ]
          },
          "metadata": {},
          "execution_count": 12
        }
      ]
    },
    {
      "cell_type": "code",
      "source": [
        "employee,hours = employee_check(work_hours)"
      ],
      "metadata": {
        "id": "mfyIZykWFWQr"
      },
      "execution_count": 13,
      "outputs": []
    },
    {
      "cell_type": "code",
      "source": [
        "employee"
      ],
      "metadata": {
        "colab": {
          "base_uri": "https://localhost:8080/",
          "height": 35
        },
        "id": "X-CAqDPKFjfl",
        "outputId": "d1eefe42-189e-46b9-a252-48d84930a633"
      },
      "execution_count": 14,
      "outputs": [
        {
          "output_type": "execute_result",
          "data": {
            "text/plain": [
              "'Sam'"
            ],
            "application/vnd.google.colaboratory.intrinsic+json": {
              "type": "string"
            }
          },
          "metadata": {},
          "execution_count": 14
        }
      ]
    },
    {
      "cell_type": "code",
      "source": [
        "hours"
      ],
      "metadata": {
        "colab": {
          "base_uri": "https://localhost:8080/"
        },
        "id": "RlmfzRftFkjB",
        "outputId": "c9e20c1f-ba0f-479c-dc8d-0e0edb0aad49"
      },
      "execution_count": 15,
      "outputs": [
        {
          "output_type": "execute_result",
          "data": {
            "text/plain": [
              "2000"
            ]
          },
          "metadata": {},
          "execution_count": 15
        }
      ]
    }
  ]
}