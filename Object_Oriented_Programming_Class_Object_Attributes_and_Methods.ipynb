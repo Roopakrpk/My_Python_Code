{
  "nbformat": 4,
  "nbformat_minor": 0,
  "metadata": {
    "colab": {
      "provenance": [],
      "authorship_tag": "ABX9TyOLKWt1IhtNKyBA2jYL8wsj",
      "include_colab_link": true
    },
    "kernelspec": {
      "name": "python3",
      "display_name": "Python 3"
    },
    "language_info": {
      "name": "python"
    }
  },
  "cells": [
    {
      "cell_type": "markdown",
      "metadata": {
        "id": "view-in-github",
        "colab_type": "text"
      },
      "source": [
        "<a href=\"https://colab.research.google.com/github/Roopakrpk/My_Python_Code/blob/main/Object_Oriented_Programming_Class_Object_Attributes_and_Methods.ipynb\" target=\"_parent\"><img src=\"https://colab.research.google.com/assets/colab-badge.svg\" alt=\"Open In Colab\"/></a>"
      ]
    },
    {
      "cell_type": "markdown",
      "source": [
        "Methods are essentially functions defined inside the body of the class and they are used to perform some operations that sometimes utlise the actual attributes of the object."
      ],
      "metadata": {
        "id": "0dxYJ9l8RO5S"
      }
    },
    {
      "cell_type": "code",
      "execution_count": 34,
      "metadata": {
        "id": "ykdgaM6IPTNO"
      },
      "outputs": [],
      "source": [
        "class Cat():\n",
        "\n",
        "  # Class Object Attribute\n",
        "  # Same for any instance of a class\n",
        "  species = 'mammal'\n",
        "\n",
        "  def __init__(self,breed,name): # User defined attributes\n",
        "    self.breed = breed\n",
        "    self.name = name\n",
        "\n",
        "  # Operations/Actions ---> Methods\n",
        "  def action(self,number):\n",
        "    print('Meow! My name is {} and the number is {}'.format(self.name,number))"
      ]
    },
    {
      "cell_type": "code",
      "source": [
        "my_cat = Cat('Persian','Frankie')"
      ],
      "metadata": {
        "id": "DjQGayT7PxCu"
      },
      "execution_count": 35,
      "outputs": []
    },
    {
      "cell_type": "code",
      "source": [
        "my_cat.species"
      ],
      "metadata": {
        "colab": {
          "base_uri": "https://localhost:8080/",
          "height": 35
        },
        "id": "vWf-hUmGP5kR",
        "outputId": "8485eca8-2b2a-4f7a-b050-88d7c946f1e6"
      },
      "execution_count": 31,
      "outputs": [
        {
          "output_type": "execute_result",
          "data": {
            "text/plain": [
              "'mammal'"
            ],
            "application/vnd.google.colaboratory.intrinsic+json": {
              "type": "string"
            }
          },
          "metadata": {},
          "execution_count": 31
        }
      ]
    },
    {
      "cell_type": "code",
      "source": [
        "my_cat.name"
      ],
      "metadata": {
        "colab": {
          "base_uri": "https://localhost:8080/",
          "height": 35
        },
        "id": "z15ocZktP72R",
        "outputId": "1fde40f3-acdb-496d-c826-8766b1deaf25"
      },
      "execution_count": 36,
      "outputs": [
        {
          "output_type": "execute_result",
          "data": {
            "text/plain": [
              "'Frankie'"
            ],
            "application/vnd.google.colaboratory.intrinsic+json": {
              "type": "string"
            }
          },
          "metadata": {},
          "execution_count": 36
        }
      ]
    },
    {
      "cell_type": "code",
      "source": [
        "my_cat.action(3)"
      ],
      "metadata": {
        "colab": {
          "base_uri": "https://localhost:8080/"
        },
        "id": "bgR5PybxTyhN",
        "outputId": "a5403d0d-bb71-48d6-a6f8-ffd224082459"
      },
      "execution_count": 38,
      "outputs": [
        {
          "output_type": "stream",
          "name": "stdout",
          "text": [
            "Meow! My name is Frankie and the number is 3\n"
          ]
        }
      ]
    },
    {
      "cell_type": "code",
      "source": [],
      "metadata": {
        "id": "JB1C82DlT02o"
      },
      "execution_count": null,
      "outputs": []
    },
    {
      "cell_type": "code",
      "source": [],
      "metadata": {
        "id": "zkOzXbjjVo--"
      },
      "execution_count": null,
      "outputs": []
    },
    {
      "cell_type": "code",
      "source": [],
      "metadata": {
        "id": "RrGVoEGGVpBV"
      },
      "execution_count": null,
      "outputs": []
    },
    {
      "cell_type": "code",
      "source": [],
      "metadata": {
        "id": "gAZNC1IoVp9w"
      },
      "execution_count": null,
      "outputs": []
    },
    {
      "cell_type": "code",
      "source": [
        "class Circle():\n",
        "  # Class Object Attribute\n",
        "  pi = 3.14\n",
        "\n",
        "  def __init__(self,radius=1):\n",
        "    self.radius = radius\n",
        "    # We can declare directly without passing in as a parameter in above step.\n",
        "    self.area = radius*radius*Circle.pi # self can also be called as class name\n",
        "\n",
        "  # METHOD\n",
        "  def get_circumference(self):\n",
        "    return 2*self.pi*self.radius"
      ],
      "metadata": {
        "id": "PPFy3KUpVpEH"
      },
      "execution_count": 53,
      "outputs": []
    },
    {
      "cell_type": "code",
      "source": [
        "my_circle = Circle(30)"
      ],
      "metadata": {
        "id": "0M54--dzWoRx"
      },
      "execution_count": 54,
      "outputs": []
    },
    {
      "cell_type": "code",
      "source": [
        "my_circle.pi"
      ],
      "metadata": {
        "colab": {
          "base_uri": "https://localhost:8080/"
        },
        "id": "IRHHPEVPWxHw",
        "outputId": "14f1ead2-1d28-41c3-e0ff-999f22eaad62"
      },
      "execution_count": 50,
      "outputs": [
        {
          "output_type": "execute_result",
          "data": {
            "text/plain": [
              "3.14"
            ]
          },
          "metadata": {},
          "execution_count": 50
        }
      ]
    },
    {
      "cell_type": "code",
      "source": [
        "my_circle.radius"
      ],
      "metadata": {
        "colab": {
          "base_uri": "https://localhost:8080/"
        },
        "id": "zoVfP6wBW_t0",
        "outputId": "d306ed06-045c-4ecc-a7f6-8dd973ce8e78"
      },
      "execution_count": 51,
      "outputs": [
        {
          "output_type": "execute_result",
          "data": {
            "text/plain": [
              "30"
            ]
          },
          "metadata": {},
          "execution_count": 51
        }
      ]
    },
    {
      "cell_type": "code",
      "source": [
        "my_circle.area"
      ],
      "metadata": {
        "colab": {
          "base_uri": "https://localhost:8080/"
        },
        "id": "nt9NkDaxYF4b",
        "outputId": "05e67ec8-7968-43dc-da55-9efe02bb2819"
      },
      "execution_count": 55,
      "outputs": [
        {
          "output_type": "execute_result",
          "data": {
            "text/plain": [
              "2826.0"
            ]
          },
          "metadata": {},
          "execution_count": 55
        }
      ]
    },
    {
      "cell_type": "code",
      "source": [
        "my_circle.get_circumference()"
      ],
      "metadata": {
        "colab": {
          "base_uri": "https://localhost:8080/"
        },
        "id": "NsdcsYsvXMdj",
        "outputId": "e83983ae-082e-4ea4-97c7-a77dc3a78044"
      },
      "execution_count": 52,
      "outputs": [
        {
          "output_type": "execute_result",
          "data": {
            "text/plain": [
              "188.4"
            ]
          },
          "metadata": {},
          "execution_count": 52
        }
      ]
    }
  ]
}