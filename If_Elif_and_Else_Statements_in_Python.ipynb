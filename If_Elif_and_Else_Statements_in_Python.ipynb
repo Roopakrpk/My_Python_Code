{
  "nbformat": 4,
  "nbformat_minor": 0,
  "metadata": {
    "colab": {
      "provenance": [],
      "authorship_tag": "ABX9TyPlYnt6ephIv6IUK0nEF5Tg",
      "include_colab_link": true
    },
    "kernelspec": {
      "name": "python3",
      "display_name": "Python 3"
    },
    "language_info": {
      "name": "python"
    }
  },
  "cells": [
    {
      "cell_type": "markdown",
      "metadata": {
        "id": "view-in-github",
        "colab_type": "text"
      },
      "source": [
        "<a href=\"https://colab.research.google.com/github/Roopakrpk/My_Python_Code/blob/main/If_Elif_and_Else_Statements_in_Python.ipynb\" target=\"_parent\"><img src=\"https://colab.research.google.com/assets/colab-badge.svg\" alt=\"Open In Colab\"/></a>"
      ]
    },
    {
      "cell_type": "code",
      "source": [
        "if True:\n",
        "  print('Its True!')"
      ],
      "metadata": {
        "colab": {
          "base_uri": "https://localhost:8080/"
        },
        "id": "QsmSFSe7nhkH",
        "outputId": "d5fc9d69-e649-4186-9557-4e98d9b58795"
      },
      "execution_count": 1,
      "outputs": [
        {
          "output_type": "stream",
          "name": "stdout",
          "text": [
            "Its True!\n"
          ]
        }
      ]
    },
    {
      "cell_type": "code",
      "source": [
        "if 3>2:\n",
        "  print('True!')"
      ],
      "metadata": {
        "colab": {
          "base_uri": "https://localhost:8080/"
        },
        "id": "pLiI1OkJni2h",
        "outputId": "7a65dd15-fb31-4f22-cbfb-cb78cbe45b52"
      },
      "execution_count": 2,
      "outputs": [
        {
          "output_type": "stream",
          "name": "stdout",
          "text": [
            "True!\n"
          ]
        }
      ]
    },
    {
      "cell_type": "code",
      "source": [
        "hungry = False\n",
        "if hungry:\n",
        "  print('Feed me!')\n",
        "else:\n",
        "  print('Im not hungry')"
      ],
      "metadata": {
        "colab": {
          "base_uri": "https://localhost:8080/"
        },
        "id": "Y-kn34zyoZEz",
        "outputId": "725d5a7f-99c1-4315-e09a-34b19e339038"
      },
      "execution_count": 6,
      "outputs": [
        {
          "output_type": "stream",
          "name": "stdout",
          "text": [
            "Im not hungry\n"
          ]
        }
      ]
    },
    {
      "cell_type": "code",
      "source": [
        "loc = 'Auto Shop'\n",
        "\n",
        "if loc == 'Auto Shop':\n",
        "  print(\"Cars are cool!\")\n",
        "elif loc == 'Bank':\n",
        "  print(\"Money is cool!\")\n",
        "elif loc == 'Store':\n",
        "  print(\"Welcome to the store!\")\n",
        "else:\n",
        "  print(\"I don't know much\")"
      ],
      "metadata": {
        "colab": {
          "base_uri": "https://localhost:8080/"
        },
        "id": "kR8SAE4Hod8E",
        "outputId": "0a2c34a6-307e-47c6-86b7-08f51405abc2"
      },
      "execution_count": 11,
      "outputs": [
        {
          "output_type": "stream",
          "name": "stdout",
          "text": [
            "Cars are cool!\n"
          ]
        }
      ]
    },
    {
      "cell_type": "code",
      "source": [
        "name = 'Jose'\n",
        "\n",
        "if name == 'Frankie':\n",
        "  print(\"Hello Frankie!\")\n",
        "elif name == 'Sammy':\n",
        "  print(\"Hello Sammy!\")\n",
        "else:\n",
        "  print(\"What is your name?\")\n"
      ],
      "metadata": {
        "colab": {
          "base_uri": "https://localhost:8080/"
        },
        "id": "dQzwo6yOp2Es",
        "outputId": "7196cc0a-1962-4ae8-b291-9b4f88b87fcf"
      },
      "execution_count": 13,
      "outputs": [
        {
          "output_type": "stream",
          "name": "stdout",
          "text": [
            "What is your name?\n"
          ]
        }
      ]
    }
  ]
}