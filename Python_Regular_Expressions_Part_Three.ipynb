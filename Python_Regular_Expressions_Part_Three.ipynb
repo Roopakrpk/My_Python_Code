{
  "nbformat": 4,
  "nbformat_minor": 0,
  "metadata": {
    "colab": {
      "provenance": [],
      "authorship_tag": "ABX9TyOLAabmQo7iq426a2KDzBvn",
      "include_colab_link": true
    },
    "kernelspec": {
      "name": "python3",
      "display_name": "Python 3"
    },
    "language_info": {
      "name": "python"
    }
  },
  "cells": [
    {
      "cell_type": "markdown",
      "metadata": {
        "id": "view-in-github",
        "colab_type": "text"
      },
      "source": [
        "<a href=\"https://colab.research.google.com/github/Roopakrpk/My_Python_Code/blob/main/Python_Regular_Expressions_Part_Three.ipynb\" target=\"_parent\"><img src=\"https://colab.research.google.com/assets/colab-badge.svg\" alt=\"Open In Colab\"/></a>"
      ]
    },
    {
      "cell_type": "code",
      "execution_count": 1,
      "metadata": {
        "id": "M-gndETZDimU"
      },
      "outputs": [],
      "source": [
        "import re"
      ]
    },
    {
      "cell_type": "code",
      "source": [
        "re.search(r'cat|dog','The dog is here')"
      ],
      "metadata": {
        "colab": {
          "base_uri": "https://localhost:8080/"
        },
        "id": "ok9OTdc9Dois",
        "outputId": "79bf5a4a-f65f-44e9-fe2a-6b7834611636"
      },
      "execution_count": 3,
      "outputs": [
        {
          "output_type": "execute_result",
          "data": {
            "text/plain": [
              "<re.Match object; span=(4, 7), match='dog'>"
            ]
          },
          "metadata": {},
          "execution_count": 3
        }
      ]
    },
    {
      "cell_type": "code",
      "source": [
        "re.search(r'cat|dog','The cat is here')"
      ],
      "metadata": {
        "colab": {
          "base_uri": "https://localhost:8080/"
        },
        "id": "wtUPrH_mECZr",
        "outputId": "5d89d45c-bff2-4fe0-b9c1-b2165efc0bde"
      },
      "execution_count": 4,
      "outputs": [
        {
          "output_type": "execute_result",
          "data": {
            "text/plain": [
              "<re.Match object; span=(4, 7), match='cat'>"
            ]
          },
          "metadata": {},
          "execution_count": 4
        }
      ]
    },
    {
      "cell_type": "code",
      "source": [
        "re.findall(r'at','The cat in the hat sat there')"
      ],
      "metadata": {
        "colab": {
          "base_uri": "https://localhost:8080/"
        },
        "id": "QNLKSoIeEF4G",
        "outputId": "e6a1c655-9a11-4244-d6a2-39ea6c612b2a"
      },
      "execution_count": 7,
      "outputs": [
        {
          "output_type": "execute_result",
          "data": {
            "text/plain": [
              "['at', 'at', 'at']"
            ]
          },
          "metadata": {},
          "execution_count": 7
        }
      ]
    },
    {
      "cell_type": "code",
      "source": [
        "re.findall(r'.at','The cat in the hat sat there')"
      ],
      "metadata": {
        "colab": {
          "base_uri": "https://localhost:8080/"
        },
        "id": "lDcIJdoXENQY",
        "outputId": "bb7c5183-2abd-45e7-cea6-0cecaba63ff3"
      },
      "execution_count": 8,
      "outputs": [
        {
          "output_type": "execute_result",
          "data": {
            "text/plain": [
              "['cat', 'hat', 'sat']"
            ]
          },
          "metadata": {},
          "execution_count": 8
        }
      ]
    },
    {
      "cell_type": "code",
      "source": [
        "re.findall(r'...at','The cat in the hat went splat')"
      ],
      "metadata": {
        "colab": {
          "base_uri": "https://localhost:8080/"
        },
        "id": "0_v3nqACEXv5",
        "outputId": "bf76c1a5-22aa-41b3-f75c-ec316b9a78cf"
      },
      "execution_count": 10,
      "outputs": [
        {
          "output_type": "execute_result",
          "data": {
            "text/plain": [
              "['e cat', 'e hat', 'splat']"
            ]
          },
          "metadata": {},
          "execution_count": 10
        }
      ]
    },
    {
      "cell_type": "code",
      "source": [
        "re.findall(r'^\\d','1 is a number')"
      ],
      "metadata": {
        "colab": {
          "base_uri": "https://localhost:8080/"
        },
        "id": "rIEaRZm3Eb7V",
        "outputId": "da319f8f-be81-46ae-d6b2-c1a367b752ad"
      },
      "execution_count": 11,
      "outputs": [
        {
          "output_type": "execute_result",
          "data": {
            "text/plain": [
              "['1']"
            ]
          },
          "metadata": {},
          "execution_count": 11
        }
      ]
    },
    {
      "cell_type": "code",
      "source": [
        "re.findall(r'^\\d','The 2 is a number')"
      ],
      "metadata": {
        "colab": {
          "base_uri": "https://localhost:8080/"
        },
        "id": "-oYwmzPdEuNy",
        "outputId": "1ed67a25-cb70-4f7d-e1f9-6b3cda85a76d"
      },
      "execution_count": 12,
      "outputs": [
        {
          "output_type": "execute_result",
          "data": {
            "text/plain": [
              "[]"
            ]
          },
          "metadata": {},
          "execution_count": 12
        }
      ]
    },
    {
      "cell_type": "code",
      "source": [
        "re.findall(r'\\d$','The number is 2')"
      ],
      "metadata": {
        "colab": {
          "base_uri": "https://localhost:8080/"
        },
        "id": "jLhNvh3NE32Y",
        "outputId": "85dd2118-cbbb-4080-d978-d38abef707f9"
      },
      "execution_count": 14,
      "outputs": [
        {
          "output_type": "execute_result",
          "data": {
            "text/plain": [
              "['2']"
            ]
          },
          "metadata": {},
          "execution_count": 14
        }
      ]
    },
    {
      "cell_type": "code",
      "source": [],
      "metadata": {
        "id": "D95fIwv7FOWm"
      },
      "execution_count": null,
      "outputs": []
    },
    {
      "cell_type": "code",
      "source": [],
      "metadata": {
        "id": "SYhuY0CaFOZJ"
      },
      "execution_count": null,
      "outputs": []
    },
    {
      "cell_type": "code",
      "source": [
        "phrase = 'there are 3 numbers 34 inside 5 this sentence'"
      ],
      "metadata": {
        "id": "gzR-ffyxFObU"
      },
      "execution_count": 15,
      "outputs": []
    },
    {
      "cell_type": "code",
      "source": [
        "pattern = r'[^\\d]+'"
      ],
      "metadata": {
        "id": "Hjei8g6AGD4R"
      },
      "execution_count": 18,
      "outputs": []
    },
    {
      "cell_type": "code",
      "source": [
        "re.findall(pattern, phrase)"
      ],
      "metadata": {
        "colab": {
          "base_uri": "https://localhost:8080/"
        },
        "id": "Nd_C0HV8GbWw",
        "outputId": "9ae84dd1-a7d6-4a8a-c19f-e9c62a5e044c"
      },
      "execution_count": 19,
      "outputs": [
        {
          "output_type": "execute_result",
          "data": {
            "text/plain": [
              "['there are ', ' numbers ', ' inside ', ' this sentence']"
            ]
          },
          "metadata": {},
          "execution_count": 19
        }
      ]
    },
    {
      "cell_type": "code",
      "source": [
        "test_phrase = 'This is a string! But it has punctuation. How can we remove it?'"
      ],
      "metadata": {
        "id": "lfX5hANRGepz"
      },
      "execution_count": 21,
      "outputs": []
    },
    {
      "cell_type": "code",
      "source": [
        "re.findall(r'[^!.?]+',test_phrase)"
      ],
      "metadata": {
        "colab": {
          "base_uri": "https://localhost:8080/"
        },
        "id": "3cKwp3msG3n_",
        "outputId": "55c2e3c6-ccd3-481c-eed2-5d6733ebb5db"
      },
      "execution_count": 22,
      "outputs": [
        {
          "output_type": "execute_result",
          "data": {
            "text/plain": [
              "['This is a string', ' But it has punctuation', ' How can we remove it']"
            ]
          },
          "metadata": {},
          "execution_count": 22
        }
      ]
    },
    {
      "cell_type": "code",
      "source": [
        "clean = re.findall(r'[^!.?]+',test_phrase)"
      ],
      "metadata": {
        "id": "Fpv6-XFbHEZb"
      },
      "execution_count": 23,
      "outputs": []
    },
    {
      "cell_type": "code",
      "source": [
        "' '.join(clean)"
      ],
      "metadata": {
        "colab": {
          "base_uri": "https://localhost:8080/",
          "height": 36
        },
        "id": "8znAQFSVHQoF",
        "outputId": "fc46e2d7-8ba0-4da1-c9e2-1872030e8520"
      },
      "execution_count": 24,
      "outputs": [
        {
          "output_type": "execute_result",
          "data": {
            "text/plain": [
              "'This is a string  But it has punctuation  How can we remove it'"
            ],
            "application/vnd.google.colaboratory.intrinsic+json": {
              "type": "string"
            }
          },
          "metadata": {},
          "execution_count": 24
        }
      ]
    },
    {
      "cell_type": "code",
      "source": [],
      "metadata": {
        "id": "0GP3ApiuHUVl"
      },
      "execution_count": null,
      "outputs": []
    },
    {
      "cell_type": "code",
      "source": [],
      "metadata": {
        "id": "7PWZakDQHfDf"
      },
      "execution_count": null,
      "outputs": []
    },
    {
      "cell_type": "code",
      "source": [
        "text = 'Only find the hyphen-words, but you done know how long-is it'"
      ],
      "metadata": {
        "id": "t_d7d3N-HfFw"
      },
      "execution_count": 25,
      "outputs": []
    },
    {
      "cell_type": "code",
      "source": [
        "pattern = r'[\\w]+-[\\w]+'"
      ],
      "metadata": {
        "id": "vUN8OqVZICVR"
      },
      "execution_count": 26,
      "outputs": []
    },
    {
      "cell_type": "code",
      "source": [
        "re.findall(pattern,text)"
      ],
      "metadata": {
        "colab": {
          "base_uri": "https://localhost:8080/"
        },
        "id": "7Yw-ABQyIKfB",
        "outputId": "11443023-4980-46c2-d196-e031f80c8657"
      },
      "execution_count": 27,
      "outputs": [
        {
          "output_type": "execute_result",
          "data": {
            "text/plain": [
              "['hyphen-words', 'long-is']"
            ]
          },
          "metadata": {},
          "execution_count": 27
        }
      ]
    },
    {
      "cell_type": "code",
      "source": [
        "sample = 'Hello am a catfish'\n",
        "sample1 = 'Hello am a catnap'\n",
        "sample2 = 'Hello am a caterpillar'"
      ],
      "metadata": {
        "id": "2DnKHcpAIOpy"
      },
      "execution_count": 28,
      "outputs": []
    },
    {
      "cell_type": "code",
      "source": [
        "re.findall(r'cat(fish|nap|erpillar)',sample2)"
      ],
      "metadata": {
        "colab": {
          "base_uri": "https://localhost:8080/"
        },
        "id": "Law-YIZYI5C5",
        "outputId": "beb8d10f-8880-43cb-f918-9d91d0c6d7e5"
      },
      "execution_count": 31,
      "outputs": [
        {
          "output_type": "execute_result",
          "data": {
            "text/plain": [
              "['erpillar']"
            ]
          },
          "metadata": {},
          "execution_count": 31
        }
      ]
    },
    {
      "cell_type": "code",
      "source": [
        "re.search(r'cat(fish|nap|erpillar)',sample1)"
      ],
      "metadata": {
        "colab": {
          "base_uri": "https://localhost:8080/"
        },
        "id": "NrALUK7gJH5X",
        "outputId": "00669f3e-a022-4a4c-afec-cfc89c7020b8"
      },
      "execution_count": 32,
      "outputs": [
        {
          "output_type": "execute_result",
          "data": {
            "text/plain": [
              "<re.Match object; span=(11, 17), match='catnap'>"
            ]
          },
          "metadata": {},
          "execution_count": 32
        }
      ]
    }
  ]
}