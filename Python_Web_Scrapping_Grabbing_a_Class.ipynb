{
  "nbformat": 4,
  "nbformat_minor": 0,
  "metadata": {
    "colab": {
      "provenance": [],
      "authorship_tag": "ABX9TyPI4Avop1LbDbNTsHPFD0G1",
      "include_colab_link": true
    },
    "kernelspec": {
      "name": "python3",
      "display_name": "Python 3"
    },
    "language_info": {
      "name": "python"
    }
  },
  "cells": [
    {
      "cell_type": "markdown",
      "metadata": {
        "id": "view-in-github",
        "colab_type": "text"
      },
      "source": [
        "<a href=\"https://colab.research.google.com/github/Roopakrpk/My_Python_Code/blob/main/Python_Web_Scrapping_Grabbing_a_Class.ipynb\" target=\"_parent\"><img src=\"https://colab.research.google.com/assets/colab-badge.svg\" alt=\"Open In Colab\"/></a>"
      ]
    },
    {
      "cell_type": "code",
      "execution_count": 2,
      "metadata": {
        "id": "8RBW4UrKwjMs"
      },
      "outputs": [],
      "source": [
        "import requests"
      ]
    },
    {
      "cell_type": "code",
      "source": [
        "import bs4"
      ],
      "metadata": {
        "id": "PE43QtszxfYo"
      },
      "execution_count": 5,
      "outputs": []
    },
    {
      "cell_type": "code",
      "source": [
        "res = requests.get('https://en.wikipedia.org/wiki/Grace_Hopper')"
      ],
      "metadata": {
        "id": "QMwwmDMzxJvP"
      },
      "execution_count": 3,
      "outputs": []
    },
    {
      "cell_type": "code",
      "source": [
        "soup = bs4.BeautifulSoup(res.text,'lxml')"
      ],
      "metadata": {
        "id": "OHS4d6AKxV5v"
      },
      "execution_count": 6,
      "outputs": []
    },
    {
      "cell_type": "code",
      "source": [
        "#soup"
      ],
      "metadata": {
        "id": "ZJ3W54rpxeJM"
      },
      "execution_count": 8,
      "outputs": []
    },
    {
      "cell_type": "code",
      "source": [
        "first_item = soup.select('.infobox-label')[0]"
      ],
      "metadata": {
        "id": "0nFiCBh9xlar"
      },
      "execution_count": 32,
      "outputs": []
    },
    {
      "cell_type": "code",
      "source": [
        "first_item"
      ],
      "metadata": {
        "colab": {
          "base_uri": "https://localhost:8080/"
        },
        "id": "3DBFxDy3yTZt",
        "outputId": "b31039af-a125-4362-d953-8867eb6ba04a"
      },
      "execution_count": 33,
      "outputs": [
        {
          "output_type": "execute_result",
          "data": {
            "text/plain": [
              "<th class=\"infobox-label\" scope=\"row\">Born</th>"
            ]
          },
          "metadata": {},
          "execution_count": 33
        }
      ]
    },
    {
      "cell_type": "code",
      "source": [
        "for item in soup.select('.infobox-label'):\n",
        "  print(item.text)"
      ],
      "metadata": {
        "colab": {
          "base_uri": "https://localhost:8080/"
        },
        "id": "K_TxTLXczyxa",
        "outputId": "fd2c8192-31c0-4f30-e1cc-998a0291e718"
      },
      "execution_count": 35,
      "outputs": [
        {
          "output_type": "stream",
          "name": "stdout",
          "text": [
            "Born\n",
            "Died\n",
            "Resting place\n",
            "Alma mater\n",
            "Spouse\n",
            "Awards\n",
            "Allegiance\n",
            "Service / branch\n",
            "Years of service\n",
            "Rank\n",
            "Known for\n",
            "Fields\n",
            "Institutions\n",
            "Thesis\n",
            "Doctoral advisor\n"
          ]
        }
      ]
    }
  ]
}